{
 "cells": [
  {
   "cell_type": "markdown",
   "metadata": {},
   "source": [
    "### NUMPY"
   ]
  },
  {
   "cell_type": "code",
   "execution_count": 2,
   "metadata": {},
   "outputs": [],
   "source": [
    "import numpy as np # type: ignore"
   ]
  },
  {
   "cell_type": "code",
   "execution_count": 5,
   "metadata": {},
   "outputs": [
    {
     "name": "stdout",
     "output_type": "stream",
     "text": [
      "[1, 2, 3, 4, 5] <class 'list'>\n",
      "[1 2 3 4 5] <class 'numpy.ndarray'>\n"
     ]
    }
   ],
   "source": [
    "data1 = [1,2,3,4,5]\n",
    "arr1 = np.array(data1)\n",
    "print (data1, type(data1))\n",
    "print (arr1, type(arr1))"
   ]
  },
  {
   "cell_type": "code",
   "execution_count": 7,
   "metadata": {},
   "outputs": [
    {
     "name": "stdout",
     "output_type": "stream",
     "text": [
      "[range(1, 5), range(5, 9)] <class 'list'>\n",
      "[[1 2 3 4]\n",
      " [5 6 7 8]] <class 'numpy.ndarray'>\n"
     ]
    }
   ],
   "source": [
    "data2 = [range(1,5), range(5,9)]\n",
    "arr2 = np.array(data2)\n",
    "print (data2, type(data2))\n",
    "print (arr2, type(arr2))"
   ]
  },
  {
   "cell_type": "code",
   "execution_count": 8,
   "metadata": {},
   "outputs": [
    {
     "name": "stdout",
     "output_type": "stream",
     "text": [
      "[[1, 2, 3, 4], [5, 6, 7, 8]] <class 'list'>\n"
     ]
    }
   ],
   "source": [
    "list2 = arr2.tolist()\n",
    "print (list2, type(list2))"
   ]
  },
  {
   "cell_type": "code",
   "execution_count": 9,
   "metadata": {},
   "outputs": [
    {
     "name": "stdout",
     "output_type": "stream",
     "text": [
      "[1, 2, 3, 4]\n"
     ]
    }
   ],
   "source": [
    "print (list(range(1,5)))"
   ]
  },
  {
   "cell_type": "code",
   "execution_count": 15,
   "metadata": {},
   "outputs": [
    {
     "name": "stdout",
     "output_type": "stream",
     "text": [
      "[1 2 3 4 5] <class 'numpy.ndarray'> 2110571150864\n",
      "[[1 2 3 4]\n",
      " [5 6 7 8]] <class 'numpy.ndarray'> 2110571525008\n",
      "int32\n",
      "int32\n",
      "(5,) <class 'tuple'>\n",
      "(2, 4) <class 'tuple'>\n",
      "1\n",
      "2\n",
      "5\n"
     ]
    }
   ],
   "source": [
    "print (arr1, type(arr1), id(arr1))\n",
    "print (arr2, type(arr2), id(arr2))\n",
    "print (arr1.dtype)\n",
    "print (arr2.dtype)\n",
    "print (arr1.shape, type(arr1.shape))\n",
    "print (arr2.shape, type(arr2.shape))\n",
    "print (arr1.ndim)\n",
    "print (arr2.ndim)\n",
    "print (arr1.size)"
   ]
  },
  {
   "cell_type": "code",
   "execution_count": 17,
   "metadata": {},
   "outputs": [
    {
     "data": {
      "text/plain": [
       "array([1. +9.j, 3.-25.j, 5. +0.j, 7. +0.j])"
      ]
     },
     "execution_count": 17,
     "metadata": {},
     "output_type": "execute_result"
    }
   ],
   "source": [
    "a = np.array([1 +9j, 3-25j, 5,7], dtype = complex)\n",
    "a"
   ]
  },
  {
   "cell_type": "code",
   "execution_count": 26,
   "metadata": {},
   "outputs": [
    {
     "name": "stdout",
     "output_type": "stream",
     "text": [
      "[[ 1  2 30]\n",
      " [10 15 24]]\n",
      "30\n",
      "1\n",
      "82\n",
      "[[1.         1.41421356 5.47722558]\n",
      " [3.16227766 3.87298335 4.89897949]]\n",
      "10.6874796945876\n"
     ]
    }
   ],
   "source": [
    "a = np.array([[1,2,30],[10,15,24]])\n",
    "print(a)\n",
    "print(a.max())\n",
    "print(a.min())\n",
    "print(a.sum())\n",
    "print(np.sqrt(a))\n",
    "print(np.std(a))"
   ]
  },
  {
   "cell_type": "code",
   "execution_count": 28,
   "metadata": {},
   "outputs": [
    {
     "name": "stdout",
     "output_type": "stream",
     "text": [
      "[ 7 16 27 16 10]\n"
     ]
    }
   ],
   "source": [
    "a = np.array([1,2,3,4,5])\n",
    "b = np.array([7,8,9,4,2])\n",
    "c = a * b\n",
    "print (c)"
   ]
  },
  {
   "cell_type": "code",
   "execution_count": 29,
   "metadata": {},
   "outputs": [
    {
     "name": "stdout",
     "output_type": "stream",
     "text": [
      "1 2 30 10 15 24 "
     ]
    }
   ],
   "source": [
    "a = np.array([[1,2,30],[10,15,24]])\n",
    "\n",
    "for x in np.nditer(a):\n",
    "    print(x, end =\" \")"
   ]
  },
  {
   "cell_type": "code",
   "execution_count": 7,
   "metadata": {},
   "outputs": [
    {
     "name": "stdout",
     "output_type": "stream",
     "text": [
      "[1. 1. 1. 1. 1.]\n",
      "[[ True  True  True  True  True  True]\n",
      " [ True  True  True  True  True  True]\n",
      " [ True  True  True  True  True  True]]\n",
      "[[1 1 1 1 1 1]\n",
      " [1 1 1 1 1 1]\n",
      " [1 1 1 1 1 1]]\n",
      "[[False False False False False False]\n",
      " [False False False False False False]\n",
      " [False False False False False False]]\n"
     ]
    }
   ],
   "source": [
    "print (np.ones(5))\n",
    "print (np.ones((3, 6), dtype = bool))\n",
    "print (np.ones((3, 6), dtype = int))\n",
    "print (np.zeros((3, 6), dtype = bool))"
   ]
  },
  {
   "cell_type": "code",
   "execution_count": 12,
   "metadata": {},
   "outputs": [
    {
     "name": "stdout",
     "output_type": "stream",
     "text": [
      "[1 2 3]\n",
      "[[1 2 3 1 2 3]\n",
      " [1 2 3 1 2 3]\n",
      " [1 2 3 1 2 3]]\n"
     ]
    }
   ],
   "source": [
    "original_array = np.array([1, 2, 3])\n",
    "print (original_array)\n",
    "\n",
    "tiled_array = np.tile(original_array, (3, 2))\n",
    "print (tiled_array)"
   ]
  },
  {
   "cell_type": "code",
   "execution_count": 14,
   "metadata": {},
   "outputs": [
    {
     "name": "stdout",
     "output_type": "stream",
     "text": [
      "[[17 17 17 17]\n",
      " [17 17 17 17]\n",
      " [17 17 17 17]\n",
      " [17 17 17 17]]\n"
     ]
    }
   ],
   "source": [
    "a = np.full([4, 4], 17)\n",
    "print (a)"
   ]
  },
  {
   "cell_type": "code",
   "execution_count": 42,
   "metadata": {},
   "outputs": [
    {
     "name": "stdout",
     "output_type": "stream",
     "text": [
      "27\n",
      "75\n"
     ]
    }
   ],
   "source": [
    "random_array_1 = np.random.randint(100)\n",
    "print (random_array_1)\n",
    "\n",
    "np.random.seed(12)\n",
    "random_array_2 = np.random.randint(100)\n",
    "print (random_array_2)"
   ]
  },
  {
   "cell_type": "code",
   "execution_count": 46,
   "metadata": {},
   "outputs": [
    {
     "name": "stdout",
     "output_type": "stream",
     "text": [
      "[1 2 3 4 5]\n",
      "[ 1  3  6 10 15]\n",
      "[ 1  3  6 10 15]\n"
     ]
    }
   ],
   "source": [
    "arr = np.array([1, 2, 3, 4, 5])\n",
    "\n",
    "print (arr)\n",
    "\n",
    "accumulate_result = np.add.accumulate(arr)\n",
    "print (accumulate_result)\n",
    "\n",
    "cumsum_result = np.cumsum(arr)\n",
    "\n",
    "print (cumsum_result)"
   ]
  },
  {
   "cell_type": "code",
   "execution_count": 55,
   "metadata": {},
   "outputs": [
    {
     "name": "stdout",
     "output_type": "stream",
     "text": [
      "Collecting matplotlib\n",
      "  Downloading matplotlib-3.9.0-cp39-cp39-win_amd64.whl (7.9 MB)\n",
      "Collecting kiwisolver>=1.3.1\n",
      "  Downloading kiwisolver-1.4.5-cp39-cp39-win_amd64.whl (56 kB)\n",
      "Requirement already satisfied: fonttools>=4.22.0 in c:\\users\\91629\\appdata\\local\\programs\\python\\python39\\lib\\site-packages (from matplotlib) (4.53.0)\n",
      "Collecting contourpy>=1.0.1\n",
      "  Downloading contourpy-1.2.1-cp39-cp39-win_amd64.whl (182 kB)\n",
      "Requirement already satisfied: packaging>=20.0 in c:\\users\\91629\\appdata\\roaming\\python\\python39\\site-packages (from matplotlib) (24.0)\n",
      "Requirement already satisfied: pillow>=8 in c:\\users\\91629\\appdata\\local\\programs\\python\\python39\\lib\\site-packages (from matplotlib) (10.3.0)\n",
      "Requirement already satisfied: python-dateutil>=2.7 in c:\\users\\91629\\appdata\\roaming\\python\\python39\\site-packages (from matplotlib) (2.9.0.post0)\n",
      "Collecting pyparsing>=2.3.1\n",
      "  Downloading pyparsing-3.1.2-py3-none-any.whl (103 kB)\n",
      "Requirement already satisfied: numpy>=1.23 in c:\\users\\91629\\appdata\\local\\programs\\python\\python39\\lib\\site-packages (from matplotlib) (1.26.4)\n",
      "Collecting importlib-resources>=3.2.0\n",
      "  Downloading importlib_resources-6.4.0-py3-none-any.whl (38 kB)\n",
      "Collecting cycler>=0.10\n",
      "  Downloading cycler-0.12.1-py3-none-any.whl (8.3 kB)\n",
      "Requirement already satisfied: zipp>=3.1.0 in c:\\users\\91629\\appdata\\roaming\\python\\python39\\site-packages (from importlib-resources>=3.2.0->matplotlib) (3.19.0)\n",
      "Requirement already satisfied: six>=1.5 in c:\\users\\91629\\appdata\\roaming\\python\\python39\\site-packages (from python-dateutil>=2.7->matplotlib) (1.16.0)\n",
      "Installing collected packages: pyparsing, kiwisolver, importlib-resources, cycler, contourpy, matplotlib\n",
      "Successfully installed contourpy-1.2.1 cycler-0.12.1 importlib-resources-6.4.0 kiwisolver-1.4.5 matplotlib-3.9.0 pyparsing-3.1.2\n",
      "Note: you may need to restart the kernel to use updated packages.\n"
     ]
    },
    {
     "name": "stderr",
     "output_type": "stream",
     "text": [
      "WARNING: You are using pip version 21.1.1; however, version 24.0 is available.\n",
      "You should consider upgrading via the 'c:\\Users\\91629\\AppData\\Local\\Programs\\Python\\Python39\\python.exe -m pip install --upgrade pip' command.\n"
     ]
    }
   ],
   "source": [
    "%pip install matplotlib"
   ]
  },
  {
   "cell_type": "code",
   "execution_count": 3,
   "metadata": {},
   "outputs": [
    {
     "name": "stdout",
     "output_type": "stream",
     "text": [
      "[[1 2 3]\n",
      " [1 2 3]\n",
      " [1 2 3]]\n",
      "\n",
      "[[4 4 4]\n",
      " [5 5 5]\n",
      " [6 6 6]]\n",
      "\n",
      " [[17 20 25]\n",
      " [26 29 34]\n",
      " [37 40 45]]\n"
     ]
    },
    {
     "data": {
      "image/png": "[encoded data removed]",
      "text/plain": [
       "<Figure size 640x480 with 1 Axes>"
      ]
     },
     "metadata": {},
     "output_type": "display_data"
    }
   ],
   "source": [
    "# create coordinate vector\n",
    "import matplotlib.pyplot as plt # type: ignore\n",
    "\n",
    "\n",
    "x = np.array([1, 2, 3])\n",
    "y = np.array([4, 5, 6])\n",
    "\n",
    "xx, yy = np.meshgrid(x, y)\n",
    "print(xx)\n",
    "print()\n",
    "print(yy)\n",
    "\n",
    "z = xx**2 + yy**2\n",
    "\n",
    "print(\"\\n\", z)\n",
    "\n",
    "\n",
    "fig = plt.figure()\n",
    "ax = fig.add_subplot(111, projection='3d')\n",
    "ax.plot_surface(xx, yy, z, cmap='viridis')\n",
    "\n",
    "ax.set_xlabel('X-Axis')\n",
    "ax.set_ylabel('Y-Axis')\n",
    "ax.set_zlabel('Z-Axis')\n",
    "ax.set_title('Surface plot of f(x, y) = x^2 + y^2')\n",
    "plt.show()"
   ]
  },
  {
   "cell_type": "code",
   "execution_count": 3,
   "metadata": {},
   "outputs": [
    {
     "name": "stdout",
     "output_type": "stream",
     "text": [
      "[[1 2 3]\n",
      " [1 2 3]\n",
      " [1 2 3]]\n",
      "\n",
      "[[4 4 4]\n",
      " [5 5 5]\n",
      " [6 6 6]]\n"
     ]
    },
    {
     "data": {
      "application/vnd.plotly.v1+json": {
       "config": {
        "plotlyServerURL": "https://plot.ly"
       },
       "data": [
        {
         "type": "surface",
         "x": [
          [
           1,
           2,
           3
          ],
          [
           1,
           2,
           3
          ],
          [
           1,
           2,
           3
          ]
         ],
         "y": [
          [
           4,
           4,
           4
          ],
          [
           5,
           5,
           5
          ],
          [
           6,
           6,
           6
          ]
         ],
         "z": [
          [
           17,
           20,
           25
          ],
          [
           26,
           29,
           34
          ],
          [
           37,
           40,
           45
          ]
         ]
        }
       ],
       "layout": {
        "scene": {
         "xaxis": {
          "title": {
           "text": "X"
          }
         },
         "yaxis": {
          "title": {
           "text": "Y"
          }
         },
         "zaxis": {
          "title": {
           "text": "Z"
          }
         }
        },
        "template": {
         "data": {
          "bar": [
           {
            "error_x": {
             "color": "#2a3f5f"
            },
            "error_y": {
             "color": "#2a3f5f"
            },
            "marker": {
             "line": {
              "color": "#E5ECF6",
              "width": 0.5
             },
             "pattern": {
              "fillmode": "overlay",
              "size": 10,
              "solidity": 0.2
             }
            },
            "type": "bar"
           }
          ],
          "barpolar": [
           {
            "marker": {
             "line": {
              "color": "#E5ECF6",
              "width": 0.5
             },
             "pattern": {
              "fillmode": "overlay",
              "size": 10,
              "solidity": 0.2
             }
            },
            "type": "barpolar"
           }
          ],
          "carpet": [
           {
            "aaxis": {
             "endlinecolor": "#2a3f5f",
             "gridcolor": "white",
             "linecolor": "white",
             "minorgridcolor": "white",
             "startlinecolor": "#2a3f5f"
            },
            "baxis": {
             "endlinecolor": "#2a3f5f",
             "gridcolor": "white",
             "linecolor": "white",
             "minorgridcolor": "white",
             "startlinecolor": "#2a3f5f"
            },
            "type": "carpet"
           }
          ],
          "choropleth": [
           {
            "colorbar": {
             "outlinewidth": 0,
             "ticks": ""
            },
            "type": "choropleth"
           }
          ],
          "contour": [
           {
            "colorbar": {
             "outlinewidth": 0,
             "ticks": ""
            },
            "colorscale": [
             [
              0,
              "#0d0887"
             ],
             [
              0.1111111111111111,
              "#46039f"
             ],
             [
              0.2222222222222222,
              "#7201a8"
             ],
             [
              0.3333333333333333,
              "#9c179e"
             ],
             [
              0.4444444444444444,
              "#bd3786"
             ],
             [
              0.5555555555555556,
              "#d8576b"
             ],
             [
              0.6666666666666666,
              "#ed7953"
             ],
             [
              0.7777777777777778,
              "#fb9f3a"
             ],
             [
              0.8888888888888888,
              "#fdca26"
             ],
             [
              1,
              "#f0f921"
             ]
            ],
            "type": "contour"
           }
          ],
          "contourcarpet": [
           {
            "colorbar": {
             "outlinewidth": 0,
             "ticks": ""
            },
            "type": "contourcarpet"
           }
          ],
          "heatmap": [
           {
            "colorbar": {
             "outlinewidth": 0,
             "ticks": ""
            },
            "colorscale": [
             [
              0,
              "#0d0887"
             ],
             [
              0.1111111111111111,
              "#46039f"
             ],
             [
              0.2222222222222222,
              "#7201a8"
             ],
             [
              0.3333333333333333,
              "#9c179e"
             ],
             [
              0.4444444444444444,
              "#bd3786"
             ],
             [
              0.5555555555555556,
              "#d8576b"
             ],
             [
              0.6666666666666666,
              "#ed7953"
             ],
             [
              0.7777777777777778,
              "#fb9f3a"
             ],
             [
              0.8888888888888888,
              "#fdca26"
             ],
             [
              1,
              "#f0f921"
             ]
            ],
            "type": "heatmap"
           }
          ],
          "heatmapgl": [
           {
            "colorbar": {
             "outlinewidth": 0,
             "ticks": ""
            },
            "colorscale": [
             [
              0,
              "#0d0887"
             ],
             [
              0.1111111111111111,
              "#46039f"
             ],
             [
              0.2222222222222222,
              "#7201a8"
             ],
             [
              0.3333333333333333,
              "#9c179e"
             ],
             [
              0.4444444444444444,
              "#bd3786"
             ],
             [
              0.5555555555555556,
              "#d8576b"
             ],
             [
              0.6666666666666666,
              "#ed7953"
             ],
             [
              0.7777777777777778,
              "#fb9f3a"
             ],
             [
              0.8888888888888888,
              "#fdca26"
             ],
             [
              1,
              "#f0f921"
             ]
            ],
            "type": "heatmapgl"
           }
          ],
          "histogram": [
           {
            "marker": {
             "pattern": {
              "fillmode": "overlay",
              "size": 10,
              "solidity": 0.2
             }
            },
            "type": "histogram"
           }
          ],
          "histogram2d": [
           {
            "colorbar": {
             "outlinewidth": 0,
             "ticks": ""
            },
            "colorscale": [
             [
              0,
              "#0d0887"
             ],
             [
              0.1111111111111111,
              "#46039f"
             ],
             [
              0.2222222222222222,
              "#7201a8"
             ],
             [
              0.3333333333333333,
              "#9c179e"
             ],
             [
              0.4444444444444444,
              "#bd3786"
             ],
             [
              0.5555555555555556,
              "#d8576b"
             ],
             [
              0.6666666666666666,
              "#ed7953"
             ],
             [
              0.7777777777777778,
              "#fb9f3a"
             ],
             [
              0.8888888888888888,
              "#fdca26"
             ],
             [
              1,
              "#f0f921"
             ]
            ],
            "type": "histogram2d"
           }
          ],
          "histogram2dcontour": [
           {
            "colorbar": {
             "outlinewidth": 0,
             "ticks": ""
            },
            "colorscale": [
             [
              0,
              "#0d0887"
             ],
             [
              0.1111111111111111,
              "#46039f"
             ],
             [
              0.2222222222222222,
              "#7201a8"
             ],
             [
              0.3333333333333333,
              "#9c179e"
             ],
             [
              0.4444444444444444,
              "#bd3786"
             ],
             [
              0.5555555555555556,
              "#d8576b"
             ],
             [
              0.6666666666666666,
              "#ed7953"
             ],
             [
              0.7777777777777778,
              "#fb9f3a"
             ],
             [
              0.8888888888888888,
              "#fdca26"
             ],
             [
              1,
              "#f0f921"
             ]
            ],
            "type": "histogram2dcontour"
           }
          ],
          "mesh3d": [
           {
            "colorbar": {
             "outlinewidth": 0,
             "ticks": ""
            },
            "type": "mesh3d"
           }
          ],
          "parcoords": [
           {
            "line": {
             "colorbar": {
              "outlinewidth": 0,
              "ticks": ""
             }
            },
            "type": "parcoords"
           }
          ],
          "pie": [
           {
            "automargin": true,
            "type": "pie"
           }
          ],
          "scatter": [
           {
            "fillpattern": {
             "fillmode": "overlay",
             "size": 10,
             "solidity": 0.2
            },
            "type": "scatter"
           }
          ],
          "scatter3d": [
           {
            "line": {
             "colorbar": {
              "outlinewidth": 0,
              "ticks": ""
             }
            },
            "marker": {
             "colorbar": {
              "outlinewidth": 0,
              "ticks": ""
             }
            },
            "type": "scatter3d"
           }
          ],
          "scattercarpet": [
           {
            "marker": {
             "colorbar": {
              "outlinewidth": 0,
              "ticks": ""
             }
            },
            "type": "scattercarpet"
           }
          ],
          "scattergeo": [
           {
            "marker": {
             "colorbar": {
              "outlinewidth": 0,
              "ticks": ""
             }
            },
            "type": "scattergeo"
           }
          ],
          "scattergl": [
           {
            "marker": {
             "colorbar": {
              "outlinewidth": 0,
              "ticks": ""
             }
            },
            "type": "scattergl"
           }
          ],
          "scattermapbox": [
           {
            "marker": {
             "colorbar": {
              "outlinewidth": 0,
              "ticks": ""
             }
            },
            "type": "scattermapbox"
           }
          ],
          "scatterpolar": [
           {
            "marker": {
             "colorbar": {
              "outlinewidth": 0,
              "ticks": ""
             }
            },
            "type": "scatterpolar"
           }
          ],
          "scatterpolargl": [
           {
            "marker": {
             "colorbar": {
              "outlinewidth": 0,
              "ticks": ""
             }
            },
            "type": "scatterpolargl"
           }
          ],
          "scatterternary": [
           {
            "marker": {
             "colorbar": {
              "outlinewidth": 0,
              "ticks": ""
             }
            },
            "type": "scatterternary"
           }
          ],
          "surface": [
           {
            "colorbar": {
             "outlinewidth": 0,
             "ticks": ""
            },
            "colorscale": [
             [
              0,
              "#0d0887"
             ],
             [
              0.1111111111111111,
              "#46039f"
             ],
             [
              0.2222222222222222,
              "#7201a8"
             ],
             [
              0.3333333333333333,
              "#9c179e"
             ],
             [
              0.4444444444444444,
              "#bd3786"
             ],
             [
              0.5555555555555556,
              "#d8576b"
             ],
             [
              0.6666666666666666,
              "#ed7953"
             ],
             [
              0.7777777777777778,
              "#fb9f3a"
             ],
             [
              0.8888888888888888,
              "#fdca26"
             ],
             [
              1,
              "#f0f921"
             ]
            ],
            "type": "surface"
           }
          ],
          "table": [
           {
            "cells": {
             "fill": {
              "color": "#EBF0F8"
             },
             "line": {
              "color": "white"
             }
            },
            "header": {
             "fill": {
              "color": "#C8D4E3"
             },
             "line": {
              "color": "white"
             }
            },
            "type": "table"
           }
          ]
         },
         "layout": {
          "annotationdefaults": {
           "arrowcolor": "#2a3f5f",
           "arrowhead": 0,
           "arrowwidth": 1
          },
          "autotypenumbers": "strict",
          "coloraxis": {
           "colorbar": {
            "outlinewidth": 0,
            "ticks": ""
           }
          },
          "colorscale": {
           "diverging": [
            [
             0,
             "#8e0152"
            ],
            [
             0.1,
             "#c51b7d"
            ],
            [
             0.2,
             "#de77ae"
            ],
            [
             0.3,
             "#f1b6da"
            ],
            [
             0.4,
             "#fde0ef"
            ],
            [
             0.5,
             "#f7f7f7"
            ],
            [
             0.6,
             "#e6f5d0"
            ],
            [
             0.7,
             "#b8e186"
            ],
            [
             0.8,
             "#7fbc41"
            ],
            [
             0.9,
             "#4d9221"
            ],
            [
             1,
             "#276419"
            ]
           ],
           "sequential": [
            [
             0,
             "#0d0887"
            ],
            [
             0.1111111111111111,
             "#46039f"
            ],
            [
             0.2222222222222222,
             "#7201a8"
            ],
            [
             0.3333333333333333,
             "#9c179e"
            ],
            [
             0.4444444444444444,
             "#bd3786"
            ],
            [
             0.5555555555555556,
             "#d8576b"
            ],
            [
             0.6666666666666666,
             "#ed7953"
            ],
            [
             0.7777777777777778,
             "#fb9f3a"
            ],
            [
             0.8888888888888888,
             "#fdca26"
            ],
            [
             1,
             "#f0f921"
            ]
           ],
           "sequentialminus": [
            [
             0,
             "#0d0887"
            ],
            [
             0.1111111111111111,
             "#46039f"
            ],
            [
             0.2222222222222222,
             "#7201a8"
            ],
            [
             0.3333333333333333,
             "#9c179e"
            ],
            [
             0.4444444444444444,
             "#bd3786"
            ],
            [
             0.5555555555555556,
             "#d8576b"
            ],
            [
             0.6666666666666666,
             "#ed7953"
            ],
            [
             0.7777777777777778,
             "#fb9f3a"
            ],
            [
             0.8888888888888888,
             "#fdca26"
            ],
            [
             1,
             "#f0f921"
            ]
           ]
          },
          "colorway": [
           "#636efa",
           "#EF553B",
           "#00cc96",
           "#ab63fa",
           "#FFA15A",
           "#19d3f3",
           "#FF6692",
           "#B6E880",
           "#FF97FF",
           "#FECB52"
          ],
          "font": {
           "color": "#2a3f5f"
          },
          "geo": {
           "bgcolor": "white",
           "lakecolor": "white",
           "landcolor": "#E5ECF6",
           "showlakes": true,
           "showland": true,
           "subunitcolor": "white"
          },
          "hoverlabel": {
           "align": "left"
          },
          "hovermode": "closest",
          "mapbox": {
           "style": "light"
          },
          "paper_bgcolor": "white",
          "plot_bgcolor": "#E5ECF6",
          "polar": {
           "angularaxis": {
            "gridcolor": "white",
            "linecolor": "white",
            "ticks": ""
           },
           "bgcolor": "#E5ECF6",
           "radialaxis": {
            "gridcolor": "white",
            "linecolor": "white",
            "ticks": ""
           }
          },
          "scene": {
           "xaxis": {
            "backgroundcolor": "#E5ECF6",
            "gridcolor": "white",
            "gridwidth": 2,
            "linecolor": "white",
            "showbackground": true,
            "ticks": "",
            "zerolinecolor": "white"
           },
           "yaxis": {
            "backgroundcolor": "#E5ECF6",
            "gridcolor": "white",
            "gridwidth": 2,
            "linecolor": "white",
            "showbackground": true,
            "ticks": "",
            "zerolinecolor": "white"
           },
           "zaxis": {
            "backgroundcolor": "#E5ECF6",
            "gridcolor": "white",
            "gridwidth": 2,
            "linecolor": "white",
            "showbackground": true,
            "ticks": "",
            "zerolinecolor": "white"
           }
          },
          "shapedefaults": {
           "line": {
            "color": "#2a3f5f"
           }
          },
          "ternary": {
           "aaxis": {
            "gridcolor": "white",
            "linecolor": "white",
            "ticks": ""
           },
           "baxis": {
            "gridcolor": "white",
            "linecolor": "white",
            "ticks": ""
           },
           "bgcolor": "#E5ECF6",
           "caxis": {
            "gridcolor": "white",
            "linecolor": "white",
            "ticks": ""
           }
          },
          "title": {
           "x": 0.05
          },
          "xaxis": {
           "automargin": true,
           "gridcolor": "white",
           "linecolor": "white",
           "ticks": "",
           "title": {
            "standoff": 15
           },
           "zerolinecolor": "white",
           "zerolinewidth": 2
          },
          "yaxis": {
           "automargin": true,
           "gridcolor": "white",
           "linecolor": "white",
           "ticks": "",
           "title": {
            "standoff": 15
           },
           "zerolinecolor": "white",
           "zerolinewidth": 2
          }
         }
        },
        "title": {
         "text": "Surface plot of f(x, y) = x^2 + y^2"
        }
       }
      }
     },
     "metadata": {},
     "output_type": "display_data"
    }
   ],
   "source": [
    "import plotly.graph_objects as go # type: ignore\n",
    "\n",
    "x = np.array([1, 2, 3])\n",
    "y = np.array([4, 5, 6])\n",
    "\n",
    "xx, yy = np.meshgrid(x, y)\n",
    "print(xx)\n",
    "print()\n",
    "print(yy)\n",
    "\n",
    "z = xx**2 + yy**2\n",
    "\n",
    "fig = go.Figure(data = [go.Surface(x=xx,y=yy,z=z)])\n",
    "\n",
    "# Set plot layout\n",
    "fig.update_layout(title='Surface plot of f(x, y) = x^2 + y^2',\n",
    "                  scene=dict(xaxis_title='X',\n",
    "                             yaxis_title='Y',\n",
    "                             zaxis_title='Z'))\n",
    "# Show the plot\n",
    "fig.show()"
   ]
  },
  {
   "cell_type": "code",
   "execution_count": 5,
   "metadata": {},
   "outputs": [],
   "source": [
    "import plotly.graph_objects as go"
   ]
  },
  {
   "cell_type": "code",
   "execution_count": 6,
   "metadata": {},
   "outputs": [
    {
     "name": "stdout",
     "output_type": "stream",
     "text": [
      "[[1 2 3]\n",
      " [0 1 4]\n",
      " [5 6 0]]\n",
      "[[-24.  18.   5.]\n",
      " [ 20. -15.  -4.]\n",
      " [ -5.   4.   1.]]\n"
     ]
    }
   ],
   "source": [
    "A = np.array([[1, 2, 3],\n",
    "             [0, 1, 4],\n",
    "             [5, 6, 0]])\n",
    "\n",
    "print (A)\n",
    "\n",
    "A_inv = np.linalg.inv(A)\n",
    "print(A_inv)"
   ]
  },
  {
   "cell_type": "code",
   "execution_count": 7,
   "metadata": {},
   "outputs": [
    {
     "name": "stdout",
     "output_type": "stream",
     "text": [
      "{'xaxis_title': 'X', 'yaxis_title': 'Y', 'zaxis_title': 'Z'}\n"
     ]
    }
   ],
   "source": [
    "scene=dict(xaxis_title='X', yaxis_title='Y', zaxis_title='Z')\n",
    "\n",
    "print (scene)"
   ]
  },
  {
   "cell_type": "markdown",
   "metadata": {},
   "source": [
    "#### Math and Stats"
   ]
  },
  {
   "cell_type": "code",
   "execution_count": 9,
   "metadata": {},
   "outputs": [
    {
     "name": "stdout",
     "output_type": "stream",
     "text": [
      "[[ 0.47845399  0.90541095]\n",
      " [-0.10071872 -0.67186523]\n",
      " [-0.8341875  -0.6444681 ]\n",
      " [ 0.77795943  0.22974899]]\n",
      "0.017541724748510498\n",
      "0.6400181705554941\n",
      "4\n",
      "1\n"
     ]
    }
   ],
   "source": [
    "rnd = np.random.randn(4, 2)\n",
    "print(rnd)\n",
    "print(rnd.mean())\n",
    "print(rnd.std())\n",
    "print(rnd.argmin())\n",
    "print(rnd.argmax())"
   ]
  },
  {
   "cell_type": "code",
   "execution_count": 11,
   "metadata": {},
   "outputs": [
    {
     "name": "stdout",
     "output_type": "stream",
     "text": [
      "[[ 0.21882128 -1.71208493]\n",
      " [-0.35933586 -0.71301612]\n",
      " [-1.04401386  0.4184788 ]\n",
      " [ 0.41251022 -1.46814299]]\n",
      "[-0.77201822 -3.47476524]\n",
      "[-1.49326365 -1.07235198 -0.62553506 -1.05563277]\n"
     ]
    }
   ],
   "source": [
    "rnd = np.random.randn(4, 2)\n",
    "print(rnd)\n",
    "print(rnd.sum(axis=0))\n",
    "print(rnd.sum(axis=1))"
   ]
  },
  {
   "cell_type": "code",
   "execution_count": 12,
   "metadata": {},
   "outputs": [
    {
     "name": "stdout",
     "output_type": "stream",
     "text": [
      "[[-0.31066738 -0.49443493]\n",
      " [-0.20119535 -0.49136689]\n",
      " [-0.61101468 -1.06674328]\n",
      " [ 2.30930051  0.63113753]]\n",
      "2\n",
      "True\n"
     ]
    }
   ],
   "source": [
    "rnd = np.random.randn(4, 2)\n",
    "print(rnd)\n",
    "\n",
    "print((rnd > 0).sum())\n",
    "print((rnd > 0).any())"
   ]
  },
  {
   "cell_type": "code",
   "execution_count": 3,
   "metadata": {},
   "outputs": [
    {
     "name": "stdout",
     "output_type": "stream",
     "text": [
      "[14  5 22  1 22 12  2  8 10  7]\n"
     ]
    }
   ],
   "source": [
    "rnd = np.random.randint(1, 30, 10)\n",
    "print(rnd)"
   ]
  },
  {
   "cell_type": "code",
   "execution_count": 11,
   "metadata": {},
   "outputs": [
    {
     "data": {
      "application/vnd.plotly.v1+json": {
       "config": {
        "plotlyServerURL": "https://plot.ly"
       },
       "data": [
        {
         "alignmentgroup": "True",
         "bingroup": "x",
         "histnorm": "probability density",
         "hovertemplate": "variable=0<br>samples=%{x}<br>probability density=%{y}<extra></extra>",
         "legendgroup": "0",
         "marker": {
          "color": "#636efa",
          "opacity": 0.6,
          "pattern": {
           "shape": ""
          }
         },
         "name": "0",
         "nbinsx": 30,
         "offsetgroup": "0",
         "orientation": "v",
         "showlegend": true,
         "type": "histogram",
         "x": [
          -0.856815015617334,
          0.4079509329339578,
          0.01014888447507895,
          0.27290065841812977,
          -1.8676016416463097,
          1.7736622322004105,
          -0.9921051838006816,
          -1.3064437856293778,
          0.16222771665766308,
          -0.04353007773455298,
          -0.5687310484092793,
          0.9846319166935058,
          0.6388911377378659,
          -0.4149481202270782,
          -1.455588378529872,
          -0.05770119083583511,
          -0.4682641710034382,
          1.2696631490239136,
          -1.5948191048952074,
          1.1489201520714993,
          0.06492176720519184,
          -0.7439053389371818,
          0.7922144847453083,
          -1.4922093024774665,
          0.7528740900837755,
          1.807839333231623,
          0.6703595607943925,
          0.06197384498849433,
          0.5962239739438353,
          -0.7996565347386563,
          -1.671066942494794,
          -0.7531815170510094,
          -1.0098659190510426,
          -0.2636633039138278,
          -0.8587721683852141,
          -3.1820556535747615,
          0.5107364485381957,
          0.29620537748442477,
          1.44034673607622,
          -0.222101780947281,
          0.16053426663792178,
          -1.1227489514159872,
          -0.2867080663810259,
          0.23316134123736312,
          -1.3200900431624867,
          0.45267656162375014,
          1.1641919982651927,
          -0.20417399061974942,
          0.09773917149098926,
          -0.3256339386803098,
          -1.5469145464811267,
          1.0483845056129777,
          1.1749293535761225,
          -1.3185423875290376,
          0.2137282168130817,
          1.1959303321707462,
          0.586381562520743,
          -0.7709104773981079,
          0.6090393964049738,
          -1.7260864865280914,
          -0.6413351932220344,
          0.3972691599049327,
          0.7674938458146323,
          -0.29411971564759837,
          0.7776121002140425,
          -1.2224036757275871,
          0.5588792986648039,
          0.9128747582437134,
          0.35717996935958773,
          1.5657171437654616,
          -1.5783252341712681,
          0.6446671400586785,
          -0.55138214470778,
          -0.27213536039953246,
          0.0658251853781115,
          0.7759804071390263,
          1.0320517110837673,
          0.9602608404204969,
          0.6792167778541802,
          0.7862218709536499,
          0.7254923656063745,
          1.2507164235144799,
          0.8928485471160226,
          -1.078762422508885,
          0.35317119637298255,
          -1.490185599178913,
          -0.0015904445416741308,
          0.7744991093926021,
          -0.01765044682953602,
          2.4081237862916245,
          0.3465435630579326,
          -1.0637699047297346,
          2.602357883857394,
          0.12693511856712963,
          0.803053737863937,
          0.7928663399947474,
          -0.14584014849556806,
          0.4919186856218402,
          -1.09039995603392,
          0.3907868069425778,
          0.8405647901581945,
          -0.4707853250616251,
          -0.23610304210993566,
          1.644739450119058,
          -0.16868565783698553,
          0.24422442872288347,
          0.13197850319480625,
          0.2571765524375368,
          0.8233330854662565,
          -1.6197849465794352,
          -0.5883530407785548,
          -0.7430985225544363,
          0.8488291336119391,
          -0.3290200699317891,
          1.2462885323502655,
          -1.6251791301708851,
          -1.1189179554882256,
          -0.4167471513641659,
          -0.14843035083754158,
          0.7476502578888395,
          -0.12413254124099055,
          0.876628629017902,
          -0.382164579119922,
          0.17855652545351064,
          -0.6630458064668728,
          0.2486583676000861,
          0.016613301103919738,
          1.515287121352035,
          -0.3510832227893056,
          -0.9499431337617216,
          1.3646093562128006,
          0.4802103058449983,
          -0.07081194595242259,
          -1.756329761438202,
          0.5129158164330693,
          0.4581313217788716,
          0.08801114629700131,
          -0.3652068465398703,
          -1.070008857941926,
          1.8221614172013803,
          -0.298197325505601,
          1.6036095354623339,
          0.8862842900267116,
          -0.4461091327522416,
          0.23738590484493977,
          1.621528619722508,
          0.2350459003588168,
          -0.10059062060860433,
          0.8089004248389184,
          0.07934381588785037,
          0.7044217661760274,
          -0.37734692493265853,
          0.6306917252103451,
          1.70832669429808,
          1.36871306579092,
          -3.436185912972587,
          0.9649598589146755,
          -0.6970930736893587,
          1.160705724073021,
          1.160976086744713,
          0.07146620526374671,
          -0.3202069582062385,
          -0.9394236214144798,
          0.19046497789615988,
          2.90328409702916,
          -1.4905962584247634,
          -1.15418426409668,
          1.2504562849591696,
          0.5101844117474232,
          -0.5478964078093053,
          2.236547550029704,
          0.225181107233586,
          1.6223279744439787,
          1.1395878951320102,
          -0.17275951176905927,
          -1.3788497411524603,
          -0.4307240394715243,
          -0.45012236224153623,
          0.7650717015589314,
          -1.0133271786578006,
          0.4881781134333565,
          0.32601842227113614,
          1.9121971065924428,
          0.4445655483294138,
          -1.9870392322784112,
          -0.36812924444408,
          0.22060409794134084,
          1.2471171470304299,
          0.8765876901014572,
          -0.3554857542397009,
          1.325134719302814,
          1.0891745048319403,
          -0.5287098169384978,
          -0.36527530854260043,
          0.5013702762256151,
          0.2708049398006113,
          -0.36020066290273706,
          -1.4097397403367289,
          0.8729747825953262,
          0.45319018826938956,
          -0.44329262699352506,
          0.14216347657041567,
          1.5080742373074807,
          -0.1975172594285963,
          0.8612647285485502,
          0.7474398372941641,
          -1.26578150529654,
          0.3732300136259356,
          1.2307356667361267,
          0.7738767119195563,
          -1.1299802956848424,
          0.646889810011244,
          -0.543122202282368,
          -0.14354605987623098,
          1.2845061218506828,
          1.6518377612979032,
          0.6552174279760201,
          0.03851838371922761,
          1.41857195950778,
          -0.27029290616939244,
          -0.15496111592251963,
          -1.537931103123999,
          -1.1184072215860565,
          1.4136563815912424,
          -0.10981412971470314,
          -1.0887923065173337,
          1.3721353187439969,
          -0.2253467560047195,
          -0.16563288098978782,
          0.5825069221421633,
          0.6559015448084103,
          -0.27343776702875383,
          0.9160296530447957,
          1.9026435282846297,
          -0.4168301384366862,
          0.28235913036054294,
          0.8629683032714452,
          -1.4161587577918588,
          -0.41492940065006495,
          1.1537573940263381,
          -1.8526408807867183,
          1.5476478888171499,
          -0.015638942736182476,
          -2.3458260823050407,
          1.1013158917349313,
          2.219374761211334,
          1.3604190309943347,
          -0.5683800543328762,
          2.049167852657447,
          -0.06845850682518415,
          0.5313730260571912,
          0.6471844561753792,
          0.9217525871575377,
          -0.034153444470800806,
          -1.8350519002602854,
          0.23230893833314528,
          0.99731671319068,
          0.532154185517945,
          0.6521658314676464,
          1.203073344868468,
          1.7130105715152035,
          0.6278052872258151,
          -1.2439721246545645,
          -0.0475062659138145,
          1.1159821105542287,
          -1.3958258587862127,
          -0.06816293826079306,
          -0.22620453501047846,
          -0.3597102352173982,
          1.2754243964258123,
          -1.3624428183636559,
          1.1311010898745175,
          -1.158285840976935,
          0.48758040622518023,
          -0.8829149262633263,
          -1.8656184035398504,
          -0.1440650725735425,
          0.716700676096369,
          -0.6823242136863171,
          1.1638898667739823,
          -1.2917384432740848,
          0.1645022704108813,
          0.8068083254083602,
          0.23286182724952584,
          0.007649905485803653,
          -2.1759631486969773,
          -0.6890441164419931,
          0.29473178579283704,
          0.06626662813506123,
          -2.1823541121658927,
          -0.32752752892736675,
          0.6763821442722766,
          0.8822707119714218,
          0.7008643821687066,
          -1.0368045344783603,
          0.9504290295245461,
          0.8953471028510527,
          -0.4156198461701959,
          -0.6280287906885194,
          -0.24121138231614736,
          -0.9141335528248049,
          -0.19582457910113263,
          0.6902395237286961,
          0.8168000485799243,
          1.040760148059097,
          0.6969899369288918,
          1.0186296301361717,
          -0.5882773128091549,
          -0.4407409907941075,
          0.39235179042711904,
          2.027223594534176,
          0.7431833556269749,
          0.14350064196920975,
          -0.15157691386712155,
          0.1680789066215295,
          1.374866688092826,
          -0.759604139194149,
          -0.38254250510970306,
          -0.43360529930684105,
          -1.338865999615777,
          -0.5658705835521163,
          0.018736040196278496,
          -0.023651314929765174,
          -0.5293987021550577,
          0.11505268081263095,
          0.3411910856871532,
          -0.5415164479584329,
          0.36384228760566256,
          2.1956480404108323,
          0.7164663405493042,
          0.6657517869927294,
          0.8159183828717512,
          -1.233477595779908,
          -0.8275089158103376,
          0.8037611348827284,
          -0.022941044596783113,
          0.18313709442261794,
          -0.7737208814898265,
          -0.3764202836451173,
          0.45087235756677735,
          1.1134416183453129,
          1.175886924203267,
          -1.1291075107149975,
          1.1670644368077252,
          -1.072638561646477,
          -1.1994115228753401,
          1.1632913739688315,
          0.5426775552642219,
          0.12091850813786027,
          -0.47510674988520035,
          2.892325144928447,
          0.11059264390303858,
          0.05555545372780911,
          2.550090608127166,
          -0.4398117593031777,
          1.4635524695498292,
          0.02338279023004803,
          -0.6023089171807382,
          0.6106086622824386,
          -0.9317912581660506,
          0.37194855625636136,
          0.5039988651495054,
          0.39728362816697455,
          1.3930600332861889,
          1.067519488102295,
          -2.0501197510654467,
          -1.0304735143885624,
          3.4033844714736134,
          -0.17379783992199668,
          0.4650889513609902,
          0.05015984028358545,
          0.5907872273386826,
          0.23242524759241853,
          -1.2367262676628823,
          0.9672938887325296,
          -0.4743438826970214,
          -0.23449171994345908,
          0.8166565384649547,
          -0.6058241296771951,
          -0.6239540077072876,
          0.2271433133155615,
          -0.21805063659522875,
          0.4669823881959023,
          -1.271214243004506,
          -0.010347594046170293,
          0.5476069125027085,
          1.4768280692027245,
          0.032956077869598435,
          0.21088687370302514,
          -0.41787482245941315,
          -1.4954554136009828,
          -0.6542797440107163,
          -1.3002609474912412,
          0.6045761877450008,
          -0.3461963372321499,
          -0.03312743924017512,
          -0.5007055308165819,
          -0.005134027158378496,
          0.005643333189392469,
          2.4919566760796603,
          1.3101657255983257,
          -0.2363484841686981,
          1.5260127319760286,
          1.3225736739776395,
          -0.6924098755944547,
          0.7326373040339696,
          0.8493849834801751,
          -0.12336591752384853,
          0.32761055208842044,
          0.5697166628771562,
          -2.2439479328190477,
          -0.4129507649672071,
          0.9037466587162714,
          -0.734561147683141,
          0.8316942210524867,
          -1.6561784787915046,
          -0.13988791462377967,
          0.5672630499660092,
          -1.267754572943948,
          -0.044979945950420555,
          -1.4562894553234897,
          0.15509196363964087,
          1.116212035825767,
          -0.4054509928808778,
          0.22140105699799092,
          -0.9832362702217731,
          0.7636690226129597,
          -0.5340084856569223,
          0.1766391287498393,
          -0.04889140635132439,
          0.612632037807487,
          -0.08974747906648434,
          1.814060613238047,
          -0.45751533642140413,
          0.3279932100078644,
          0.3451042871994938,
          0.9051488174893437,
          -2.1348549755153483,
          2.1225256512519417,
          0.453041392198574,
          -0.9166262268951332,
          0.054282604485808086,
          0.5141176070568444,
          0.2627839663032001,
          0.7743009493012492,
          -1.7124296827445435,
          -0.8818547374394657,
          -0.5073603590142647,
          0.3462737500460363,
          0.2818949767008872,
          0.04289687224605791,
          -1.9844848603263539,
          0.008176516814691196,
          0.9323656971787809,
          1.2786176548055888,
          1.425333048756976,
          -0.39479960806873554,
          -0.7436504464846141,
          -1.5830629629231212,
          1.159565135117103,
          0.9067201711656041,
          -1.1699903818294277,
          -0.06330519187587579,
          -1.0856715996509674,
          1.1550938501976884,
          -0.6289913342107776,
          1.0103400292356093,
          -0.45062798163990586,
          -0.5257539596077916,
          0.6621976692182135,
          0.044800330374244246,
          0.7689954942661943,
          2.444378220228287,
          -0.7477541310312306,
          0.6801610104107474,
          -1.4348869316686168,
          1.1829479544887902,
          -0.1951651642375425,
          -1.7731747636726494,
          -0.9419836399209526,
          -0.3871161046799517,
          1.294106620611425,
          -1.1356393534952993,
          -0.8034641020423191,
          2.2384859285582794,
          0.6590584757071137,
          0.1405803041781238,
          1.3913755149853435,
          -0.5594585248891039,
          0.018071417737849798,
          2.189230717409505,
          0.553858686678674,
          0.37271629389831584,
          -0.14713539461921485,
          0.6334775407382679,
          -0.6578628389927095,
          -0.13818609257796433,
          -0.11065252331165085,
          -0.14258449673813614,
          -0.24716125623549168,
          -0.49167923831585025,
          -1.18618226234316,
          -1.2560168709288073,
          -1.1055629047675732,
          -0.72286199127552,
          -0.18241510039280795,
          0.7404635366262551,
          -0.07286258074041727,
          1.3248359628956417,
          0.4445811437380131,
          0.6320641224122943,
          -1.55446485567241,
          0.4191971345329808,
          0.27017854907813177,
          0.3312929944440421,
          -0.4519445910428017,
          0.8576485814073093,
          -0.42920550164418475,
          0.3741680634923232,
          -0.41896107748652917,
          -1.5724492884039278,
          -0.8918979066801259,
          1.4235470153926246,
          -0.29877435601156216,
          -0.5481805224024416,
          -0.6563415181265141,
          0.8318789550027403,
          -0.753566509874129,
          -0.2683367392617856,
          0.16878410328383983,
          -0.45129783743386914,
          -0.14525216657919351,
          -0.5816399774000937,
          1.1663567971112123,
          0.5485997821332439,
          -0.6358204967371281,
          -0.21141839830166193,
          0.6692563404368855,
          0.21127131348275396,
          -0.4364514489508403,
          -0.9783845446764023,
          -2.0623621249093227,
          2.07578903823811,
          2.8875202662482025,
          -0.20610057420108008,
          1.1071353803454271,
          0.4680333941984116,
          -0.7624351143414985,
          -1.0041957775219692,
          1.3753209469991083,
          -0.9716538815593331,
          -1.1587266271110512,
          0.7762088884293008,
          -0.8548040744925711,
          1.6345878110742404,
          2.0328761149008625,
          0.23564056838484967,
          -2.1347082915044986,
          -0.6085745372342853,
          1.1819356829802021,
          -0.39658365566051684,
          1.8758278847051073,
          -0.6300205140400873,
          -0.5103372602612019,
          0.61061021166423,
          -0.48673049177372374,
          -0.10563532597663075,
          -0.24768182661117094,
          -0.250857550196855,
          -0.12192624548231018,
          2.237938926805136,
          -1.0078068622255905,
          0.6377564544006518,
          -1.2137257473044003,
          0.038044210393984555,
          0.31468976975161633,
          -1.5856874860295842,
          -0.5722947539786919,
          -1.5934873933577123,
          -0.9678124349778259,
          0.21533422792235257,
          -0.7031362428231864,
          -1.8798385546961622,
          -1.1895939264005884,
          0.8263865034849149,
          1.354757124437144,
          0.7860549974708034,
          -0.7590133197526462,
          0.703018583581486,
          0.04122398135551207,
          -0.2791275428499559,
          0.16230654669684533,
          1.57032995192995,
          -0.5987320330976666,
          0.16722216730590012,
          0.38554294342815165,
          1.3972384416855628,
          -0.39821827892790485,
          -0.8265070343863035,
          1.3385050989232277,
          0.9307077852280765,
          -0.5183809607730769,
          -0.016652121403070187,
          -0.48326415691274205,
          -1.544350530726144,
          -0.39683134976522944,
          1.5004556550562609,
          0.3571705962796963,
          -0.6969312826667868,
          -0.7357549194387363,
          0.13921322176776624,
          -0.17008620392243318,
          -0.6685616841008118,
          -1.5767096620740537,
          -0.003039481681416824,
          -2.1961796481240046,
          -1.0488470992271306,
          -0.9615477638712139,
          0.06708933708535204,
          0.02100462902165373,
          -0.26712619602436527,
          0.4195800999563717,
          -2.5232220141368606,
          -0.37530403474352836,
          0.3156443111274662,
          1.7525907942488412,
          0.69389572991144,
          -0.7441376016064216,
          -0.02818470260582951,
          0.83940053624939,
          0.5807315294199988,
          -0.60722202004261,
          0.5794886828904854,
          1.6163667143430953,
          0.8615447793133909,
          0.9511817119282242,
          -0.3868216158935516,
          -0.10262115011284723,
          0.48045131002950775,
          -1.395137677214579,
          0.19790047221927054,
          -1.0498383926397852,
          -0.6987667077507302,
          0.5177429281848368,
          0.41014782722146004,
          -0.5420709397435545,
          0.6348186377192834,
          -0.11118221480310256,
          -1.6675482065938627,
          0.7588597735148522,
          -0.4265707651117538,
          0.3495971839903145,
          0.8239483166331502,
          -0.782019621943751,
          0.22940356438974452,
          -0.0967031438682009,
          0.9932836301790056,
          -1.6173670681359704,
          -1.3839683721846625,
          -1.950505110074447,
          -0.10076599363703352,
          0.11757688580336044,
          1.0517793909261757,
          0.16403949091615852,
          0.898705162213303,
          0.8399455461603085,
          0.33029977402029137,
          -0.4852735036088576,
          -0.6698616884497547,
          -0.1915194341141936,
          0.47117204207969815,
          0.5616717975223084,
          0.8430761654754108,
          -0.6948399365127941,
          -0.4062295198315945,
          0.8584633794610459,
          1.0974414177284046,
          -0.03700149703385624,
          0.5219234297057859,
          1.295994996877497,
          0.11418833550236918,
          -0.4064378102252302,
          -0.05181021471940908,
          0.32650303952305915,
          1.8164297544282098,
          -0.17154096271052252,
          -1.4251837270440897,
          -0.06960577564129135,
          -1.6337596068442348,
          -0.8154886290857695,
          1.17775721414639,
          -1.760821870366545,
          0.3789114995783476,
          -0.944925395313936,
          -0.2300101221818049,
          1.6635854673792092,
          0.4716360170168907,
          -0.40998885579251565,
          1.1414236608456618,
          1.1693589457742637,
          0.4594480972637157,
          -0.023381229711132087,
          -1.710323457699112,
          -0.7058402173644422,
          1.3434607442735924,
          0.37728386866880453,
          0.03684746941468341,
          1.515067786873724,
          -0.45697174252193123,
          0.8067918992915011,
          -1.0808022100400407,
          1.0484738045062327,
          -0.4025720535260593,
          -0.1539666808657125,
          -1.1039550354441676,
          -0.27390649422860897,
          -0.8033860607663205,
          0.4822339169323262,
          -0.5852851307085644,
          -1.1853195787635504,
          0.8718636174027563,
          0.5948105582457694,
          -1.9521414081785156,
          -1.3905683793340327,
          1.4092239152403614,
          -1.9440687272228236,
          -0.37499005007764713,
          -0.005020169590752339,
          -0.07995680115585874,
          0.38384898322056366,
          0.04757094807130262,
          0.5450244953063008,
          -0.6295941072234543,
          1.1964765433554478,
          -1.365670512469103,
          -0.2680343930019669,
          0.15135182656726884,
          -0.9882588613601275,
          0.5422453690412906,
          -0.4765008487145673,
          -0.9090363141352714,
          -0.27976582707708686,
          1.5342934589605384,
          0.5364856244464967,
          -1.494775746565704,
          -0.2728825974096479,
          0.08782407863282012,
          -1.3800629482288818,
          0.1745995867944079,
          -0.2282489338045998,
          -0.3871420995596696,
          -1.3130271472321158,
          -1.207553765159944,
          -0.639594983424392,
          -0.23671696298891615,
          -0.27309569631065217,
          0.7093898609223002,
          -0.6325258932755612,
          -1.4962282354324503,
          1.4445631621711026,
          -0.9115176046494838,
          2.079112983346225,
          -0.7949218717856785,
          2.412633931572053,
          0.09812579751424491,
          0.22466201180652148,
          -1.65928357762105,
          0.9119742649813498,
          1.4849337029661671,
          -1.4977458367471437,
          1.8754552473752746,
          -0.42275641751009224,
          -0.13360403697056308,
          -0.026345560883164053,
          -0.8479051366069422,
          -0.859469828700102,
          -1.598986963615778,
          2.1319384625855804,
          0.571458534904862,
          0.4531035245962571,
          -0.043174810019595306,
          0.40998509011413103,
          0.7734860099619885,
          -0.05072916153379405,
          0.05612306611788239,
          -0.285019489969083,
          -0.6508130360650931,
          -0.7498148065456721,
          -1.2506132863184418,
          -0.3879186127885487,
          -0.565362184682546,
          0.038445176064971595,
          1.7298652865442241,
          2.4491110429093808,
          1.7554685555010459,
          0.7681221507846595,
          1.9254536396662967,
          0.4104253258475794,
          0.0064173710313190436,
          -0.1204585279305883,
          1.671036530192504,
          -0.09223861029913187,
          -0.9289865287795834,
          -0.9599386933633929,
          -0.5972908883585103,
          0.5444621768260756,
          -2.0544374884415473,
          -0.23105731201478572,
          0.2070545367118261,
          0.05798112003316859,
          -1.3547742142049328,
          0.8418811195996252,
          0.7548805944186545,
          -0.6227288709189517,
          0.6631108591489768,
          0.6326293425955927,
          0.2279495802208675,
          -0.048269828567768236,
          0.9981374298091595,
          -1.6178955954169407,
          -0.18527646627397368,
          -0.8333363736620852,
          -0.5514529026523063,
          -0.47679036260678315,
          -0.12313539148101116,
          -1.9665309217555988,
          0.6727467940201465,
          -0.8410451015478672,
          0.9935373417798838,
          -0.0785803397727727,
          -0.17034226885344766,
          -0.6740625215010464,
          0.14059949103574726,
          -0.8623492112389121,
          -0.9635157227080033,
          0.10119168130275302,
          1.6203936386550934,
          -1.2393266742630569,
          0.725195388506363,
          -0.8255846110908117,
          -1.7150458202338241,
          0.016969051967794975,
          0.5081910188040686,
          -2.120257134158895,
          -0.518883555120553,
          0.6260213657859839,
          0.5722902771986136,
          1.3426350624226693,
          -0.23405030447638916,
          -0.8602318688834061,
          1.3294148932580234,
          -0.181295385224785,
          -0.8001828903388022,
          -0.8708730786832168,
          -0.45111158923182737,
          1.0037018151590194,
          0.36556769870564826,
          1.703826312859625,
          -1.2791926554426676,
          -0.818955420701444,
          0.2730233888289673,
          0.5123198920732315,
          -0.8191751011803444,
          -1.7783331131053177,
          1.5284777655088602,
          -0.05970521421127182,
          -0.45939950093948007,
          -0.6761103428169687,
          0.06418835270623018,
          0.9498444493031329,
          0.5006931165843516,
          -0.03508819346160745,
          1.8022103632645232,
          -1.044710487852092,
          0.16331296713928062,
          -0.1727350756001788,
          -0.36867934799219493,
          -0.48477590796066633,
          -0.7338371394809885,
          1.7598303606502754,
          -1.072392901230142,
          1.0530984466502573,
          0.1962731606248689,
          0.9949979071150359,
          -0.7711386455858261,
          -1.1469424662251484,
          -0.3924442333295205,
          -1.213326657040427,
          1.120715868910568,
          -1.296851963081296,
          0.23286147502776583,
          -1.429612377802404,
          1.8560765364238911,
          -0.4144512807859736,
          -0.05710412305795252,
          1.0751260145110495,
          0.14442926349802365,
          0.90200035262318,
          -0.42141414707840286,
          -1.7857118600958652,
          -0.011968789158195775,
          -0.28269262404647255,
          -0.4090915327788458,
          0.5447705906533499,
          0.6748133479930076,
          -0.808061140888911,
          -0.4738052855303892,
          -0.039335883265418994,
          0.5641234670393823,
          -0.3414158924009315,
          1.3620951196254536,
          0.4388315683533058,
          0.25755962964211054,
          1.4919269734093763,
          0.2742557156878406,
          -0.6183128757795637,
          2.0307034378122353,
          1.3206699323853288,
          -0.8569961028788647,
          0.6979739908332576,
          0.7607407951854913,
          0.40775763950857336,
          0.5231882019329255,
          1.542751151170074,
          1.128699475248525,
          0.6811092985908577,
          0.7620792775840746,
          -0.07224284629064849,
          1.0494938940517147,
          0.8579721760797268,
          1.2206506718747276,
          -0.5414970269321439,
          0.43060192202617686,
          -0.04046778155453422,
          -0.13508382182609144,
          -0.9176549387146203,
          0.6224864158275739,
          -1.3886889783769443,
          -0.7775463700314478,
          0.15814518123501117,
          1.198310897739026,
          -0.38952421941649557,
          1.3484109414551662,
          -1.2074055670897343,
          1.1203683047369608,
          -0.07880309232073861,
          0.5039045780128453,
          0.10297385646862364,
          0.5600202583312857,
          0.31011997872432284,
          0.13268737356078025,
          -0.39987366811268155,
          -0.4994426098906093,
          -0.24284389014139718,
          0.036651675960728054,
          -0.8201720035469979,
          0.6425464825176812,
          0.2858698938132093,
          -1.0640232705321142,
          0.3597757721033872,
          -0.10283820306835674,
          1.2241407163252251,
          -0.25891486293096405,
          1.0938931883715977,
          0.12864274982816146,
          -1.2294656511291358,
          -0.447726758173281,
          0.8388964255858913,
          -0.1235709769029055,
          -0.16838370308723025,
          1.3365671097700298,
          -0.1386943782920277,
          0.9006871563946918,
          -0.9869896142388432,
          -1.0817197698927814,
          -0.32360287875495647,
          -0.6767437525286953,
          -0.456934438436304,
          -1.4809249414933456,
          -1.2763920496951136,
          -0.5820527054296242,
          0.1569988455947446,
          -0.03501256172654569,
          0.5651321163908674,
          0.5519074318927619,
          -0.181715596657491,
          0.5226621293100416,
          -0.7212626372233738,
          0.6140813577294424,
          -1.088605255709826,
          0.5168726566883302,
          -0.8238637395020907,
          0.7486217839699418,
          -0.502046416983652,
          -1.4810913946884108,
          1.4125434406722455,
          0.35036103958784937,
          -0.15452239179480884,
          0.33953102259873624,
          -0.784431132708453
         ],
         "xaxis": "x",
         "yaxis": "y"
        },
        {
         "line": {
          "color": "black"
         },
         "mode": "lines",
         "name": "normal pdf",
         "type": "scatter",
         "x": [
          -3.436185912972587,
          -3.3670993434327263,
          -3.2980127738928657,
          -3.228926204353005,
          -3.1598396348131446,
          -3.090753065273284,
          -3.0216664957334234,
          -2.952579926193563,
          -2.8834933566537018,
          -2.8144067871138416,
          -2.7453202175739806,
          -2.67623364803412,
          -2.6071470784942594,
          -2.538060508954399,
          -2.4689739394145382,
          -2.3998873698746777,
          -2.330800800334817,
          -2.2617142307949565,
          -2.192627661255096,
          -2.1235410917152353,
          -2.0544545221753747,
          -1.985367952635514,
          -1.9162813830956533,
          -1.8471948135557927,
          -1.7781082440159321,
          -1.7090216744760716,
          -1.639935104936211,
          -1.5708485353963504,
          -1.5017619658564896,
          -1.432675396316629,
          -1.3635888267767684,
          -1.2945022572369078,
          -1.2254156876970472,
          -1.1563291181571866,
          -1.087242548617326,
          -1.0181559790774655,
          -0.9490694095376049,
          -0.8799828399977443,
          -0.8108962704578837,
          -0.7418097009180231,
          -0.6727231313781625,
          -0.6036365618383015,
          -0.5345499922984409,
          -0.4654634227585803,
          -0.39637685321871974,
          -0.32729028367885915,
          -0.25820371413899856,
          -0.18911714459913798,
          -0.12003057505927739,
          -0.0509440055194168,
          0.018142564020443785,
          0.08722913356030437,
          0.15631570310016496,
          0.22540227264002555,
          0.29448884217988613,
          0.3635754117197467,
          0.43266198125960775,
          0.5017485507994683,
          0.5708351203393289,
          0.6399216898791891,
          0.7090082594190501,
          0.7780948289589102,
          0.8471813984987713,
          0.9162679680386314,
          0.9853545375784925,
          1.0544411071183535,
          1.1235276766582136,
          1.1926142461980747,
          1.2617008157379348,
          1.3307873852777958,
          1.399873954817656,
          1.468960524357517,
          1.5380470938973771,
          1.6071336634372382,
          1.6762202329770983,
          1.7453068025169594,
          1.8143933720568195,
          1.8834799415966805,
          1.9525665111365407,
          2.0216530806764017,
          2.090739650216262,
          2.159826219756123,
          2.228912789295984,
          2.297999358835844,
          2.367085928375705,
          2.4361724979155652,
          2.5052590674554263,
          2.5743456369952864,
          2.6434322065351474,
          2.7125187760750076,
          2.7816053456148686,
          2.8506919151547288,
          2.91977848469459,
          2.98886505423445,
          3.057951623774311,
          3.127038193314171,
          3.196124762854032,
          3.265211332393893,
          3.3342979019337533,
          3.4033844714736134
         ],
         "y": [
          0.001088858534554095,
          0.0013773174788243839,
          0.0017338989784362133,
          0.0021724043057448597,
          0.0027088480938509333,
          0.003361675433203181,
          0.0041519684208174154,
          0.0051036329817715715,
          0.006243555281888135,
          0.007601715641365289,
          0.009211246630232156,
          0.011108421077802747,
          0.013332555167789516,
          0.0159258117300768,
          0.018932889389064074,
          0.022400584488013617,
          0.026377214763767722,
          0.030911896656940847,
          0.03605367193702934,
          0.04185048398718488,
          0.04834800956985081,
          0.055588358069980214,
          0.06360865692002368,
          0.07243954892828476,
          0.0821036342862268,
          0.09261389680338956,
          0.10397216006016814,
          0.11616762430988,
          0.1291755387329068,
          0.14295606569783728,
          0.1574533937099705,
          0.17259515348289944,
          0.18829218689600535,
          0.20443871144496986,
          0.22091291321712928,
          0.23757798961853768,
          0.2542836493635527,
          0.27086806205254366,
          0.28716023356108644,
          0.30298276708632926,
          0.3181549537463863,
          0.3324961218382349,
          0.3458291609511274,
          0.3579841267800124,
          0.36880182527362154,
          0.3781372711483137,
          0.385862916111332,
          0.3918715464990661,
          0.39607875839007356,
          0.3984249303483779,
          0.3988766293536309,
          0.39742740357790485,
          0.39409793573272295,
          0.38893555189176654,
          0.38201310209379286,
          0.373427249734636,
          0.36329622589083715,
          0.3517571214859078,
          0.33896280394049433,
          0.3250785551212864,
          0.3102785336799379,
          0.2947421671032843,
          0.27865057702365403,
          0.2621831357914379,
          0.24551424338526778,
          0.22881040196065439,
          0.21222765135302224,
          0.19590941336018156,
          0.17998477636447793,
          0.16456723553734232,
          0.14975388817347687,
          0.1356250692260536,
          0.12224439935449681,
          0.10965920713090578,
          0.09790127873116894,
          0.08698788258495879,
          0.07692301307502696,
          0.06769879634943066,
          0.05929700243513666,
          0.0516906108380538,
          0.04484538135068875,
          0.03872138750169951,
          0.03327447660010214,
          0.028457627289408833,
          0.02422218259875528,
          0.02051894336365279,
          0.017299113341322798,
          0.014515093171249962,
          0.012121125392580865,
          0.010073796942184174,
          0.008332408886286323,
          0.006859225594134789,
          0.005619617190042077,
          0.004582109994677986,
          0.0037183598819157675,
          0.0030030631404009186,
          0.0024138186508081113,
          0.0019309540808529879,
          0.0015373274647572427,
          0.0012181140663587357
         ]
        }
       ],
       "layout": {
        "bargap": 0.2,
        "barmode": "relative",
        "legend": {
         "title": {
          "text": "variable"
         },
         "tracegroupgap": 0
        },
        "template": {
         "data": {
          "bar": [
           {
            "error_x": {
             "color": "#2a3f5f"
            },
            "error_y": {
             "color": "#2a3f5f"
            },
            "marker": {
             "line": {
              "color": "#E5ECF6",
              "width": 0.5
             },
             "pattern": {
              "fillmode": "overlay",
              "size": 10,
              "solidity": 0.2
             }
            },
            "type": "bar"
           }
          ],
          "barpolar": [
           {
            "marker": {
             "line": {
              "color": "#E5ECF6",
              "width": 0.5
             },
             "pattern": {
              "fillmode": "overlay",
              "size": 10,
              "solidity": 0.2
             }
            },
            "type": "barpolar"
           }
          ],
          "carpet": [
           {
            "aaxis": {
             "endlinecolor": "#2a3f5f",
             "gridcolor": "white",
             "linecolor": "white",
             "minorgridcolor": "white",
             "startlinecolor": "#2a3f5f"
            },
            "baxis": {
             "endlinecolor": "#2a3f5f",
             "gridcolor": "white",
             "linecolor": "white",
             "minorgridcolor": "white",
             "startlinecolor": "#2a3f5f"
            },
            "type": "carpet"
           }
          ],
          "choropleth": [
           {
            "colorbar": {
             "outlinewidth": 0,
             "ticks": ""
            },
            "type": "choropleth"
           }
          ],
          "contour": [
           {
            "colorbar": {
             "outlinewidth": 0,
             "ticks": ""
            },
            "colorscale": [
             [
              0,
              "#0d0887"
             ],
             [
              0.1111111111111111,
              "#46039f"
             ],
             [
              0.2222222222222222,
              "#7201a8"
             ],
             [
              0.3333333333333333,
              "#9c179e"
             ],
             [
              0.4444444444444444,
              "#bd3786"
             ],
             [
              0.5555555555555556,
              "#d8576b"
             ],
             [
              0.6666666666666666,
              "#ed7953"
             ],
             [
              0.7777777777777778,
              "#fb9f3a"
             ],
             [
              0.8888888888888888,
              "#fdca26"
             ],
             [
              1,
              "#f0f921"
             ]
            ],
            "type": "contour"
           }
          ],
          "contourcarpet": [
           {
            "colorbar": {
             "outlinewidth": 0,
             "ticks": ""
            },
            "type": "contourcarpet"
           }
          ],
          "heatmap": [
           {
            "colorbar": {
             "outlinewidth": 0,
             "ticks": ""
            },
            "colorscale": [
             [
              0,
              "#0d0887"
             ],
             [
              0.1111111111111111,
              "#46039f"
             ],
             [
              0.2222222222222222,
              "#7201a8"
             ],
             [
              0.3333333333333333,
              "#9c179e"
             ],
             [
              0.4444444444444444,
              "#bd3786"
             ],
             [
              0.5555555555555556,
              "#d8576b"
             ],
             [
              0.6666666666666666,
              "#ed7953"
             ],
             [
              0.7777777777777778,
              "#fb9f3a"
             ],
             [
              0.8888888888888888,
              "#fdca26"
             ],
             [
              1,
              "#f0f921"
             ]
            ],
            "type": "heatmap"
           }
          ],
          "heatmapgl": [
           {
            "colorbar": {
             "outlinewidth": 0,
             "ticks": ""
            },
            "colorscale": [
             [
              0,
              "#0d0887"
             ],
             [
              0.1111111111111111,
              "#46039f"
             ],
             [
              0.2222222222222222,
              "#7201a8"
             ],
             [
              0.3333333333333333,
              "#9c179e"
             ],
             [
              0.4444444444444444,
              "#bd3786"
             ],
             [
              0.5555555555555556,
              "#d8576b"
             ],
             [
              0.6666666666666666,
              "#ed7953"
             ],
             [
              0.7777777777777778,
              "#fb9f3a"
             ],
             [
              0.8888888888888888,
              "#fdca26"
             ],
             [
              1,
              "#f0f921"
             ]
            ],
            "type": "heatmapgl"
           }
          ],
          "histogram": [
           {
            "marker": {
             "pattern": {
              "fillmode": "overlay",
              "size": 10,
              "solidity": 0.2
             }
            },
            "type": "histogram"
           }
          ],
          "histogram2d": [
           {
            "colorbar": {
             "outlinewidth": 0,
             "ticks": ""
            },
            "colorscale": [
             [
              0,
              "#0d0887"
             ],
             [
              0.1111111111111111,
              "#46039f"
             ],
             [
              0.2222222222222222,
              "#7201a8"
             ],
             [
              0.3333333333333333,
              "#9c179e"
             ],
             [
              0.4444444444444444,
              "#bd3786"
             ],
             [
              0.5555555555555556,
              "#d8576b"
             ],
             [
              0.6666666666666666,
              "#ed7953"
             ],
             [
              0.7777777777777778,
              "#fb9f3a"
             ],
             [
              0.8888888888888888,
              "#fdca26"
             ],
             [
              1,
              "#f0f921"
             ]
            ],
            "type": "histogram2d"
           }
          ],
          "histogram2dcontour": [
           {
            "colorbar": {
             "outlinewidth": 0,
             "ticks": ""
            },
            "colorscale": [
             [
              0,
              "#0d0887"
             ],
             [
              0.1111111111111111,
              "#46039f"
             ],
             [
              0.2222222222222222,
              "#7201a8"
             ],
             [
              0.3333333333333333,
              "#9c179e"
             ],
             [
              0.4444444444444444,
              "#bd3786"
             ],
             [
              0.5555555555555556,
              "#d8576b"
             ],
             [
              0.6666666666666666,
              "#ed7953"
             ],
             [
              0.7777777777777778,
              "#fb9f3a"
             ],
             [
              0.8888888888888888,
              "#fdca26"
             ],
             [
              1,
              "#f0f921"
             ]
            ],
            "type": "histogram2dcontour"
           }
          ],
          "mesh3d": [
           {
            "colorbar": {
             "outlinewidth": 0,
             "ticks": ""
            },
            "type": "mesh3d"
           }
          ],
          "parcoords": [
           {
            "line": {
             "colorbar": {
              "outlinewidth": 0,
              "ticks": ""
             }
            },
            "type": "parcoords"
           }
          ],
          "pie": [
           {
            "automargin": true,
            "type": "pie"
           }
          ],
          "scatter": [
           {
            "fillpattern": {
             "fillmode": "overlay",
             "size": 10,
             "solidity": 0.2
            },
            "type": "scatter"
           }
          ],
          "scatter3d": [
           {
            "line": {
             "colorbar": {
              "outlinewidth": 0,
              "ticks": ""
             }
            },
            "marker": {
             "colorbar": {
              "outlinewidth": 0,
              "ticks": ""
             }
            },
            "type": "scatter3d"
           }
          ],
          "scattercarpet": [
           {
            "marker": {
             "colorbar": {
              "outlinewidth": 0,
              "ticks": ""
             }
            },
            "type": "scattercarpet"
           }
          ],
          "scattergeo": [
           {
            "marker": {
             "colorbar": {
              "outlinewidth": 0,
              "ticks": ""
             }
            },
            "type": "scattergeo"
           }
          ],
          "scattergl": [
           {
            "marker": {
             "colorbar": {
              "outlinewidth": 0,
              "ticks": ""
             }
            },
            "type": "scattergl"
           }
          ],
          "scattermapbox": [
           {
            "marker": {
             "colorbar": {
              "outlinewidth": 0,
              "ticks": ""
             }
            },
            "type": "scattermapbox"
           }
          ],
          "scatterpolar": [
           {
            "marker": {
             "colorbar": {
              "outlinewidth": 0,
              "ticks": ""
             }
            },
            "type": "scatterpolar"
           }
          ],
          "scatterpolargl": [
           {
            "marker": {
             "colorbar": {
              "outlinewidth": 0,
              "ticks": ""
             }
            },
            "type": "scatterpolargl"
           }
          ],
          "scatterternary": [
           {
            "marker": {
             "colorbar": {
              "outlinewidth": 0,
              "ticks": ""
             }
            },
            "type": "scatterternary"
           }
          ],
          "surface": [
           {
            "colorbar": {
             "outlinewidth": 0,
             "ticks": ""
            },
            "colorscale": [
             [
              0,
              "#0d0887"
             ],
             [
              0.1111111111111111,
              "#46039f"
             ],
             [
              0.2222222222222222,
              "#7201a8"
             ],
             [
              0.3333333333333333,
              "#9c179e"
             ],
             [
              0.4444444444444444,
              "#bd3786"
             ],
             [
              0.5555555555555556,
              "#d8576b"
             ],
             [
              0.6666666666666666,
              "#ed7953"
             ],
             [
              0.7777777777777778,
              "#fb9f3a"
             ],
             [
              0.8888888888888888,
              "#fdca26"
             ],
             [
              1,
              "#f0f921"
             ]
            ],
            "type": "surface"
           }
          ],
          "table": [
           {
            "cells": {
             "fill": {
              "color": "#EBF0F8"
             },
             "line": {
              "color": "white"
             }
            },
            "header": {
             "fill": {
              "color": "#C8D4E3"
             },
             "line": {
              "color": "white"
             }
            },
            "type": "table"
           }
          ]
         },
         "layout": {
          "annotationdefaults": {
           "arrowcolor": "#2a3f5f",
           "arrowhead": 0,
           "arrowwidth": 1
          },
          "autotypenumbers": "strict",
          "coloraxis": {
           "colorbar": {
            "outlinewidth": 0,
            "ticks": ""
           }
          },
          "colorscale": {
           "diverging": [
            [
             0,
             "#8e0152"
            ],
            [
             0.1,
             "#c51b7d"
            ],
            [
             0.2,
             "#de77ae"
            ],
            [
             0.3,
             "#f1b6da"
            ],
            [
             0.4,
             "#fde0ef"
            ],
            [
             0.5,
             "#f7f7f7"
            ],
            [
             0.6,
             "#e6f5d0"
            ],
            [
             0.7,
             "#b8e186"
            ],
            [
             0.8,
             "#7fbc41"
            ],
            [
             0.9,
             "#4d9221"
            ],
            [
             1,
             "#276419"
            ]
           ],
           "sequential": [
            [
             0,
             "#0d0887"
            ],
            [
             0.1111111111111111,
             "#46039f"
            ],
            [
             0.2222222222222222,
             "#7201a8"
            ],
            [
             0.3333333333333333,
             "#9c179e"
            ],
            [
             0.4444444444444444,
             "#bd3786"
            ],
            [
             0.5555555555555556,
             "#d8576b"
            ],
            [
             0.6666666666666666,
             "#ed7953"
            ],
            [
             0.7777777777777778,
             "#fb9f3a"
            ],
            [
             0.8888888888888888,
             "#fdca26"
            ],
            [
             1,
             "#f0f921"
            ]
           ],
           "sequentialminus": [
            [
             0,
             "#0d0887"
            ],
            [
             0.1111111111111111,
             "#46039f"
            ],
            [
             0.2222222222222222,
             "#7201a8"
            ],
            [
             0.3333333333333333,
             "#9c179e"
            ],
            [
             0.4444444444444444,
             "#bd3786"
            ],
            [
             0.5555555555555556,
             "#d8576b"
            ],
            [
             0.6666666666666666,
             "#ed7953"
            ],
            [
             0.7777777777777778,
             "#fb9f3a"
            ],
            [
             0.8888888888888888,
             "#fdca26"
            ],
            [
             1,
             "#f0f921"
            ]
           ]
          },
          "colorway": [
           "#636efa",
           "#EF553B",
           "#00cc96",
           "#ab63fa",
           "#FFA15A",
           "#19d3f3",
           "#FF6692",
           "#B6E880",
           "#FF97FF",
           "#FECB52"
          ],
          "font": {
           "color": "#2a3f5f"
          },
          "geo": {
           "bgcolor": "white",
           "lakecolor": "white",
           "landcolor": "#E5ECF6",
           "showlakes": true,
           "showland": true,
           "subunitcolor": "white"
          },
          "hoverlabel": {
           "align": "left"
          },
          "hovermode": "closest",
          "mapbox": {
           "style": "light"
          },
          "paper_bgcolor": "white",
          "plot_bgcolor": "#E5ECF6",
          "polar": {
           "angularaxis": {
            "gridcolor": "white",
            "linecolor": "white",
            "ticks": ""
           },
           "bgcolor": "#E5ECF6",
           "radialaxis": {
            "gridcolor": "white",
            "linecolor": "white",
            "ticks": ""
           }
          },
          "scene": {
           "xaxis": {
            "backgroundcolor": "#E5ECF6",
            "gridcolor": "white",
            "gridwidth": 2,
            "linecolor": "white",
            "showbackground": true,
            "ticks": "",
            "zerolinecolor": "white"
           },
           "yaxis": {
            "backgroundcolor": "#E5ECF6",
            "gridcolor": "white",
            "gridwidth": 2,
            "linecolor": "white",
            "showbackground": true,
            "ticks": "",
            "zerolinecolor": "white"
           },
           "zaxis": {
            "backgroundcolor": "#E5ECF6",
            "gridcolor": "white",
            "gridwidth": 2,
            "linecolor": "white",
            "showbackground": true,
            "ticks": "",
            "zerolinecolor": "white"
           }
          },
          "shapedefaults": {
           "line": {
            "color": "#2a3f5f"
           }
          },
          "ternary": {
           "aaxis": {
            "gridcolor": "white",
            "linecolor": "white",
            "ticks": ""
           },
           "baxis": {
            "gridcolor": "white",
            "linecolor": "white",
            "ticks": ""
           },
           "bgcolor": "#E5ECF6",
           "caxis": {
            "gridcolor": "white",
            "linecolor": "white",
            "ticks": ""
           }
          },
          "title": {
           "x": 0.05
          },
          "xaxis": {
           "automargin": true,
           "gridcolor": "white",
           "linecolor": "white",
           "ticks": "",
           "title": {
            "standoff": 15
           },
           "zerolinecolor": "white",
           "zerolinewidth": 2
          },
          "yaxis": {
           "automargin": true,
           "gridcolor": "white",
           "linecolor": "white",
           "ticks": "",
           "title": {
            "standoff": 15
           },
           "zerolinecolor": "white",
           "zerolinewidth": 2
          }
         }
        },
        "title": {
         "text": "Histogram and pdf"
        },
        "xaxis": {
         "anchor": "y",
         "domain": [
          0,
          1
         ],
         "title": {
          "text": "value"
         }
        },
        "yaxis": {
         "anchor": "x",
         "domain": [
          0,
          1
         ],
         "title": {
          "text": "probability density"
         }
        }
       }
      }
     },
     "metadata": {},
     "output_type": "display_data"
    }
   ],
   "source": [
    "import plotly.graph_objects as go\n",
    "import plotly.express as px\n",
    "mean = 0\n",
    "std_dev = 1\n",
    "num_samples = 1000\n",
    "\n",
    "samples = np.random.normal(mean, std_dev, num_samples)\n",
    "#print (samples)\n",
    "\n",
    "fig = px.histogram(samples, nbins=30, title=\"Histogram of normally distributed samples\", labels={\"value\" : \"samples\" , \"count\" : \"frequecy\"}, opacity=0.6, histnorm=\"probability density\")\n",
    "\n",
    "xmin, xmax = min(samples), max(samples)\n",
    "x = np.linspace(xmin, xmax, 100)\n",
    "p = np.exp(-((x-mean)**2)/(2*std_dev**2))/(np.sqrt(2*np.pi)*std_dev)\n",
    "\n",
    "pdf_trace = go.Scatter(x=x, y=p, mode=\"lines\", name=\"normal pdf\", line = dict(color=\"black\"))\n",
    "\n",
    "fig.add_trace(pdf_trace)\n",
    "\n",
    "fig.update_layout(\n",
    "    xaxis_title = \"value\",\n",
    "    yaxis_title = \"probability density\",\n",
    "    title = \"Histogram and pdf\",\n",
    "    bargap = 0.2\n",
    ")\n",
    "\n",
    "fig.show()"
   ]
  },
  {
   "cell_type": "markdown",
   "metadata": {},
   "source": [
    "#### Broadcasting"
   ]
  },
  {
   "cell_type": "code",
   "execution_count": 12,
   "metadata": {},
   "outputs": [
    {
     "name": "stdout",
     "output_type": "stream",
     "text": [
      "[[ 0  0  0]\n",
      " [10 10 10]\n",
      " [20 20 20]\n",
      " [30 30 30]] <class 'numpy.ndarray'>\n",
      "[0 1 2] <class 'numpy.ndarray'>\n",
      "[[ 0  1  2]\n",
      " [10 11 12]\n",
      " [20 21 22]\n",
      " [30 31 32]]\n",
      "[[ 0]\n",
      " [10]\n",
      " [20]\n",
      " [30]] <class 'numpy.ndarray'>\n",
      "[[ 0  1  2]\n",
      " [10 11 12]\n",
      " [20 21 22]\n",
      " [30 31 32]]\n"
     ]
    }
   ],
   "source": [
    "a = np.array([[ 0,  0,  0],\n",
    "             [10, 10, 10],\n",
    "             [20, 20, 20],\n",
    "             [30, 30, 30]])\n",
    "print (a, type(a))\n",
    "b = np.array([0, 1, 2])\n",
    "print (b, type(b))\n",
    "result = a + b\n",
    "print (result)\n",
    "\n",
    "a = np.array([[0], [10], [20], [30]])\n",
    "print (a, type(a))\n",
    "\n",
    "result = a + b\n",
    "print (result)\n",
    "\n",
    "\n",
    "\n",
    "\n",
    "#[[ 0+0,  0+1,  0+2],\n",
    " #[10+0, 10+1, 10+2],\n",
    " #[20+0, 20+1, 20+2],\n",
    " #[30+0, 30+1, 30+2]]\n",
    "\n",
    " \n",
    "#[[ 0,  1,  2],\n",
    " #[10, 11, 12],\n",
    " #[20, 21, 22],\n",
    " #[30, 31, 32]]\n"
   ]
  },
  {
   "cell_type": "markdown",
   "metadata": {},
   "source": [
    "#### Searching"
   ]
  },
  {
   "cell_type": "code",
   "execution_count": 13,
   "metadata": {},
   "outputs": [
    {
     "name": "stdout",
     "output_type": "stream",
     "text": [
      "[10 20 30 40 50] <class 'numpy.ndarray'>\n",
      "(array([2], dtype=int64),)\n"
     ]
    }
   ],
   "source": [
    "# numpy.where()\n",
    "\n",
    "arr = np.array([10, 20, 30, 40, 50])\n",
    "print(arr,type(arr))\n",
    "\n",
    "i = np.where(arr==30)\n",
    "print(i)"
   ]
  },
  {
   "cell_type": "code",
   "execution_count": 1,
   "metadata": {},
   "outputs": [],
   "source": [
    "import pandas as pd\n"
   ]
  },
  {
   "cell_type": "code",
   "execution_count": null,
   "metadata": {},
   "outputs": [],
   "source": []
  }
 ],
 "metadata": {
  "kernelspec": {
   "display_name": "Python 3",
   "language": "python",
   "name": "python3"
  },
  "language_info": {
   "codemirror_mode": {
    "name": "ipython",
    "version": 3
   },
   "file_extension": ".py",
   "mimetype": "text/x-python",
   "name": "python",
   "nbconvert_exporter": "python",
   "pygments_lexer": "ipython3",
   "version": "3.11.7"
  }
 },
 "nbformat": 4,
 "nbformat_minor": 2
}
