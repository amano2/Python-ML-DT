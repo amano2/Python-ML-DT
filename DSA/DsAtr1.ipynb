{
 "cells": [
  {
   "cell_type": "markdown",
   "metadata": {},
   "source": [
    "## Static, Dynamic Arrays & Strings"
   ]
  },
  {
   "cell_type": "code",
   "execution_count": 2,
   "metadata": {},
   "outputs": [
    {
     "name": "stdout",
     "output_type": "stream",
     "text": [
      "[1, 2, 3, 4, 5, 6, 7, 8]\n"
     ]
    }
   ],
   "source": [
    "A = [1, 2, 3, 4, 5, 6, 7, 8]\n",
    "print(A)"
   ]
  },
  {
   "cell_type": "code",
   "execution_count": 3,
   "metadata": {},
   "outputs": [
    {
     "name": "stdout",
     "output_type": "stream",
     "text": [
      "[1, 2, 3, 4, 5, 6, 7, 8, 1]\n"
     ]
    }
   ],
   "source": [
    "A.append(1)\n",
    "print(A)"
   ]
  },
  {
   "cell_type": "code",
   "execution_count": 6,
   "metadata": {},
   "outputs": [
    {
     "name": "stdout",
     "output_type": "stream",
     "text": [
      "[1, 2, 3, 4, 5, 6]\n"
     ]
    }
   ],
   "source": [
    "A.pop()\n",
    "\n",
    "print(A)"
   ]
  },
  {
   "cell_type": "code",
   "execution_count": 7,
   "metadata": {},
   "outputs": [],
   "source": [
    "A.insert(0,7)"
   ]
  },
  {
   "cell_type": "code",
   "execution_count": 8,
   "metadata": {},
   "outputs": [
    {
     "name": "stdout",
     "output_type": "stream",
     "text": [
      "[7, 1, 2, 3, 4, 5, 6]\n"
     ]
    }
   ],
   "source": [
    "print(A)"
   ]
  },
  {
   "cell_type": "code",
   "execution_count": 9,
   "metadata": {},
   "outputs": [
    {
     "name": "stdout",
     "output_type": "stream",
     "text": [
      "[1, 1, 2, 3, 4, 5, 6]\n"
     ]
    }
   ],
   "source": [
    "A[0] = 1\n",
    "\n",
    "print(A)"
   ]
  },
  {
   "cell_type": "code",
   "execution_count": 10,
   "metadata": {},
   "outputs": [
    {
     "name": "stdout",
     "output_type": "stream",
     "text": [
      "5\n"
     ]
    }
   ],
   "source": [
    "print(A[5])"
   ]
  },
  {
   "cell_type": "code",
   "execution_count": 13,
   "metadata": {},
   "outputs": [
    {
     "name": "stdout",
     "output_type": "stream",
     "text": [
      "5 is in the list\n"
     ]
    }
   ],
   "source": [
    "if 5 in A:\n",
    "    print(\"5 is in the list\")"
   ]
  },
  {
   "cell_type": "code",
   "execution_count": 14,
   "metadata": {},
   "outputs": [
    {
     "name": "stdout",
     "output_type": "stream",
     "text": [
      "helloz\n"
     ]
    }
   ],
   "source": [
    "s = 'hello'\n",
    "\n",
    "b = s + 'z'\n",
    "\n",
    "print(b)"
   ]
  },
  {
   "cell_type": "code",
   "execution_count": 15,
   "metadata": {},
   "outputs": [
    {
     "name": "stdout",
     "output_type": "stream",
     "text": [
      "1\n"
     ]
    }
   ],
   "source": [
    "def findClosestNumber(nums):\n",
    "    closest = nums[0]\n",
    "    for num in nums:\n",
    "        if abs(num) < abs(closest):\n",
    "            closest = num\n",
    "\n",
    "    if closest < 0 and abs(closest) in nums:\n",
    "        return abs(closest)\n",
    "    else:\n",
    "        return closest\n",
    "    \n",
    "\n",
    "nums = [1, -2, 3, -4, 5]\n",
    "\n",
    "print(findClosestNumber(nums))"
   ]
  },
  {
   "cell_type": "code",
   "execution_count": 20,
   "metadata": {},
   "outputs": [
    {
     "name": "stdout",
     "output_type": "stream",
     "text": [
      "adbecf\n"
     ]
    }
   ],
   "source": [
    "def mergeAlternately(word1, word2):\n",
    "    result = []\n",
    "    i = 0\n",
    "    while i < len(word1) or i < len(word2):\n",
    "        if i < len(word1):\n",
    "            result.append(word1[i])\n",
    "        if i < len(word2):\n",
    "            result.append(word2[i])\n",
    "        i += 1\n",
    "\n",
    "    return ''.join(result)\n",
    "\n",
    "word1 = \"abc\"\n",
    "\n",
    "word2 = \"def\"\n",
    "\n",
    "print(mergeAlternately(word1, word2))"
   ]
  },
  {
   "cell_type": "code",
   "execution_count": 22,
   "metadata": {},
   "outputs": [
    {
     "name": "stdout",
     "output_type": "stream",
     "text": [
      "3\n"
     ]
    }
   ],
   "source": [
    "def romanToInt(s):\n",
    "        m = {'I':1, 'V':5, 'X':10, 'L':50, 'C':100, 'D':500, 'M':1000}\n",
    "\n",
    "        result = 0\n",
    "        for i in range(len(s)):\n",
    "                if i < len(s) - 1 and m[s[i]] < m[s[i + 1]]:\n",
    "                    result -= m[s[i]]\n",
    "                else:\n",
    "                    result += m[s[i]]\n",
    "        return result\n",
    "\n",
    "print(romanToInt(\"III\"))"
   ]
  },
  {
   "cell_type": "code",
   "execution_count": 23,
   "metadata": {},
   "outputs": [
    {
     "name": "stdout",
     "output_type": "stream",
     "text": [
      "True\n"
     ]
    }
   ],
   "source": [
    "def isSubsequence(s, t):\n",
    "     i = j = 0\n",
    "     while j < len(s) and i < len(t):\n",
    "          if s[j] == t[i]:\n",
    "              j += 1\n",
    "          i += 1\n",
    "     return j == len(s)\n",
    "\n",
    "print(isSubsequence(\"abc\", \"ahbgdc\"))"
   ]
  },
  {
   "cell_type": "code",
   "execution_count": 26,
   "metadata": {},
   "outputs": [
    {
     "name": "stdout",
     "output_type": "stream",
     "text": [
      "5\n"
     ]
    }
   ],
   "source": [
    "def maxProfit(prices):\n",
    "    l, r = 0, 1\n",
    "    max_profit = 0\n",
    "\n",
    "    while r < len(prices):\n",
    "        if prices[l] < prices[r]:\n",
    "            price = prices[r] - prices[l]\n",
    "            max_profit = max(max_profit, price)\n",
    "        else:\n",
    "            l = r\n",
    "        r += 1\n",
    "    return max_profit\n",
    "\n",
    "print(maxProfit([7,1,5,3,6,4]))"
   ]
  },
  {
   "cell_type": "code",
   "execution_count": null,
   "metadata": {},
   "outputs": [],
   "source": [
    "def longestCommonPrefix(strs):\n",
    "    min_length = float('inf')\n",
    "\n",
    "    for s in strs:\n",
    "        if len(s) < min_length:\n",
    "            min_length = len(s)\n",
    "\n",
    "    i = 0\n",
    "\n",
    "    while i < min_length:\n",
    "        for s in strs:\n",
    "            if s[i]!= strs[0][i]:\n",
    "                return s[:i]\n",
    "        i += 1\n",
    "    \n",
    "    return strs[0][:i]"
   ]
  },
  {
   "cell_type": "code",
   "execution_count": null,
   "metadata": {},
   "outputs": [],
   "source": [
    "def summaryRanges(nums):\n",
    "    ans = []\n",
    "    i = 0\n",
    "\n",
    "    while i < len(nums):\n",
    "        start =  nums[i]\n",
    "\n",
    "        while i < len(nums) - 1 and nums[i+1] == nums[i] + 1:\n",
    "            i += 1\n",
    "\n",
    "        if start != nums[i]:\n",
    "            ans.append(str(start) + \"->\" + str(nums[i]))\n",
    "        else:\n",
    "            ans.append(str(nums[i]))\n",
    "        \n",
    "        i += 1\n",
    "\n",
    "    return ans"
   ]
  },
  {
   "cell_type": "code",
   "execution_count": 5,
   "metadata": {},
   "outputs": [
    {
     "name": "stdout",
     "output_type": "stream",
     "text": [
      "[24, 12, 8, 6]\n"
     ]
    }
   ],
   "source": [
    "def productExceptSelf(nums):\n",
    "    l_mult = 1\n",
    "    r_mult = 1\n",
    "    n = len(nums)\n",
    "    l_arr = [0] * n\n",
    "    r_arr = [0] * n\n",
    "\n",
    "    for i in range(n):\n",
    "\n",
    "        j = -i - 1\n",
    "        l_arr[i] = l_mult\n",
    "        r_arr[j] = r_mult\n",
    "        l_mult *= nums[i]\n",
    "        r_mult *= nums[j]\n",
    "\n",
    "    return [l*r for l, r in zip(l_arr, r_arr)]\n",
    "\n",
    "print(productExceptSelf([1,2,3,4]))\n"
   ]
  },
  {
   "cell_type": "code",
   "execution_count": null,
   "metadata": {},
   "outputs": [],
   "source": [
    "def integerReplacement(n):\n",
    "        while n != 1:\n",
    "                if n // 2 == 0:\n",
    "                        n "
   ]
  }
 ],
 "metadata": {
  "kernelspec": {
   "display_name": "base",
   "language": "python",
   "name": "python3"
  },
  "language_info": {
   "codemirror_mode": {
    "name": "ipython",
    "version": 3
   },
   "file_extension": ".py",
   "mimetype": "text/x-python",
   "name": "python",
   "nbconvert_exporter": "python",
   "pygments_lexer": "ipython3",
   "version": "3.11.7"
  }
 },
 "nbformat": 4,
 "nbformat_minor": 2
}
