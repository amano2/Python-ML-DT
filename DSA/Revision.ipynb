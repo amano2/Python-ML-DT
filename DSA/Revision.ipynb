{
 "cells": [
  {
   "cell_type": "markdown",
   "metadata": {},
   "source": [
    "### POOP"
   ]
  },
  {
   "cell_type": "code",
   "execution_count": 8,
   "metadata": {},
   "outputs": [
    {
     "name": "stdout",
     "output_type": "stream",
     "text": [
      "<class 'str'>\n",
      "<class 'int'>\n"
     ]
    }
   ],
   "source": [
    "x = 1 \n",
    "print(type('hello'))\n",
    "print(type(x))"
   ]
  },
  {
   "cell_type": "code",
   "execution_count": 9,
   "metadata": {},
   "outputs": [
    {
     "name": "stdout",
     "output_type": "stream",
     "text": [
      "<class 'function'>\n"
     ]
    }
   ],
   "source": [
    "def hello():\n",
    "    print(\"Hello, World!\")\n",
    "\n",
    "print(type(hello))"
   ]
  },
  {
   "cell_type": "code",
   "execution_count": 13,
   "metadata": {},
   "outputs": [
    {
     "name": "stdout",
     "output_type": "stream",
     "text": [
      "['water', 'sand']\n",
      "['water', 'sand', 'rock']\n"
     ]
    }
   ],
   "source": [
    "class Beach:\n",
    "    def __init__(self, location):\n",
    "        self.location = location\n",
    "        self.parts = ['water', 'sand']\n",
    "    def add_part(self, part):\n",
    "        self.parts.append(part)\n",
    "\n",
    "cape_cod_beach = Beach('Cape Cod')\n",
    "beach2 = Beach('Cancun')\n",
    "print(cape_cod_beach.parts)\n",
    "cape_cod_beach.add_part('rock')\n",
    "print(cape_cod_beach.parts)\n"
   ]
  },
  {
   "cell_type": "code",
   "execution_count": null,
   "metadata": {},
   "outputs": [
    {
     "name": "stdout",
     "output_type": "stream",
     "text": [
      "woof\n",
      "Aroooooo\n",
      "woof\n"
     ]
    }
   ],
   "source": [
    "class Dogs:\n",
    "    def __init__(self, name, age, weight):\n",
    "        self.name = name\n",
    "        self.age = age\n",
    "        self.weight = weight\n",
    "\n",
    "    def walks(self):\n",
    "        return True\n",
    "\n",
    "    def bark(self):\n",
    "        return 'woof'\n",
    "    \n",
    "class Samoyed(Dogs):\n",
    "    def __init__(self, name, age, weight):\n",
    "        super().__init__(name, age, weight)\n",
    "\n",
    "class Poodle(Dogs):\n",
    "    def __init__(self, name, age, weight):\n",
    "        super().__init__(name, age, weight)\n",
    "    \n",
    "    def bark(self):\n",
    "        return 'yip'\n",
    "\n",
    "class Pug(Dogs):\n",
    "    def __init__(self, name, age, weight):\n",
    "        super().__init__(name, age, weight)\n",
    "\n",
    "    def fetch_ability(self):\n",
    "        if self.age < 2:\n",
    "            return 10\n",
    "        elif self.age < 8:\n",
    "            return 5\n",
    "        else:\n",
    "            return 0\n",
    "\n",
    "class GoldenPug(Poodle, Pug):\n",
    "    def __init__(self, name, age, weight):\n",
    "        super().__init__(name, age, weight)\n",
    "\n",
    "    def bark(self):\n",
    "        return 'Aroooooo'\n",
    "    \n",
    "# sammy = Samoyed('Sammy', 2, 56)\n",
    "# print(sammy.walks())  # Output: True\n",
    "# print(sammy.name, sammy.age, sammy.weight)\n",
    "\n",
    "goldie = GoldenPug('Goldie', 1 , 10)\n",
    "poody = Poodle(\"Poodie\", 2, 15)\n",
    "doggo = Dogs('doggo', 2, 16)\n",
    "print(doggo.bark())\n",
    "print(goldie.bark())\n",
    "print(doggo.bark())\n"
   ]
  },
  {
   "cell_type": "code",
   "execution_count": null,
   "metadata": {},
   "outputs": [],
   "source": []
  }
 ],
 "metadata": {
  "kernelspec": {
   "display_name": "base",
   "language": "python",
   "name": "python3"
  },
  "language_info": {
   "codemirror_mode": {
    "name": "ipython",
    "version": 3
   },
   "file_extension": ".py",
   "mimetype": "text/x-python",
   "name": "python",
   "nbconvert_exporter": "python",
   "pygments_lexer": "ipython3",
   "version": "3.11.7"
  }
 },
 "nbformat": 4,
 "nbformat_minor": 2
}
