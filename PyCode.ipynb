{
 "cells": [
  {
   "cell_type": "code",
   "execution_count": 16,
   "metadata": {},
   "outputs": [
    {
     "name": "stdout",
     "output_type": "stream",
     "text": [
      "22\n",
      "I am 22 years old\n"
     ]
    }
   ],
   "source": [
    "age = 22\n",
    "print(age)\n",
    "print (f\"I am {age} years old\")"
   ]
  },
  {
   "cell_type": "code",
   "execution_count": 19,
   "metadata": {},
   "outputs": [
    {
     "name": "stdout",
     "output_type": "stream",
     "text": [
      "The result is  30\n",
      "10 <class 'int'> 20 <class 'int'>\n"
     ]
    }
   ],
   "source": [
    "num1 = int(input(\"Please enter the first number: \")) \n",
    "num2 = int(input(\"Please enter the second number: \")) \n",
    "result = num1 + num2 \n",
    "print (f\"The result is  {result}\" )\n",
    "print (num1, type(num1), num2, type(num2)) "
   ]
  },
  {
   "cell_type": "code",
   "execution_count": null,
   "metadata": {},
   "outputs": [
    {
     "name": "stdout",
     "output_type": "stream",
     "text": [
      "So the sum of 10 + 20 = 30\n",
      "So the sum of 10 + 20 = 30\n",
      "So the sum of 10 + 20 = 30\n",
      "So the sum of 10 + 20 = 30\n",
      "So the sum of 10 + 20 = 30\n",
      "So the sum of 10 + 20 = 30\n",
      "So the sum of 10 + 20 = 30\n",
      "So the sum of 10 + 20 = 30\n",
      "So the sum of 10 + 20.000000 = 30\n",
      "So the sum of 10 + 20.00 = 30\n",
      "So the sum of 10 + 20 = 30\n"
     ]
    }
   ],
   "source": [
    "print (\"So the sum of\", num1, \"+\", num2, \"=\", result) \n",
    "print (\"So the sum of \" + str(num1) + \" + \" + str(num2) + \" = \" + str(result)) \n",
    "print (\"So the sum of {} + {} = {}\".format(num1, num2, result))   # {} denotes place holder \n",
    "print (\"So the sum of {0} + {1} = {2}\".format(num1, num2, result))  # numbered place holder \n",
    "print (\"So the sum of {2} + {0} = {1}\".format(num2, result, num1)) \n",
    "print (\"So the sum of {fnum} + {snum} = {tot}\".format(fnum = num1, snum = num2, tot = result))   # labeled plac\n",
    "print (\"So the sum of {fnum} + {snum} = {tot}\".format(snum = num2, fnum = num1, tot = result)) \n",
    "print (\"So the sum of %d + %d = %d\"%(num1, num2, result)) \n",
    "print (\"So the sum of %d + %f = %d\"%(num1, num2, result)) \n",
    "print (\"So the sum of %d + %4.2f = %d\"%(num1, num2, result)) \n",
    "print (f\"So the sum of {num1} + {num2} = {result}\") "
   ]
  },
  {
   "cell_type": "code",
   "execution_count": null,
   "metadata": {},
   "outputs": [
    {
     "name": "stdout",
     "output_type": "stream",
     "text": [
      "<class 'str'>\n",
      "<class 'int'>\n",
      "<class 'int'>\n",
      "<class 'bool'>\n",
      "22.0 <class 'float'>\n",
      "True\n"
     ]
    }
   ],
   "source": [
    "name =  \"Aman\"\n",
    "age = 22\n",
    "cgpa = 8\n",
    "student = True\n",
    "\n",
    "print(type(name))\n",
    "print(type(age))\n",
    "print(type(cgpa))\n",
    "print(type(student))\n",
    "\n",
    "age = float(age)\n",
    "\n",
    "print (age, type(age))\n",
    "\n",
    "name = bool(name)\n",
    "\n",
    "print (name)"
   ]
  },
  {
   "cell_type": "code",
   "execution_count": null,
   "metadata": {},
   "outputs": [
    {
     "name": "stdout",
     "output_type": "stream",
     "text": [
      "1.0\n"
     ]
    }
   ],
   "source": [
    "x = 2 \n",
    "y = 2.0\n",
    "\n",
    "x = x/y\n",
    "\n",
    "print (x)"
   ]
  },
  {
   "cell_type": "code",
   "execution_count": 18,
   "metadata": {},
   "outputs": [
    {
     "name": "stdout",
     "output_type": "stream",
     "text": [
      "140\n",
      "60\n",
      "4000\n",
      "2.5\n",
      "2\n",
      "100000000\n",
      "20\n"
     ]
    }
   ],
   "source": [
    "print (100 + 40)    # addition \n",
    "print (100 - 40)    # subtraction \n",
    "print (100 * 40)    # multiplication \n",
    "print (100 / 40)    # float division \n",
    "print (100 // 40)   # integer division \n",
    "print (100 ** 4)    # exponentiation, a to the power of b \n",
    "print (100 % 40)    # modulus, remainder of the division"
   ]
  },
  {
   "cell_type": "code",
   "execution_count": 20,
   "metadata": {},
   "outputs": [
    {
     "name": "stdout",
     "output_type": "stream",
     "text": [
      "EVEN Number\n",
      "ODD Number\n"
     ]
    }
   ],
   "source": [
    "num1 = 100 \n",
    "result = \"EVEN Number\" if (num1 % 2 == 0) else \"ODD Number\"    \n",
    "print (result) \n",
    "num1 = 101 \n",
    "result = \"EVEN Number\" if (num1 % 2 == 0) else \"ODD Number\" \n",
    "print (result)"
   ]
  },
  {
   "cell_type": "code",
   "execution_count": 24,
   "metadata": {},
   "outputs": [
    {
     "name": "stdout",
     "output_type": "stream",
     "text": [
      "1\n"
     ]
    }
   ],
   "source": [
    "friends = 0\n",
    "\n",
    "#friends = friends + 1 \n",
    "friends += 1\n",
    "\n",
    "print (friends)"
   ]
  },
  {
   "cell_type": "code",
   "execution_count": 25,
   "metadata": {},
   "outputs": [
    {
     "name": "stdout",
     "output_type": "stream",
     "text": [
      "100\n",
      "110\n",
      "100\n",
      "1000\n",
      "1000000\n"
     ]
    }
   ],
   "source": [
    "num1 = 100 \n",
    "print (num1) \n",
    "num1 += 10 \n",
    "print (num1) \n",
    "num1 -= 10 \n",
    "print (num1) \n",
    "num1 *= 10 \n",
    "print (num1) \n",
    "num1 **= 2 \n",
    "print (num1) "
   ]
  },
  {
   "cell_type": "code",
   "execution_count": 35,
   "metadata": {},
   "outputs": [
    {
     "name": "stdout",
     "output_type": "stream",
     "text": [
      "A\n",
      "65\n",
      "a\n"
     ]
    }
   ],
   "source": [
    "var = 65\n",
    "var = chr(var)\n",
    "print (var)\n",
    "\n",
    "mychar = 'A'\n",
    "print (ord(mychar))\n",
    "mychar = chr(ord(mychar) | 32)\n",
    "print (mychar)"
   ]
  },
  {
   "cell_type": "code",
   "execution_count": 36,
   "metadata": {},
   "outputs": [
    {
     "name": "stdout",
     "output_type": "stream",
     "text": [
      "a 97\n",
      "A 65\n"
     ]
    }
   ],
   "source": [
    "mychar = 'a' \n",
    "print (mychar, ord(mychar)) \n",
    "mychar = chr(ord(mychar) & 223) \n",
    "print (mychar, ord(mychar))"
   ]
  },
  {
   "cell_type": "code",
   "execution_count": 37,
   "metadata": {},
   "outputs": [
    {
     "name": "stdout",
     "output_type": "stream",
     "text": [
      "The third number is the maximum number...\n",
      "The maximum number is 30\n"
     ]
    }
   ],
   "source": [
    "num1 = int(input(\"Please enter the first number: \")) \n",
    "num2 = int(input(\"Please enter the second number: \")) \n",
    "num3 = int(input(\"Please enter the third number: \")) \n",
    "if (num1 > num2): \n",
    "    if (num1 > num3): \n",
    "        print (\"The first number is the maximum number...\") \n",
    "        print (\"The maximum number is\", num1) \n",
    "    else: \n",
    "        print (\"The third number is the maximum number...\") \n",
    "        print (\"The maximum number is\", num3) \n",
    "elif (num2 > num3): \n",
    "    print (\"The second number is the maximum number...\") \n",
    "    print (\"The maximum number is\", num2) \n",
    "else: \n",
    "    print (\"The third number is the maximum number...\") \n",
    "    print (\"The maximum number is\", num3)"
   ]
  },
  {
   "cell_type": "code",
   "execution_count": 39,
   "metadata": {},
   "outputs": [
    {
     "name": "stdout",
     "output_type": "stream",
     "text": [
      "The third number is the maximum number...\n"
     ]
    }
   ],
   "source": [
    "num1 = int(input(\"Please enter the first number: \")) \n",
    "num2 = int(input(\"Please enter the second number: \")) \n",
    "num3 = int(input(\"Please enter the third number: \")) \n",
    "if num1 > num2 and num1 > num3: \n",
    "    print (\"The first number is the maxium number...\")\n",
    "elif num2 > num3 and num2 > num1: \n",
    "    print (\"The second number is the maximum number...\")\n",
    "else: \n",
    "    print (\"The third number is the maximum number...\") \n",
    "    "
   ]
  },
  {
   "cell_type": "code",
   "execution_count": 40,
   "metadata": {},
   "outputs": [
    {
     "name": "stdout",
     "output_type": "stream",
     "text": [
      "User Online \n"
     ]
    }
   ],
   "source": [
    "online = True\n",
    "\n",
    "if online:\n",
    "    print (\"User Online \")\n",
    "else : \n",
    "    print (\"User Offline\")\n",
    "\n"
   ]
  },
  {
   "cell_type": "code",
   "execution_count": 41,
   "metadata": {},
   "outputs": [
    {
     "name": "stdout",
     "output_type": "stream",
     "text": [
      "True False False False\n",
      "True True True False\n",
      "False True\n"
     ]
    }
   ],
   "source": [
    "print (True and True, True and False, False and True, False and False) \n",
    "print (True or True, True or False, False or True, False or False)\n",
    "print (not True, not False)"
   ]
  },
  {
   "cell_type": "markdown",
   "metadata": {},
   "source": [
    "#### Strings"
   ]
  },
  {
   "cell_type": "code",
   "execution_count": 4,
   "metadata": {},
   "outputs": [
    {
     "name": "stdout",
     "output_type": "stream",
     "text": [
      "2\n"
     ]
    }
   ],
   "source": [
    "name =  input(\"Enter the full name: \")\n",
    "\n",
    "#result = len(name)\n",
    "result = name.find(\"a\") #fisrt index(Occurance)\n",
    "#result = name.rfind(\"n\") #last index(Occurance)\n",
    "#name = name.capitalize()\n",
    "#name = name.upper()\n",
    "#name = name.lower()\n",
    "#result = name.isdigit()\n",
    "#result = name.isalpha()\n",
    "#result = name.count(\"a\")\n",
    "#result = name.replace(\" \", \"-\")\n",
    "print (result)"
   ]
  },
  {
   "cell_type": "code",
   "execution_count": 58,
   "metadata": {},
   "outputs": [
    {
     "name": "stdout",
     "output_type": "stream",
     "text": [
      "Help on class str in module builtins:\n",
      "\n",
      "class str(object)\n",
      " |  str(object='') -> str\n",
      " |  str(bytes_or_buffer[, encoding[, errors]]) -> str\n",
      " |  \n",
      " |  Create a new string object from the given object. If encoding or\n",
      " |  errors is specified, then the object must expose a data buffer\n",
      " |  that will be decoded using the given encoding and error handler.\n",
      " |  Otherwise, returns the result of object.__str__() (if defined)\n",
      " |  or repr(object).\n",
      " |  encoding defaults to sys.getdefaultencoding().\n",
      " |  errors defaults to 'strict'.\n",
      " |  \n",
      " |  Methods defined here:\n",
      " |  \n",
      " |  __add__(self, value, /)\n",
      " |      Return self+value.\n",
      " |  \n",
      " |  __contains__(self, key, /)\n",
      " |      Return key in self.\n",
      " |  \n",
      " |  __eq__(self, value, /)\n",
      " |      Return self==value.\n",
      " |  \n",
      " |  __format__(self, format_spec, /)\n",
      " |      Return a formatted version of the string as described by format_spec.\n",
      " |  \n",
      " |  __ge__(self, value, /)\n",
      " |      Return self>=value.\n",
      " |  \n",
      " |  __getattribute__(self, name, /)\n",
      " |      Return getattr(self, name).\n",
      " |  \n",
      " |  __getitem__(self, key, /)\n",
      " |      Return self[key].\n",
      " |  \n",
      " |  __getnewargs__(...)\n",
      " |  \n",
      " |  __gt__(self, value, /)\n",
      " |      Return self>value.\n",
      " |  \n",
      " |  __hash__(self, /)\n",
      " |      Return hash(self).\n",
      " |  \n",
      " |  __iter__(self, /)\n",
      " |      Implement iter(self).\n",
      " |  \n",
      " |  __le__(self, value, /)\n",
      " |      Return self<=value.\n",
      " |  \n",
      " |  __len__(self, /)\n",
      " |      Return len(self).\n",
      " |  \n",
      " |  __lt__(self, value, /)\n",
      " |      Return self<value.\n",
      " |  \n",
      " |  __mod__(self, value, /)\n",
      " |      Return self%value.\n",
      " |  \n",
      " |  __mul__(self, value, /)\n",
      " |      Return self*value.\n",
      " |  \n",
      " |  __ne__(self, value, /)\n",
      " |      Return self!=value.\n",
      " |  \n",
      " |  __repr__(self, /)\n",
      " |      Return repr(self).\n",
      " |  \n",
      " |  __rmod__(self, value, /)\n",
      " |      Return value%self.\n",
      " |  \n",
      " |  __rmul__(self, value, /)\n",
      " |      Return value*self.\n",
      " |  \n",
      " |  __sizeof__(self, /)\n",
      " |      Return the size of the string in memory, in bytes.\n",
      " |  \n",
      " |  __str__(self, /)\n",
      " |      Return str(self).\n",
      " |  \n",
      " |  capitalize(self, /)\n",
      " |      Return a capitalized version of the string.\n",
      " |      \n",
      " |      More specifically, make the first character have upper case and the rest lower\n",
      " |      case.\n",
      " |  \n",
      " |  casefold(self, /)\n",
      " |      Return a version of the string suitable for caseless comparisons.\n",
      " |  \n",
      " |  center(self, width, fillchar=' ', /)\n",
      " |      Return a centered string of length width.\n",
      " |      \n",
      " |      Padding is done using the specified fill character (default is a space).\n",
      " |  \n",
      " |  count(...)\n",
      " |      S.count(sub[, start[, end]]) -> int\n",
      " |      \n",
      " |      Return the number of non-overlapping occurrences of substring sub in\n",
      " |      string S[start:end].  Optional arguments start and end are\n",
      " |      interpreted as in slice notation.\n",
      " |  \n",
      " |  encode(self, /, encoding='utf-8', errors='strict')\n",
      " |      Encode the string using the codec registered for encoding.\n",
      " |      \n",
      " |      encoding\n",
      " |        The encoding in which to encode the string.\n",
      " |      errors\n",
      " |        The error handling scheme to use for encoding errors.\n",
      " |        The default is 'strict' meaning that encoding errors raise a\n",
      " |        UnicodeEncodeError.  Other possible values are 'ignore', 'replace' and\n",
      " |        'xmlcharrefreplace' as well as any other name registered with\n",
      " |        codecs.register_error that can handle UnicodeEncodeErrors.\n",
      " |  \n",
      " |  endswith(...)\n",
      " |      S.endswith(suffix[, start[, end]]) -> bool\n",
      " |      \n",
      " |      Return True if S ends with the specified suffix, False otherwise.\n",
      " |      With optional start, test S beginning at that position.\n",
      " |      With optional end, stop comparing S at that position.\n",
      " |      suffix can also be a tuple of strings to try.\n",
      " |  \n",
      " |  expandtabs(self, /, tabsize=8)\n",
      " |      Return a copy where all tab characters are expanded using spaces.\n",
      " |      \n",
      " |      If tabsize is not given, a tab size of 8 characters is assumed.\n",
      " |  \n",
      " |  find(...)\n",
      " |      S.find(sub[, start[, end]]) -> int\n",
      " |      \n",
      " |      Return the lowest index in S where substring sub is found,\n",
      " |      such that sub is contained within S[start:end].  Optional\n",
      " |      arguments start and end are interpreted as in slice notation.\n",
      " |      \n",
      " |      Return -1 on failure.\n",
      " |  \n",
      " |  format(...)\n",
      " |      S.format(*args, **kwargs) -> str\n",
      " |      \n",
      " |      Return a formatted version of S, using substitutions from args and kwargs.\n",
      " |      The substitutions are identified by braces ('{' and '}').\n",
      " |  \n",
      " |  format_map(...)\n",
      " |      S.format_map(mapping) -> str\n",
      " |      \n",
      " |      Return a formatted version of S, using substitutions from mapping.\n",
      " |      The substitutions are identified by braces ('{' and '}').\n",
      " |  \n",
      " |  index(...)\n",
      " |      S.index(sub[, start[, end]]) -> int\n",
      " |      \n",
      " |      Return the lowest index in S where substring sub is found,\n",
      " |      such that sub is contained within S[start:end].  Optional\n",
      " |      arguments start and end are interpreted as in slice notation.\n",
      " |      \n",
      " |      Raises ValueError when the substring is not found.\n",
      " |  \n",
      " |  isalnum(self, /)\n",
      " |      Return True if the string is an alpha-numeric string, False otherwise.\n",
      " |      \n",
      " |      A string is alpha-numeric if all characters in the string are alpha-numeric and\n",
      " |      there is at least one character in the string.\n",
      " |  \n",
      " |  isalpha(self, /)\n",
      " |      Return True if the string is an alphabetic string, False otherwise.\n",
      " |      \n",
      " |      A string is alphabetic if all characters in the string are alphabetic and there\n",
      " |      is at least one character in the string.\n",
      " |  \n",
      " |  isascii(self, /)\n",
      " |      Return True if all characters in the string are ASCII, False otherwise.\n",
      " |      \n",
      " |      ASCII characters have code points in the range U+0000-U+007F.\n",
      " |      Empty string is ASCII too.\n",
      " |  \n",
      " |  isdecimal(self, /)\n",
      " |      Return True if the string is a decimal string, False otherwise.\n",
      " |      \n",
      " |      A string is a decimal string if all characters in the string are decimal and\n",
      " |      there is at least one character in the string.\n",
      " |  \n",
      " |  isdigit(self, /)\n",
      " |      Return True if the string is a digit string, False otherwise.\n",
      " |      \n",
      " |      A string is a digit string if all characters in the string are digits and there\n",
      " |      is at least one character in the string.\n",
      " |  \n",
      " |  isidentifier(self, /)\n",
      " |      Return True if the string is a valid Python identifier, False otherwise.\n",
      " |      \n",
      " |      Call keyword.iskeyword(s) to test whether string s is a reserved identifier,\n",
      " |      such as \"def\" or \"class\".\n",
      " |  \n",
      " |  islower(self, /)\n",
      " |      Return True if the string is a lowercase string, False otherwise.\n",
      " |      \n",
      " |      A string is lowercase if all cased characters in the string are lowercase and\n",
      " |      there is at least one cased character in the string.\n",
      " |  \n",
      " |  isnumeric(self, /)\n",
      " |      Return True if the string is a numeric string, False otherwise.\n",
      " |      \n",
      " |      A string is numeric if all characters in the string are numeric and there is at\n",
      " |      least one character in the string.\n",
      " |  \n",
      " |  isprintable(self, /)\n",
      " |      Return True if the string is printable, False otherwise.\n",
      " |      \n",
      " |      A string is printable if all of its characters are considered printable in\n",
      " |      repr() or if it is empty.\n",
      " |  \n",
      " |  isspace(self, /)\n",
      " |      Return True if the string is a whitespace string, False otherwise.\n",
      " |      \n",
      " |      A string is whitespace if all characters in the string are whitespace and there\n",
      " |      is at least one character in the string.\n",
      " |  \n",
      " |  istitle(self, /)\n",
      " |      Return True if the string is a title-cased string, False otherwise.\n",
      " |      \n",
      " |      In a title-cased string, upper- and title-case characters may only\n",
      " |      follow uncased characters and lowercase characters only cased ones.\n",
      " |  \n",
      " |  isupper(self, /)\n",
      " |      Return True if the string is an uppercase string, False otherwise.\n",
      " |      \n",
      " |      A string is uppercase if all cased characters in the string are uppercase and\n",
      " |      there is at least one cased character in the string.\n",
      " |  \n",
      " |  join(self, iterable, /)\n",
      " |      Concatenate any number of strings.\n",
      " |      \n",
      " |      The string whose method is called is inserted in between each given string.\n",
      " |      The result is returned as a new string.\n",
      " |      \n",
      " |      Example: '.'.join(['ab', 'pq', 'rs']) -> 'ab.pq.rs'\n",
      " |  \n",
      " |  ljust(self, width, fillchar=' ', /)\n",
      " |      Return a left-justified string of length width.\n",
      " |      \n",
      " |      Padding is done using the specified fill character (default is a space).\n",
      " |  \n",
      " |  lower(self, /)\n",
      " |      Return a copy of the string converted to lowercase.\n",
      " |  \n",
      " |  lstrip(self, chars=None, /)\n",
      " |      Return a copy of the string with leading whitespace removed.\n",
      " |      \n",
      " |      If chars is given and not None, remove characters in chars instead.\n",
      " |  \n",
      " |  partition(self, sep, /)\n",
      " |      Partition the string into three parts using the given separator.\n",
      " |      \n",
      " |      This will search for the separator in the string.  If the separator is found,\n",
      " |      returns a 3-tuple containing the part before the separator, the separator\n",
      " |      itself, and the part after it.\n",
      " |      \n",
      " |      If the separator is not found, returns a 3-tuple containing the original string\n",
      " |      and two empty strings.\n",
      " |  \n",
      " |  removeprefix(self, prefix, /)\n",
      " |      Return a str with the given prefix string removed if present.\n",
      " |      \n",
      " |      If the string starts with the prefix string, return string[len(prefix):].\n",
      " |      Otherwise, return a copy of the original string.\n",
      " |  \n",
      " |  removesuffix(self, suffix, /)\n",
      " |      Return a str with the given suffix string removed if present.\n",
      " |      \n",
      " |      If the string ends with the suffix string and that suffix is not empty,\n",
      " |      return string[:-len(suffix)]. Otherwise, return a copy of the original\n",
      " |      string.\n",
      " |  \n",
      " |  replace(self, old, new, count=-1, /)\n",
      " |      Return a copy with all occurrences of substring old replaced by new.\n",
      " |      \n",
      " |        count\n",
      " |          Maximum number of occurrences to replace.\n",
      " |          -1 (the default value) means replace all occurrences.\n",
      " |      \n",
      " |      If the optional argument count is given, only the first count occurrences are\n",
      " |      replaced.\n",
      " |  \n",
      " |  rfind(...)\n",
      " |      S.rfind(sub[, start[, end]]) -> int\n",
      " |      \n",
      " |      Return the highest index in S where substring sub is found,\n",
      " |      such that sub is contained within S[start:end].  Optional\n",
      " |      arguments start and end are interpreted as in slice notation.\n",
      " |      \n",
      " |      Return -1 on failure.\n",
      " |  \n",
      " |  rindex(...)\n",
      " |      S.rindex(sub[, start[, end]]) -> int\n",
      " |      \n",
      " |      Return the highest index in S where substring sub is found,\n",
      " |      such that sub is contained within S[start:end].  Optional\n",
      " |      arguments start and end are interpreted as in slice notation.\n",
      " |      \n",
      " |      Raises ValueError when the substring is not found.\n",
      " |  \n",
      " |  rjust(self, width, fillchar=' ', /)\n",
      " |      Return a right-justified string of length width.\n",
      " |      \n",
      " |      Padding is done using the specified fill character (default is a space).\n",
      " |  \n",
      " |  rpartition(self, sep, /)\n",
      " |      Partition the string into three parts using the given separator.\n",
      " |      \n",
      " |      This will search for the separator in the string, starting at the end. If\n",
      " |      the separator is found, returns a 3-tuple containing the part before the\n",
      " |      separator, the separator itself, and the part after it.\n",
      " |      \n",
      " |      If the separator is not found, returns a 3-tuple containing two empty strings\n",
      " |      and the original string.\n",
      " |  \n",
      " |  rsplit(self, /, sep=None, maxsplit=-1)\n",
      " |      Return a list of the words in the string, using sep as the delimiter string.\n",
      " |      \n",
      " |        sep\n",
      " |          The delimiter according which to split the string.\n",
      " |          None (the default value) means split according to any whitespace,\n",
      " |          and discard empty strings from the result.\n",
      " |        maxsplit\n",
      " |          Maximum number of splits to do.\n",
      " |          -1 (the default value) means no limit.\n",
      " |      \n",
      " |      Splits are done starting at the end of the string and working to the front.\n",
      " |  \n",
      " |  rstrip(self, chars=None, /)\n",
      " |      Return a copy of the string with trailing whitespace removed.\n",
      " |      \n",
      " |      If chars is given and not None, remove characters in chars instead.\n",
      " |  \n",
      " |  split(self, /, sep=None, maxsplit=-1)\n",
      " |      Return a list of the words in the string, using sep as the delimiter string.\n",
      " |      \n",
      " |      sep\n",
      " |        The delimiter according which to split the string.\n",
      " |        None (the default value) means split according to any whitespace,\n",
      " |        and discard empty strings from the result.\n",
      " |      maxsplit\n",
      " |        Maximum number of splits to do.\n",
      " |        -1 (the default value) means no limit.\n",
      " |  \n",
      " |  splitlines(self, /, keepends=False)\n",
      " |      Return a list of the lines in the string, breaking at line boundaries.\n",
      " |      \n",
      " |      Line breaks are not included in the resulting list unless keepends is given and\n",
      " |      true.\n",
      " |  \n",
      " |  startswith(...)\n",
      " |      S.startswith(prefix[, start[, end]]) -> bool\n",
      " |      \n",
      " |      Return True if S starts with the specified prefix, False otherwise.\n",
      " |      With optional start, test S beginning at that position.\n",
      " |      With optional end, stop comparing S at that position.\n",
      " |      prefix can also be a tuple of strings to try.\n",
      " |  \n",
      " |  strip(self, chars=None, /)\n",
      " |      Return a copy of the string with leading and trailing whitespace removed.\n",
      " |      \n",
      " |      If chars is given and not None, remove characters in chars instead.\n",
      " |  \n",
      " |  swapcase(self, /)\n",
      " |      Convert uppercase characters to lowercase and lowercase characters to uppercase.\n",
      " |  \n",
      " |  title(self, /)\n",
      " |      Return a version of the string where each word is titlecased.\n",
      " |      \n",
      " |      More specifically, words start with uppercased characters and all remaining\n",
      " |      cased characters have lower case.\n",
      " |  \n",
      " |  translate(self, table, /)\n",
      " |      Replace each character in the string using the given translation table.\n",
      " |      \n",
      " |        table\n",
      " |          Translation table, which must be a mapping of Unicode ordinals to\n",
      " |          Unicode ordinals, strings, or None.\n",
      " |      \n",
      " |      The table must implement lookup/indexing via __getitem__, for instance a\n",
      " |      dictionary or list.  If this operation raises LookupError, the character is\n",
      " |      left untouched.  Characters mapped to None are deleted.\n",
      " |  \n",
      " |  upper(self, /)\n",
      " |      Return a copy of the string converted to uppercase.\n",
      " |  \n",
      " |  zfill(self, width, /)\n",
      " |      Pad a numeric string with zeros on the left, to fill a field of the given width.\n",
      " |      \n",
      " |      The string is never truncated.\n",
      " |  \n",
      " |  ----------------------------------------------------------------------\n",
      " |  Static methods defined here:\n",
      " |  \n",
      " |  __new__(*args, **kwargs) from builtins.type\n",
      " |      Create and return a new object.  See help(type) for accurate signature.\n",
      " |  \n",
      " |  maketrans(...)\n",
      " |      Return a translation table usable for str.translate().\n",
      " |      \n",
      " |      If there is only one argument, it must be a dictionary mapping Unicode\n",
      " |      ordinals (integers) or characters to Unicode ordinals, strings or None.\n",
      " |      Character keys will be then converted to ordinals.\n",
      " |      If there are two arguments, they must be strings of equal length, and\n",
      " |      in the resulting dictionary, each character in x will be mapped to the\n",
      " |      character at the same position in y. If there is a third argument, it\n",
      " |      must be a string, whose characters will be mapped to None in the result.\n",
      "\n"
     ]
    }
   ],
   "source": [
    "help(str)"
   ]
  },
  {
   "cell_type": "code",
   "execution_count": 68,
   "metadata": {},
   "outputs": [
    {
     "name": "stdout",
     "output_type": "stream",
     "text": [
      "1234\n",
      "-567\n",
      "-8901-12\n",
      "567-8901-12\n",
      "2\n",
      "146812\n",
      "1-12\n",
      "21-1098-765-4321\n"
     ]
    }
   ],
   "source": [
    "#   [start : end : step]\n",
    "\n",
    "credit_number = \"1234-567-8901-12\"\n",
    "\n",
    "print (credit_number[:4])\n",
    "print (credit_number[4:8])\n",
    "print (credit_number[8:])\n",
    "print (credit_number[5:])\n",
    "print (credit_number[-1])\n",
    "print (credit_number[::3])\n",
    "print (credit_number[-4:])\n",
    "print (credit_number[::-1]) #reversing "
   ]
  },
  {
   "cell_type": "code",
   "execution_count": 69,
   "metadata": {},
   "outputs": [
    {
     "name": "stdout",
     "output_type": "stream",
     "text": [
      "Your Username is amanhossainmail and domain is gmail.com\n"
     ]
    }
   ],
   "source": [
    "email = input(\"Enter your email: \")\n",
    "\n",
    "index = email.index(\"@\")\n",
    "\n",
    "username = email[:index]\n",
    "domain = email[index+1 :]\n",
    "\n",
    "print (f\"Your Username is {username} and domain is {domain}\")"
   ]
  },
  {
   "cell_type": "code",
   "execution_count": 5,
   "metadata": {},
   "outputs": [
    {
     "name": "stdout",
     "output_type": "stream",
     "text": [
      "1, 2, 3, 4, 5, \n",
      "End of the program...\n"
     ]
    }
   ],
   "source": [
    "i = 1 \n",
    "while i <= 10: \n",
    "    print (i, end = \", \") \n",
    "    if (i == 5): break \n",
    "    i = i + 1\n",
    "else: \n",
    "    print (\"\\nLoop got executed successfully...\") \n",
    "print (\"\\nEnd of the program...\")"
   ]
  },
  {
   "cell_type": "code",
   "execution_count": 80,
   "metadata": {},
   "outputs": [
    {
     "name": "stdout",
     "output_type": "stream",
     "text": [
      "i = 0\n",
      "i = 1\n",
      "i = 2\n",
      "i = 3\n",
      "i = 4\n",
      "Continuing the loop...\n",
      "i = 6\n",
      "Continuing the loop...\n",
      "Continuing the loop...\n",
      "i = 9\n",
      "Loop got executed successfully...\n",
      "End of the program...\n"
     ]
    }
   ],
   "source": [
    "for i in range (10): \n",
    "    if (i == 5 or i == 7 or i == 8):  \n",
    "        print (\"Continuing the loop...\") \n",
    "        continue \n",
    "    print (\"i =\", i) \n",
    "else: \n",
    "    print (\"Loop got executed successfully...\") \n",
    "print (\"End of the program...\")"
   ]
  },
  {
   "cell_type": "code",
   "execution_count": 83,
   "metadata": {},
   "outputs": [
    {
     "name": "stdout",
     "output_type": "stream",
     "text": [
      "Balance after 2.0 years is $1102.50\n"
     ]
    }
   ],
   "source": [
    "principle = 0\n",
    "rate = 0\n",
    "time = 0\n",
    "\n",
    "while principle <= 0:\n",
    "    principle = float(input(\"Enter the Principle amount: \"))\n",
    "    if principle <=0:\n",
    "        print(\"Enter a valid principle amount\")\n",
    "\n",
    "while rate <=0:\n",
    "    rate = float(input(\"Enter the rate of interest: \"))\n",
    "    if rate <=0:\n",
    "        print(\"Enter a valid rate of interest\")\n",
    "\n",
    "while time <=0:\n",
    "    time = float(input(\"Enter the time period: \"))\n",
    "    if time <= 0:\n",
    "       print(\"Enter a valid time period\")\n",
    "\n",
    "total = principle * pow((1+rate/100),time)\n",
    "\n",
    "print(f\"Balance after {time} years is ${total:.2f}\")"
   ]
  },
  {
   "cell_type": "code",
   "execution_count": 85,
   "metadata": {},
   "outputs": [
    {
     "name": "stdout",
     "output_type": "stream",
     "text": [
      "0, 1, 2, 3, 4, 5, 6, 7, 8, 9, \n",
      "Loop got executed successfully...\n",
      "1, 2, 3, 4, 5, 6, 7, 8, 9, \n",
      "Loop got executed successfully...\n",
      "0, 1, 2, 3, 4, 5, 6, 7, 8, 9, \n",
      "Loop got executed successfully...\n",
      "-10, -9, -8, -7, -6, -5, -4, -3, -2, -1, \n",
      "Loop got executed successfully...\n",
      "1, 3, 5, 7, 9, \n",
      "Loop got executed successfully...\n"
     ]
    }
   ],
   "source": [
    "for i in range(10): \n",
    "    print (i, end = \", \") \n",
    "else: \n",
    "    print (\"\\nLoop got executed successfully...\") \n",
    "     \n",
    "for i in range(1, 10): \n",
    "    print (i, end = \", \") \n",
    "else: \n",
    "    print (\"\\nLoop got executed successfully...\") \n",
    "     \n",
    "for i in range(0, 10, 1): \n",
    "    print (i, end = \", \") \n",
    "else: \n",
    "    print (\"\\nLoop got executed successfully...\") \n",
    " \n",
    "for i in range(-10, 0, 1): \n",
    "    print (i, end = \", \") \n",
    "else: \n",
    "    print (\"\\nLoop got executed successfully...\") \n",
    " \n",
    "for i in range(1, 10, 2): \n",
    "    print (i, end = \", \") \n",
    "else: \n",
    "    print (\"\\nLoop got executed successfully...\")\n",
    "    "
   ]
  },
  {
   "cell_type": "code",
   "execution_count": 93,
   "metadata": {},
   "outputs": [
    {
     "name": "stdout",
     "output_type": "stream",
     "text": [
      "Visit Doctor...\n",
      "Good morning to my Family Members...\n",
      "Day No. = 1 and Medicine No. = 1...\n",
      "Day No. = 1 and Medicine No. = 2...\n",
      "Day No. = 1 and Medicine No. = 3...\n",
      "Good night to my Family Members...\n",
      "---------------------------------------------\n",
      "Good morning to my Family Members...\n",
      "Day No. = 2 and Medicine No. = 1...\n",
      "Day No. = 2 and Medicine No. = 2...\n",
      "Day No. = 2 and Medicine No. = 3...\n",
      "Good night to my Family Members...\n",
      "---------------------------------------------\n",
      "Good morning to my Family Members...\n",
      "Day No. = 3 and Medicine No. = 1...\n",
      "Day No. = 3 and Medicine No. = 2...\n",
      "Day No. = 3 and Medicine No. = 3...\n",
      "Good night to my Family Members...\n",
      "---------------------------------------------\n",
      "Good morning to my Family Members...\n",
      "Day No. = 4 and Medicine No. = 1...\n",
      "Day No. = 4 and Medicine No. = 2...\n",
      "Day No. = 4 and Medicine No. = 3...\n",
      "Good night to my Family Members...\n",
      "---------------------------------------------\n",
      "Good morning to my Family Members...\n",
      "Day No. = 5 and Medicine No. = 1...\n",
      "Day No. = 5 and Medicine No. = 2...\n",
      "Day No. = 5 and Medicine No. = 3...\n",
      "Good night to my Family Members...\n",
      "---------------------------------------------\n",
      "Thanks to Doctor...\n",
      "Total number of medicine consumed is 15...\n",
      "End of the story...\n"
     ]
    }
   ],
   "source": [
    "print (\"Visit Doctor...\")    # 1 time \n",
    "day = 1 \n",
    "medicount = 0 \n",
    "while (day <= 5): \n",
    "    print (\"Good morning to my Family Members...\")     # 5 times \n",
    "    for medi in range(1, 4): \n",
    "        print (f\"Day No. = {day} and Medicine No. = {medi}...\")     # 15 times \n",
    "        medicount += 1 \n",
    "    print (\"Good night to my Family Members...\")     # 5 times \n",
    "    print (\"---------------------------------------------\")     # 5 times \n",
    "    day += 1 \n",
    "print (\"Thanks to Doctor...\") \n",
    "print (f\"Total number of medicine consumed is {medicount}...\") \n",
    "print (\"End of the story...\") "
   ]
  },
  {
   "cell_type": "code",
   "execution_count": 94,
   "metadata": {},
   "outputs": [
    {
     "name": "stdout",
     "output_type": "stream",
     "text": [
      "1 2 3 4 5 6 7 8 9 \n",
      "1 2 3 4 5 6 7 8 9 \n",
      "1 2 3 4 5 6 7 8 9 \n"
     ]
    }
   ],
   "source": [
    "for i in range(3):\n",
    "    for j in range(1,10):\n",
    "        print(j, end = \" \")\n",
    "    print()\n",
    "    "
   ]
  },
  {
   "cell_type": "code",
   "execution_count": 109,
   "metadata": {},
   "outputs": [
    {
     "name": "stdout",
     "output_type": "stream",
     "text": [
      "00:00:10\n",
      "00:00:09\n",
      "00:00:08\n",
      "00:00:07\n",
      "00:00:06\n",
      "00:00:05\n",
      "00:00:04\n",
      "00:00:03\n",
      "00:00:02\n",
      "00:00:01\n",
      "Times Up\n"
     ]
    }
   ],
   "source": [
    "import time\n",
    "\n",
    "myTime = int(input(\"Enter the time in secs: \"))\n",
    "\n",
    "for i in range (myTime, 0, -1):\n",
    "    secs = i % 60\n",
    "    mins = (i // 60) % 60\n",
    "    hrs = (i // 3600)\n",
    "    print (f\"{hrs:02}:{mins:02}:{secs:02}\")\n",
    "    time.sleep(1)\n",
    "\n",
    "print (\"Times Up\")"
   ]
  },
  {
   "cell_type": "code",
   "execution_count": 110,
   "metadata": {},
   "outputs": [
    {
     "name": "stdout",
     "output_type": "stream",
     "text": [
      "[1001, 'Amit', 'Male', 'Developer', 30000.55, True] 6 <class 'list'> 1765084455296\n",
      "(1001, 'Amit', 'Male', 'Developer', 30000.55, True) 6 <class 'tuple'> 1765084767808\n",
      "{'empid': 1001, 'empname': 'Amit', 'empgender': 'Male', 'empjob': 'Developer', 'empsal': 30000.55, 'empmarried': 'No'} 6 <class 'dict'> 1765084518336\n",
      "{30000.55, True, 'Developer', 'Amit', 1001, 'Male'} 6 <class 'set'> 1765084859968\n",
      "frozenset({True, 'Developer', 1001, 'Amit', 30000.55, 'Male'}) 6 <class 'frozenset'> 1765084859072\n"
     ]
    }
   ],
   "source": [
    "var1 = [1001, \"Amit\", \"Male\", \"Developer\", 30000.55, True] # ordered and changeable. duplicate Ok\n",
    "print (var1, len(var1), type(var1), id(var1)) \n",
    "var1 = (1001, \"Amit\", \"Male\", \"Developer\", 30000.55, True) # ordered and unchangeble. duplicate Ok\n",
    "print (var1, len(var1), type(var1), id(var1)) \n",
    "var1 = {\"empid\":1001, \"empname\":\"Amit\", \"empgender\":\"Male\", \"empjob\":\"Developer\", \"empsal\":30000.55, \"empmarried\":\"No\"}\n",
    "print (var1, len(var1), type(var1), id(var1)) \n",
    "var1 = {1001, \"Amit\", \"Male\", \"Developer\", 1001, \"Amit\", \"Male\", \"Developer\", 30000.55, True} # unordered and immutable, but Add/Remove Ok. No Duplicates \n",
    "print (var1, len(var1), type(var1), id(var1)) \n",
    "var1 = frozenset([1001, \"Amit\", \"Male\", \"Developer\", 1001, \"Amit\", \"Male\", \"Developer\", 30000.55, True]) \n",
    "print (var1, len(var1), type(var1), id(var1)) "
   ]
  },
  {
   "cell_type": "code",
   "execution_count": 139,
   "metadata": {},
   "outputs": [
    {
     "name": "stdout",
     "output_type": "stream",
     "text": [
      "1\n",
      "['apple', 'banana', 'orange', 'coconut']\n"
     ]
    }
   ],
   "source": [
    "fruits = [\"apple\", \"banana\", \"orange\", \"coconut\"]\n",
    "#vegetables = [\"watermelon\",\" carrot\", \"broccoli\", \"cauliflower\", \"potato\"]\n",
    "#print(fruits[::2])\n",
    "\n",
    "#for fruit in fruits:\n",
    "   # print (fruit)\n",
    "\n",
    "#print(dir(fruits))\n",
    "\n",
    "#help(fruits)\n",
    "#fruits.append(\"pineapple\")\n",
    "#fruits.remove(\"apple\")\n",
    "#fruits.insert(0, \"watermelon\")\n",
    "#print(fruits.index(\"banana\"))\n",
    "#print (fruits)\n",
    "#fruits.sort()\n",
    "#fruits.reverse()\n",
    "print(fruits.count(\"apple\"))\n",
    "#vegetables.sort()\n",
    "#print(vegetables)\n",
    "print (fruits)"
   ]
  },
  {
   "cell_type": "code",
   "execution_count": 148,
   "metadata": {},
   "outputs": [
    {
     "name": "stdout",
     "output_type": "stream",
     "text": [
      "{'potato', 'broccoli', 'onion'}\n"
     ]
    }
   ],
   "source": [
    "vegetables = {\"carrot\", \"broccoli\", \"cauliflower\", \"potato\"}\n",
    "\n",
    "vegetables.add(\"onion\")\n",
    "vegetables.remove(\"cauliflower\")\n",
    "vegetables.pop()\n",
    "print (vegetables)"
   ]
  },
  {
   "cell_type": "code",
   "execution_count": 153,
   "metadata": {},
   "outputs": [
    {
     "name": "stdout",
     "output_type": "stream",
     "text": [
      "('apple', 'banana', 'orange', 'coconut')\n",
      "4\n",
      "False\n",
      "0\n",
      "1\n"
     ]
    }
   ],
   "source": [
    "fruits = (\"apple\", \"banana\", \"orange\", \"coconut\")\n",
    "\n",
    "print(fruits)\n",
    "print(len(fruits))\n",
    "print(\"pineapple\" in fruits)\n",
    "\n",
    "print(fruits.index(\"apple\"))\n",
    "\n",
    "print(fruits.count(\"coconut\"))\n"
   ]
  },
  {
   "cell_type": "code",
   "execution_count": 160,
   "metadata": {},
   "outputs": [
    {
     "name": "stdout",
     "output_type": "stream",
     "text": [
      "______Your cart______\n",
      "Burger Sandwich Shawarma \n",
      "Your Total is $13.379999999999999\n"
     ]
    }
   ],
   "source": [
    "foods = []\n",
    "prices = []\n",
    "total = 0\n",
    "\n",
    "while True:\n",
    "    food = input(\"Enter a food to buy (Q to Quit): \")\n",
    "    if food.lower() == \"q\":\n",
    "        break\n",
    "    else:\n",
    "        price = float(input(\"Enter the price of the {food:} $\"))\n",
    "        foods.append(food)\n",
    "        prices.append(price)\n",
    "\n",
    "print(\"______Your cart______\")\n",
    "\n",
    "for food in foods:\n",
    "    print (food, end = \" \")\n",
    "\n",
    "for price in prices:\n",
    "    total += price\n",
    "\n",
    "print()\n",
    "print (f\"Your Total is ${total}\") "
   ]
  },
  {
   "cell_type": "code",
   "execution_count": 164,
   "metadata": {},
   "outputs": [
    {
     "name": "stdout",
     "output_type": "stream",
     "text": [
      "apple banana orange coconut \n",
      "carrot broccoli cauliflower potato \n",
      "milk cheese yogurt butter \n"
     ]
    }
   ],
   "source": [
    "fruits = [\"apple\", \"banana\", \"orange\", \"coconut\"]\n",
    "vegetables = [\"carrot\", \"broccoli\", \"cauliflower\", \"potato\"]\n",
    "dairy = [\"milk\", \"cheese\", \"yogurt\", \"butter\"]\n",
    "\n",
    "groceries = [fruits, vegetables, dairy]\n",
    "\n",
    "#print (groceries)\n",
    "\n",
    "for collection in groceries:\n",
    "    for item in collection:\n",
    "        print(item, end = \" \")\n",
    "    print()\n",
    "  \n",
    "\n"
   ]
  },
  {
   "cell_type": "code",
   "execution_count": 166,
   "metadata": {},
   "outputs": [
    {
     "name": "stdout",
     "output_type": "stream",
     "text": [
      "1 2 3 \n",
      "4 5 6 \n",
      "7 8 9 \n",
      "* 0 # \n"
     ]
    }
   ],
   "source": [
    "num_pad = ((1, 2, 3), (4, 5, 6), (7, 8, 9), (\"*\", 0, \"#\"))\n",
    "\n",
    "for row in num_pad:\n",
    "    for keys in row:\n",
    "        print(keys, end=\" \")\n",
    "    print()"
   ]
  },
  {
   "cell_type": "code",
   "execution_count": 190,
   "metadata": {},
   "outputs": [
    {
     "name": "stdout",
     "output_type": "stream",
     "text": [
      "{'empid': 1001, 'empname': 'Amit', 'empgender': 'Male', 'empjob': 'Developer', 'empsal': 30000.55, 'empmarried': 'No'}\n",
      "1001\n",
      "{'empid': 1001, 'empname': 'Amit', 'empgender': 'Male', 'empjob': 'Developer', 'empsal': 30000.55, 'empmarried': 'No', 'Two': 1}\n",
      "{'empid': 1001, 'empname': 'Amit', 'empgender': 'Male', 'empjob': 'Developer', 'empsal': 30000.55, 'empmarried': 'No'}\n",
      "empid\n",
      "empname\n",
      "empgender\n",
      "empjob\n",
      "empsal\n",
      "empmarried\n",
      "1001\n",
      "Amit\n",
      "Male\n",
      "Developer\n",
      "30000.55\n",
      "No\n",
      "empid: 1001\n",
      "empname: Amit\n",
      "empgender: Male\n",
      "empjob: Developer\n",
      "empsal: 30000.55\n",
      "empmarried: No\n",
      "{}\n"
     ]
    }
   ],
   "source": [
    "#ordered and changeable.  Duplicates No\n",
    "\n",
    "var1 = {\"empid\":1001, \"empname\":\"Amit\", \"empgender\":\"Male\", \"empjob\":\"Developer\", \"empsal\":30000.55, \"empmarried\":\"No\"}\n",
    "print (var1)\n",
    "print (var1.get(\"empid\"))\n",
    "\n",
    "var1.update({\"Two\": 1})\n",
    "\n",
    "print (var1)\n",
    "\n",
    "var1.popitem()\n",
    "\n",
    "print (var1)\n",
    "\n",
    "#print (var1.get(\"empname\"))\n",
    "\n",
    "\n",
    "keys = var1.keys()\n",
    "for keys in var1.keys():\n",
    "    print(keys)\n",
    "\n",
    "value = var1.values()\n",
    "for value in var1.values():\n",
    "    print(value)\n",
    "\n",
    "#items = var1.items()\n",
    "#for items in var1.items():\n",
    "#print(items)\n",
    "\n",
    "\n",
    "for key, value in var1.items():\n",
    "    print(f\"{key}: {value}\")\n",
    "\n",
    "var1.clear()\n",
    "\n",
    "print (var1)"
   ]
  },
  {
   "cell_type": "code",
   "execution_count": 193,
   "metadata": {},
   "outputs": [
    {
     "name": "stdout",
     "output_type": "stream",
     "text": [
      "______Your cart______\n",
      "Burger: $5.23\n",
      "Wings: $2.33\n",
      "Wrap: $5.16\n",
      "\n",
      "Your Total is $12.72\n"
     ]
    }
   ],
   "source": [
    "cart = {}\n",
    "total = 0\n",
    "\n",
    "while True:\n",
    "    food = input(\"Enter a food to buy (Q to Quit): \")\n",
    "    if food.lower() == \"q\":\n",
    "        break\n",
    "    else:\n",
    "        price = float(input(\"Enter the price of the {food:} $\"))\n",
    "        cart.update({food : price})\n",
    "\n",
    "print(\"______Your cart______\")\n",
    "\n",
    "for key, value in cart.items():\n",
    "    print(f\"{key}: ${value}\")\n",
    "\n",
    "for price in cart.values():\n",
    "    total += price\n",
    "\n",
    "print()\n",
    "\n",
    "print (f\"Your Total is ${total}\") "
   ]
  },
  {
   "cell_type": "code",
   "execution_count": 195,
   "metadata": {},
   "outputs": [
    {
     "name": "stdout",
     "output_type": "stream",
     "text": [
      "13\n",
      "Choose the Lower Value \n",
      "Choose the Higher Value \n",
      "Choose the Higher Value \n",
      "Choose the Higher Value \n",
      "Congratulations. You made it!\n"
     ]
    }
   ],
   "source": [
    "import random\n",
    "\n",
    "Max = 20 \n",
    "Min = 1 \n",
    "guessed = random.randint(Min, Max) \n",
    "#print(guessed) \n",
    "guess = 0 \n",
    " \n",
    "while guess != guessed: \n",
    "    guess = int(input(\"Enter The New Number: \")) \n",
    "    if guess == 0: \n",
    "        print(\"Sorry that you're giving up!\") \n",
    "        break \n",
    "    elif guess > guessed: \n",
    "        print(\"Choose the Lower Value \") \n",
    "    elif guess < guessed: \n",
    "        print(\"Choose the Higher Value \") \n",
    "else: \n",
    "    print(\"Congratulations. You made it!\")"
   ]
  },
  {
   "cell_type": "code",
   "execution_count": 2,
   "metadata": {},
   "outputs": [
    {
     "name": "stdout",
     "output_type": "stream",
     "text": [
      "Encrypted Message is: 8qibaEq%+hhf\n"
     ]
    }
   ],
   "source": [
    "import random\n",
    "import string\n",
    "\n",
    "chars = \" \" + string.punctuation + string.digits + string.ascii_letters\n",
    "chars = list(chars)\n",
    "key = chars.copy()\n",
    "\n",
    "random.shuffle(key)\n",
    "\n",
    "#print(f\"chars: {chars}\")\n",
    "#print(f\"key : {key}\")\n",
    "\n",
    "pl_text = input(\"Enter the msg: \")\n",
    "cipher = \"\"\n",
    "\n",
    "for letter in pl_text:\n",
    "    index = chars.index(letter)\n",
    "    cipher += key[index]\n",
    "\n",
    "print(f\"Encrypted Message is: {cipher}\")"
   ]
  },
  {
   "cell_type": "code",
   "execution_count": null,
   "metadata": {},
   "outputs": [],
   "source": []
  }
 ],
 "metadata": {
  "kernelspec": {
   "display_name": "Python 3",
   "language": "python",
   "name": "python3"
  },
  "language_info": {
   "codemirror_mode": {
    "name": "ipython",
    "version": 3
   },
   "file_extension": ".py",
   "mimetype": "text/x-python",
   "name": "python",
   "nbconvert_exporter": "python",
   "pygments_lexer": "ipython3",
   "version": "3.9.5"
  }
 },
 "nbformat": 4,
 "nbformat_minor": 2
}
