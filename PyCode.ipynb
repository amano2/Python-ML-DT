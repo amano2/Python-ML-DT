{
 "cells": [
  {
   "cell_type": "code",
   "execution_count": 16,
   "metadata": {},
   "outputs": [
    {
     "name": "stdout",
     "output_type": "stream",
     "text": [
      "22\n",
      "I am 22 years old\n"
     ]
    }
   ],
   "source": [
    "age = 22\n",
    "print(age)\n",
    "print (f\"I am {age} years old\")"
   ]
  },
  {
   "cell_type": "code",
   "execution_count": 2,
   "metadata": {},
   "outputs": [
    {
     "name": "stdout",
     "output_type": "stream",
     "text": [
      "The result is  30\n",
      "20 <class 'int'> 10 <class 'int'>\n"
     ]
    }
   ],
   "source": [
    "num1 = int(input(\"Please enter the first number: \")) \n",
    "num2 = int(input(\"Please enter the second number: \")) \n",
    "result = num1 + num2 \n",
    "print (f\"The result is  {result}\" )\n",
    "print (num1, type(num1), num2, type(num2)) "
   ]
  },
  {
   "cell_type": "code",
   "execution_count": 3,
   "metadata": {},
   "outputs": [
    {
     "name": "stdout",
     "output_type": "stream",
     "text": [
      "So the sum of 20 + 10 = 30\n",
      "So the sum of 20 + 10 = 30\n",
      "So the sum of 20 + 10 = 30\n",
      "So the sum of 20 + 10 = 30\n",
      "So the sum of 20 + 10 = 30\n",
      "So the sum of 20 + 10 = 30\n",
      "So the sum of 20 + 10 = 30\n",
      "So the sum of 20 + 10 = 30\n",
      "So the sum of 20 + 10.000000 = 30\n",
      "So the sum of 20 + 10.00 = 30\n",
      "So the sum of 20 + 10 = 30\n"
     ]
    }
   ],
   "source": [
    "print (\"So the sum of\", num1, \"+\", num2, \"=\", result) \n",
    "print (\"So the sum of \" + str(num1) + \" + \" + str(num2) + \" = \" + str(result)) \n",
    "print (\"So the sum of {} + {} = {}\".format(num1, num2, result))   # {} denotes place holder \n",
    "print (\"So the sum of {0} + {1} = {2}\".format(num1, num2, result))  # numbered place holder \n",
    "print (\"So the sum of {2} + {0} = {1}\".format(num2, result, num1)) \n",
    "print (\"So the sum of {fnum} + {snum} = {tot}\".format(fnum = num1, snum = num2, tot = result))   # labeled plac\n",
    "print (\"So the sum of {fnum} + {snum} = {tot}\".format(snum = num2, fnum = num1, tot = result)) \n",
    "print (\"So the sum of %d + %d = %d\"%(num1, num2, result)) \n",
    "print (\"So the sum of %d + %f = %d\"%(num1, num2, result)) \n",
    "print (\"So the sum of %d + %4.2f = %d\"%(num1, num2, result)) \n",
    "print (f\"So the sum of {num1} + {num2} = {result}\") "
   ]
  },
  {
   "cell_type": "code",
   "execution_count": null,
   "metadata": {},
   "outputs": [
    {
     "name": "stdout",
     "output_type": "stream",
     "text": [
      "<class 'str'>\n",
      "<class 'int'>\n",
      "<class 'int'>\n",
      "<class 'bool'>\n",
      "22.0 <class 'float'>\n",
      "True\n"
     ]
    }
   ],
   "source": [
    "name =  \"Aman\"\n",
    "age = 22\n",
    "cgpa = 8\n",
    "student = True\n",
    "\n",
    "print(type(name))\n",
    "print(type(age))\n",
    "print(type(cgpa))\n",
    "print(type(student))\n",
    "\n",
    "age = float(age)\n",
    "\n",
    "print (age, type(age))\n",
    "\n",
    "name = bool(name)\n",
    "\n",
    "print (name)"
   ]
  },
  {
   "cell_type": "code",
   "execution_count": null,
   "metadata": {},
   "outputs": [
    {
     "name": "stdout",
     "output_type": "stream",
     "text": [
      "1.0\n"
     ]
    }
   ],
   "source": [
    "x = 2 \n",
    "y = 2.0\n",
    "\n",
    "x = x/y\n",
    "\n",
    "print (x)"
   ]
  },
  {
   "cell_type": "code",
   "execution_count": 18,
   "metadata": {},
   "outputs": [
    {
     "name": "stdout",
     "output_type": "stream",
     "text": [
      "140\n",
      "60\n",
      "4000\n",
      "2.5\n",
      "2\n",
      "100000000\n",
      "20\n"
     ]
    }
   ],
   "source": [
    "print (100 + 40)    # addition \n",
    "print (100 - 40)    # subtraction \n",
    "print (100 * 40)    # multiplication \n",
    "print (100 / 40)    # float division \n",
    "print (100 // 40)   # integer division \n",
    "print (100 ** 4)    # exponentiation, a to the power of b \n",
    "print (100 % 40)    # modulus, remainder of the division"
   ]
  },
  {
   "cell_type": "code",
   "execution_count": 20,
   "metadata": {},
   "outputs": [
    {
     "name": "stdout",
     "output_type": "stream",
     "text": [
      "EVEN Number\n",
      "ODD Number\n"
     ]
    }
   ],
   "source": [
    "num1 = 100 \n",
    "result = \"EVEN Number\" if (num1 % 2 == 0) else \"ODD Number\"    \n",
    "print (result) \n",
    "num1 = 101 \n",
    "result = \"EVEN Number\" if (num1 % 2 == 0) else \"ODD Number\" \n",
    "print (result)"
   ]
  },
  {
   "cell_type": "code",
   "execution_count": 24,
   "metadata": {},
   "outputs": [
    {
     "name": "stdout",
     "output_type": "stream",
     "text": [
      "1\n"
     ]
    }
   ],
   "source": [
    "friends = 0\n",
    "\n",
    "#friends = friends + 1 \n",
    "friends += 1\n",
    "\n",
    "print (friends)"
   ]
  },
  {
   "cell_type": "code",
   "execution_count": 25,
   "metadata": {},
   "outputs": [
    {
     "name": "stdout",
     "output_type": "stream",
     "text": [
      "100\n",
      "110\n",
      "100\n",
      "1000\n",
      "1000000\n"
     ]
    }
   ],
   "source": [
    "num1 = 100 \n",
    "print (num1) \n",
    "num1 += 10 \n",
    "print (num1) \n",
    "num1 -= 10 \n",
    "print (num1) \n",
    "num1 *= 10 \n",
    "print (num1) \n",
    "num1 **= 2 \n",
    "print (num1) "
   ]
  },
  {
   "cell_type": "code",
   "execution_count": 35,
   "metadata": {},
   "outputs": [
    {
     "name": "stdout",
     "output_type": "stream",
     "text": [
      "A\n",
      "65\n",
      "a\n"
     ]
    }
   ],
   "source": [
    "var = 65\n",
    "var = chr(var)\n",
    "print (var)\n",
    "\n",
    "mychar = 'A'\n",
    "print (ord(mychar))\n",
    "mychar = chr(ord(mychar) | 32)\n",
    "print (mychar)"
   ]
  },
  {
   "cell_type": "code",
   "execution_count": 36,
   "metadata": {},
   "outputs": [
    {
     "name": "stdout",
     "output_type": "stream",
     "text": [
      "a 97\n",
      "A 65\n"
     ]
    }
   ],
   "source": [
    "mychar = 'a' \n",
    "print (mychar, ord(mychar)) \n",
    "mychar = chr(ord(mychar) & 223) \n",
    "print (mychar, ord(mychar))"
   ]
  },
  {
   "cell_type": "code",
   "execution_count": 37,
   "metadata": {},
   "outputs": [
    {
     "name": "stdout",
     "output_type": "stream",
     "text": [
      "The third number is the maximum number...\n",
      "The maximum number is 30\n"
     ]
    }
   ],
   "source": [
    "num1 = int(input(\"Please enter the first number: \")) \n",
    "num2 = int(input(\"Please enter the second number: \")) \n",
    "num3 = int(input(\"Please enter the third number: \")) \n",
    "if (num1 > num2): \n",
    "    if (num1 > num3): \n",
    "        print (\"The first number is the maximum number...\") \n",
    "        print (\"The maximum number is\", num1) \n",
    "    else: \n",
    "        print (\"The third number is the maximum number...\") \n",
    "        print (\"The maximum number is\", num3) \n",
    "elif (num2 > num3): \n",
    "    print (\"The second number is the maximum number...\") \n",
    "    print (\"The maximum number is\", num2) \n",
    "else: \n",
    "    print (\"The third number is the maximum number...\") \n",
    "    print (\"The maximum number is\", num3)"
   ]
  },
  {
   "cell_type": "code",
   "execution_count": 39,
   "metadata": {},
   "outputs": [
    {
     "name": "stdout",
     "output_type": "stream",
     "text": [
      "The third number is the maximum number...\n"
     ]
    }
   ],
   "source": [
    "num1 = int(input(\"Please enter the first number: \")) \n",
    "num2 = int(input(\"Please enter the second number: \")) \n",
    "num3 = int(input(\"Please enter the third number: \")) \n",
    "if num1 > num2 and num1 > num3: \n",
    "    print (\"The first number is the maxium number...\")\n",
    "elif num2 > num3 and num2 > num1: \n",
    "    print (\"The second number is the maximum number...\")\n",
    "else: \n",
    "    print (\"The third number is the maximum number...\") \n",
    "    "
   ]
  },
  {
   "cell_type": "code",
   "execution_count": 40,
   "metadata": {},
   "outputs": [
    {
     "name": "stdout",
     "output_type": "stream",
     "text": [
      "User Online \n"
     ]
    }
   ],
   "source": [
    "online = True\n",
    "\n",
    "if online:\n",
    "    print (\"User Online \")\n",
    "else : \n",
    "    print (\"User Offline\")\n",
    "\n"
   ]
  },
  {
   "cell_type": "code",
   "execution_count": 41,
   "metadata": {},
   "outputs": [
    {
     "name": "stdout",
     "output_type": "stream",
     "text": [
      "True False False False\n",
      "True True True False\n",
      "False True\n"
     ]
    }
   ],
   "source": [
    "print (True and True, True and False, False and True, False and False) \n",
    "print (True or True, True or False, False or True, False or False)\n",
    "print (not True, not False)"
   ]
  },
  {
   "cell_type": "markdown",
   "metadata": {},
   "source": [
    "#### Strings"
   ]
  },
  {
   "cell_type": "code",
   "execution_count": 4,
   "metadata": {},
   "outputs": [
    {
     "name": "stdout",
     "output_type": "stream",
     "text": [
      "2\n"
     ]
    }
   ],
   "source": [
    "name =  input(\"Enter the full name: \")\n",
    "\n",
    "#result = len(name)\n",
    "result = name.find(\"a\") #fisrt index(Occurance)\n",
    "#result = name.rfind(\"n\") #last index(Occurance)\n",
    "#name = name.capitalize()\n",
    "#name = name.upper()\n",
    "#name = name.lower()\n",
    "#result = name.isdigit()\n",
    "#result = name.isalpha()\n",
    "#result = name.count(\"a\")\n",
    "#result = name.replace(\" \", \"-\")\n",
    "print (result)"
   ]
  },
  {
   "cell_type": "code",
   "execution_count": null,
   "metadata": {},
   "outputs": [],
   "source": [
    "help(str)"
   ]
  },
  {
   "cell_type": "code",
   "execution_count": 68,
   "metadata": {},
   "outputs": [
    {
     "name": "stdout",
     "output_type": "stream",
     "text": [
      "1234\n",
      "-567\n",
      "-8901-12\n",
      "567-8901-12\n",
      "2\n",
      "146812\n",
      "1-12\n",
      "21-1098-765-4321\n"
     ]
    }
   ],
   "source": [
    "#   [start : end : step]\n",
    "\n",
    "credit_number = \"1234-567-8901-12\"\n",
    "\n",
    "print (credit_number[:4])\n",
    "print (credit_number[4:8])\n",
    "print (credit_number[8:])\n",
    "print (credit_number[5:])\n",
    "print (credit_number[-1])\n",
    "print (credit_number[::3])\n",
    "print (credit_number[-4:])\n",
    "print (credit_number[::-1]) #reversing "
   ]
  },
  {
   "cell_type": "code",
   "execution_count": 69,
   "metadata": {},
   "outputs": [
    {
     "name": "stdout",
     "output_type": "stream",
     "text": [
      "Your Username is amanhossainmail and domain is gmail.com\n"
     ]
    }
   ],
   "source": [
    "email = input(\"Enter your email: \")\n",
    "\n",
    "index = email.index(\"@\")\n",
    "\n",
    "username = email[:index]\n",
    "domain = email[index+1 :]\n",
    "\n",
    "print (f\"Your Username is {username} and domain is {domain}\")"
   ]
  },
  {
   "cell_type": "code",
   "execution_count": 5,
   "metadata": {},
   "outputs": [
    {
     "name": "stdout",
     "output_type": "stream",
     "text": [
      "1, 2, 3, 4, 5, \n",
      "End of the program...\n"
     ]
    }
   ],
   "source": [
    "i = 1 \n",
    "while i <= 10: \n",
    "    print (i, end = \", \") \n",
    "    if (i == 5): break \n",
    "    i = i + 1\n",
    "else: \n",
    "    print (\"\\nLoop got executed successfully...\") \n",
    "print (\"\\nEnd of the program...\")"
   ]
  },
  {
   "cell_type": "code",
   "execution_count": 80,
   "metadata": {},
   "outputs": [
    {
     "name": "stdout",
     "output_type": "stream",
     "text": [
      "i = 0\n",
      "i = 1\n",
      "i = 2\n",
      "i = 3\n",
      "i = 4\n",
      "Continuing the loop...\n",
      "i = 6\n",
      "Continuing the loop...\n",
      "Continuing the loop...\n",
      "i = 9\n",
      "Loop got executed successfully...\n",
      "End of the program...\n"
     ]
    }
   ],
   "source": [
    "for i in range (10): \n",
    "    if (i == 5 or i == 7 or i == 8):  \n",
    "        print (\"Continuing the loop...\") \n",
    "        continue \n",
    "    print (\"i =\", i) \n",
    "else: \n",
    "    print (\"Loop got executed successfully...\") \n",
    "print (\"End of the program...\")"
   ]
  },
  {
   "cell_type": "code",
   "execution_count": 83,
   "metadata": {},
   "outputs": [
    {
     "name": "stdout",
     "output_type": "stream",
     "text": [
      "Balance after 2.0 years is $1102.50\n"
     ]
    }
   ],
   "source": [
    "principle = 0\n",
    "rate = 0\n",
    "time = 0\n",
    "\n",
    "while principle <= 0:\n",
    "    principle = float(input(\"Enter the Principle amount: \"))\n",
    "    if principle <=0:\n",
    "        print(\"Enter a valid principle amount\")\n",
    "\n",
    "while rate <=0:\n",
    "    rate = float(input(\"Enter the rate of interest: \"))\n",
    "    if rate <=0:\n",
    "        print(\"Enter a valid rate of interest\")\n",
    "\n",
    "while time <=0:\n",
    "    time = float(input(\"Enter the time period: \"))\n",
    "    if time <= 0:\n",
    "       print(\"Enter a valid time period\")\n",
    "\n",
    "total = principle * pow((1+rate/100),time)\n",
    "\n",
    "print(f\"Balance after {time} years is ${total:.2f}\")"
   ]
  },
  {
   "cell_type": "code",
   "execution_count": 2,
   "metadata": {},
   "outputs": [
    {
     "name": "stdout",
     "output_type": "stream",
     "text": [
      "0, 1, 2, 3, 4, 5, 6, 7, 8, 9, \n",
      "Loop got executed successfully...\n",
      "1, 2, 3, 4, 5, 6, 7, 8, 9, \n",
      "Loop got executed successfully...\n",
      "0, 1, 2, 3, 4, 5, 6, 7, 8, 9, \n",
      "Loop got executed successfully...\n",
      "-10, -9, -8, -7, -6, -5, -4, -3, -2, -1, \n",
      "Loop got executed successfully...\n",
      "1, 3, 5, 7, 9, \n",
      "Loop got executed successfully...\n"
     ]
    }
   ],
   "source": [
    "for i in range(10): \n",
    "    print (i, end = \", \") \n",
    "else: \n",
    "    print (\"\\nLoop got executed successfully...\") \n",
    "     \n",
    "for i in range(1, 10): \n",
    "    print (i, end = \", \") \n",
    "else: \n",
    "    print (\"\\nLoop got executed successfully...\") \n",
    "     \n",
    "for i in range(0, 10, 1): \n",
    "    print (i, end = \", \") \n",
    "else: \n",
    "    print (\"\\nLoop got executed successfully...\") \n",
    " \n",
    "for i in range(-10, 0, 1): \n",
    "    print (i, end = \", \") \n",
    "else: \n",
    "    print (\"\\nLoop got executed successfully...\") \n",
    " \n",
    "for i in range(1, 10, 2): \n",
    "    print (i, end = \", \") \n",
    "else: \n",
    "    print (\"\\nLoop got executed successfully...\")\n",
    "    "
   ]
  },
  {
   "cell_type": "code",
   "execution_count": 29,
   "metadata": {},
   "outputs": [
    {
     "name": "stdout",
     "output_type": "stream",
     "text": [
      "Visit Doctor...\n",
      "Good morning to my Family Members...\n",
      "Day No. = 1 and Medicine No. = 1...\n",
      "Day No. = 1 and Medicine No. = 2...\n",
      "Day No. = 1 and Medicine No. = 3...\n",
      "Good night to my Family Members...\n",
      "---------------------------------------------\n",
      "Good morning to my Family Members...\n",
      "Day No. = 2 and Medicine No. = 1...\n",
      "Day No. = 2 and Medicine No. = 2...\n",
      "Day No. = 2 and Medicine No. = 3...\n",
      "Good night to my Family Members...\n",
      "---------------------------------------------\n",
      "Good morning to my Family Members...\n",
      "Day No. = 3 and Medicine No. = 1...\n",
      "Day No. = 3 and Medicine No. = 2...\n",
      "Day No. = 3 and Medicine No. = 3...\n",
      "Good night to my Family Members...\n",
      "---------------------------------------------\n",
      "Good morning to my Family Members...\n",
      "Day No. = 4 and Medicine No. = 1...\n",
      "Day No. = 4 and Medicine No. = 2...\n",
      "Day No. = 4 and Medicine No. = 3...\n",
      "Good night to my Family Members...\n",
      "---------------------------------------------\n",
      "Thanks to Doctor...\n",
      "Total number of medicine consumed is 12...\n",
      "End of the story...\n"
     ]
    }
   ],
   "source": [
    "print (\"Visit Doctor...\")    # 1 time \n",
    "day = 1 \n",
    "medicount = 0 \n",
    "while (day < 5): \n",
    "    print (\"Good morning to my Family Members...\")     # 5 times \n",
    "    for medi in range(1, 4): \n",
    "        print (f\"Day No. = {day} and Medicine No. = {medi}...\")     # 15 times \n",
    "        medicount += 1 \n",
    "    print (\"Good night to my Family Members...\")     # 5 times \n",
    "    print (\"---------------------------------------------\")     # 5 times \n",
    "    day += 1 \n",
    "print (\"Thanks to Doctor...\") \n",
    "print (f\"Total number of medicine consumed is {medicount}...\") \n",
    "print (\"End of the story...\") "
   ]
  },
  {
   "cell_type": "code",
   "execution_count": 94,
   "metadata": {},
   "outputs": [
    {
     "name": "stdout",
     "output_type": "stream",
     "text": [
      "1 2 3 4 5 6 7 8 9 \n",
      "1 2 3 4 5 6 7 8 9 \n",
      "1 2 3 4 5 6 7 8 9 \n"
     ]
    }
   ],
   "source": [
    "for i in range(3):\n",
    "    for j in range(1,10):\n",
    "        print(j, end = \" \")\n",
    "    print()\n",
    "    "
   ]
  },
  {
   "cell_type": "code",
   "execution_count": 2,
   "metadata": {},
   "outputs": [
    {
     "name": "stdout",
     "output_type": "stream",
     "text": [
      "00:00:10\n",
      "00:00:09\n",
      "00:00:08\n",
      "00:00:07\n",
      "00:00:06\n",
      "00:00:05\n",
      "00:00:04\n",
      "00:00:03\n",
      "00:00:02\n",
      "00:00:01\n",
      "Times Up\n"
     ]
    }
   ],
   "source": [
    "import time\n",
    "\n",
    "myTime = int(input(\"Enter the time in secs: \"))\n",
    "\n",
    "for i in range (myTime, 0, -1):\n",
    "    secs = i % 60\n",
    "    mins = (i // 60) % 60\n",
    "    hrs = (i // 3600)\n",
    "    print (f\"{hrs:02}:{mins:02}:{secs:02}\")\n",
    "    time.sleep(1)\n",
    "\n",
    "print (\"Times Up\")"
   ]
  },
  {
   "cell_type": "code",
   "execution_count": 110,
   "metadata": {},
   "outputs": [
    {
     "name": "stdout",
     "output_type": "stream",
     "text": [
      "[1001, 'Amit', 'Male', 'Developer', 30000.55, True] 6 <class 'list'> 1765084455296\n",
      "(1001, 'Amit', 'Male', 'Developer', 30000.55, True) 6 <class 'tuple'> 1765084767808\n",
      "{'empid': 1001, 'empname': 'Amit', 'empgender': 'Male', 'empjob': 'Developer', 'empsal': 30000.55, 'empmarried': 'No'} 6 <class 'dict'> 1765084518336\n",
      "{30000.55, True, 'Developer', 'Amit', 1001, 'Male'} 6 <class 'set'> 1765084859968\n",
      "frozenset({True, 'Developer', 1001, 'Amit', 30000.55, 'Male'}) 6 <class 'frozenset'> 1765084859072\n"
     ]
    }
   ],
   "source": [
    "var1 = [1001, \"Amit\", \"Male\", \"Developer\", 30000.55, True] # ordered and changeable. duplicate Ok\n",
    "print (var1, len(var1), type(var1), id(var1)) \n",
    "var1 = (1001, \"Amit\", \"Male\", \"Developer\", 30000.55, True) # ordered and unchangeble. duplicate Ok\n",
    "print (var1, len(var1), type(var1), id(var1)) \n",
    "var1 = {\"empid\":1001, \"empname\":\"Amit\", \"empgender\":\"Male\", \"empjob\":\"Developer\", \"empsal\":30000.55, \"empmarried\":\"No\"}\n",
    "print (var1, len(var1), type(var1), id(var1)) \n",
    "var1 = {1001, \"Amit\", \"Male\", \"Developer\", 1001, \"Amit\", \"Male\", \"Developer\", 30000.55, True} # unordered and immutable, but Add/Remove Ok. No Duplicates \n",
    "print (var1, len(var1), type(var1), id(var1)) \n",
    "var1 = frozenset([1001, \"Amit\", \"Male\", \"Developer\", 1001, \"Amit\", \"Male\", \"Developer\", 30000.55, True]) #no change nor duplicate full frozen 🧊\n",
    "print (var1, len(var1), type(var1), id(var1)) "
   ]
  },
  {
   "cell_type": "code",
   "execution_count": 42,
   "metadata": {},
   "outputs": [
    {
     "name": "stdout",
     "output_type": "stream",
     "text": [
      "['watermelon', 'apple', 'banana', 'orange', 'coconut', 'pineapple']\n",
      "['pineapple', 'coconut', 'orange', 'banana', 'apple', 'watermelon']\n"
     ]
    }
   ],
   "source": [
    "fruits = [\"apple\", \"banana\", \"orange\", \"coconut\"]\n",
    "#vegetables = [\"watermelon\",\" carrot\", \"broccoli\", \"cauliflower\", \"potato\"]\n",
    "#print(fruits[::2])\n",
    "\n",
    "#for fruit in fruits:\n",
    "   # print (fruit)\n",
    "\n",
    "#print(dir(fruits))\n",
    "\n",
    "#help(fruits)\n",
    "fruits.append(\"pineapple\")\n",
    "#fruits.remove(\"apple\")\n",
    "fruits.insert(0, \"watermelon\")\n",
    "#print(fruits.index(\"banana\"))\n",
    "print (fruits)\n",
    "#fruits.sort()\n",
    "fruits.reverse()\n",
    "#print(fruits.count(\"apple\"))\n",
    "#vegetables.sort()\n",
    "#print(vegetables)\n",
    "print (fruits)"
   ]
  },
  {
   "cell_type": "code",
   "execution_count": 4,
   "metadata": {},
   "outputs": [
    {
     "name": "stdout",
     "output_type": "stream",
     "text": [
      "{'Asparagas', 'onion', 'broccoli', 'potato'}\n",
      "Asparagas onion broccoli potato "
     ]
    }
   ],
   "source": [
    "vegetables = {\"carrot\", \"broccoli\", \"cauliflower\", \"potato\"}\n",
    "\n",
    "vegetables.add(\"onion\")\n",
    "vegetables.remove(\"cauliflower\")\n",
    "vegetables.pop()\n",
    "vegetables.add(\"Asparagas\")\n",
    "print (vegetables)\n",
    "\n",
    "for veggie in vegetables:\n",
    "    print (veggie, end = \" \")"
   ]
  },
  {
   "cell_type": "code",
   "execution_count": 5,
   "metadata": {},
   "outputs": [
    {
     "name": "stdout",
     "output_type": "stream",
     "text": [
      "('apple', 'banana', 'orange', 'coconut')\n",
      "4\n",
      "False\n",
      "0\n",
      "1\n",
      "apple\n",
      "banana\n",
      "orange\n",
      "coconut\n"
     ]
    }
   ],
   "source": [
    "fruits = (\"apple\", \"banana\", \"orange\", \"coconut\")\n",
    "\n",
    "print(fruits)\n",
    "print(len(fruits))\n",
    "print(\"pineapple\" in fruits)\n",
    "\n",
    "print(fruits.index(\"apple\"))\n",
    "\n",
    "print(fruits.count(\"coconut\"))\n",
    "\n",
    "for fruit in fruits:\n",
    "    print(fruit)"
   ]
  },
  {
   "cell_type": "code",
   "execution_count": 160,
   "metadata": {},
   "outputs": [
    {
     "name": "stdout",
     "output_type": "stream",
     "text": [
      "______Your cart______\n",
      "Burger Sandwich Shawarma \n",
      "Your Total is $13.379999999999999\n"
     ]
    }
   ],
   "source": [
    "foods = []\n",
    "prices = []\n",
    "total = 0\n",
    "\n",
    "while True:\n",
    "    food = input(\"Enter a food to buy (Q to Quit): \")\n",
    "    if food.lower() == \"q\":\n",
    "        break\n",
    "    else:\n",
    "        price = float(input(\"Enter the price of the {food:} $\"))\n",
    "        foods.append(food)\n",
    "        prices.append(price)\n",
    "\n",
    "print(\"______Your cart______\")\n",
    "\n",
    "for food in foods:\n",
    "    print (food, end = \" \")\n",
    "\n",
    "for price in prices:\n",
    "    total += price\n",
    "\n",
    "print()\n",
    "print (f\"Your Total is ${total}\") "
   ]
  },
  {
   "cell_type": "code",
   "execution_count": 6,
   "metadata": {},
   "outputs": [
    {
     "name": "stdout",
     "output_type": "stream",
     "text": [
      "[['apple', 'banana', 'orange', 'coconut'], ['carrot', 'broccoli', 'cauliflower', 'potato'], ['milk', 'cheese', 'yogurt', 'butter']]\n",
      "apple banana orange coconut \n",
      "carrot broccoli cauliflower potato \n",
      "milk cheese yogurt butter \n"
     ]
    }
   ],
   "source": [
    "fruits = [\"apple\", \"banana\", \"orange\", \"coconut\"]\n",
    "vegetables = [\"carrot\", \"broccoli\", \"cauliflower\", \"potato\"]\n",
    "dairy = [\"milk\", \"cheese\", \"yogurt\", \"butter\"]\n",
    "\n",
    "groceries = [fruits, vegetables, dairy]\n",
    "\n",
    "print (groceries)\n",
    "\n",
    "for collection in groceries:\n",
    "    for item in collection:\n",
    "        print(item, end = \" \")\n",
    "    print()\n",
    "  "
   ]
  },
  {
   "cell_type": "code",
   "execution_count": 166,
   "metadata": {},
   "outputs": [
    {
     "name": "stdout",
     "output_type": "stream",
     "text": [
      "1 2 3 \n",
      "4 5 6 \n",
      "7 8 9 \n",
      "* 0 # \n"
     ]
    }
   ],
   "source": [
    "num_pad = ((1, 2, 3), (4, 5, 6), (7, 8, 9), (\"*\", 0, \"#\"))\n",
    "\n",
    "for row in num_pad:\n",
    "    for keys in row:\n",
    "        print(keys, end=\" \")\n",
    "    print()"
   ]
  },
  {
   "cell_type": "code",
   "execution_count": 8,
   "metadata": {},
   "outputs": [
    {
     "name": "stdout",
     "output_type": "stream",
     "text": [
      "{'empid': 1001, 'empname': 'Amit', 'empgender': 'Male', 'empjob': 'Developer', 'empsal': 30000.55, 'empmarried': 'No'}\n",
      "1001\n",
      "{'empid': 1001, 'empname': 'Amit', 'empgender': 'Male', 'empjob': 'Developer', 'empsal': 30000.55, 'empmarried': 'No', 'Two': 1}\n",
      "{'empid': 1001, 'empname': 'Amit', 'empgender': 'Male', 'empjob': 'Developer', 'empsal': 30000.55, 'empmarried': 'No'}\n",
      "empid\n",
      "empname\n",
      "empgender\n",
      "empjob\n",
      "empsal\n",
      "empmarried\n",
      "1001\n",
      "Amit\n",
      "Male\n",
      "Developer\n",
      "30000.55\n",
      "No\n",
      "empid: 1001\n",
      "empname: Amit\n",
      "empgender: Male\n",
      "empjob: Developer\n",
      "empsal: 30000.55\n",
      "empmarried: No\n",
      "{}\n"
     ]
    }
   ],
   "source": [
    "#ordered and changeable.  Duplicates No\n",
    "\n",
    "var1 = {\"empid\":1001, \"empname\":\"Amit\", \"empgender\":\"Male\", \"empjob\":\"Developer\", \"empsal\":30000.55, \"empmarried\":\"No\"}\n",
    "print (var1)\n",
    "print (var1.get(\"empid\"))\n",
    "\n",
    "var1.update({\"Two\": 1})\n",
    "\n",
    "print (var1)\n",
    "\n",
    "var1.popitem()\n",
    "\n",
    "print (var1)\n",
    "\n",
    "#print (var1.get(\"empname\"))\n",
    "\n",
    "\n",
    "keys = var1.keys()\n",
    "for keys in var1.keys():\n",
    "    print(keys)\n",
    "\n",
    "value = var1.values()\n",
    "for value in var1.values():\n",
    "    print(value)\n",
    "\n",
    "#items = var1.items()\n",
    "#for items in var1.items():\n",
    "#print(items)\n",
    "\n",
    "\n",
    "for key, value in var1.items():\n",
    "    print(f\"{key}: {value}\")\n",
    "\n",
    "var1.clear()\n",
    "\n",
    "print (var1)\n",
    "\n",
    "#print (dir(var1))"
   ]
  },
  {
   "cell_type": "code",
   "execution_count": 193,
   "metadata": {},
   "outputs": [
    {
     "name": "stdout",
     "output_type": "stream",
     "text": [
      "______Your cart______\n",
      "Burger: $5.23\n",
      "Wings: $2.33\n",
      "Wrap: $5.16\n",
      "\n",
      "Your Total is $12.72\n"
     ]
    }
   ],
   "source": [
    "cart = {}\n",
    "total = 0\n",
    "\n",
    "while True:\n",
    "    food = input(\"Enter a food to buy (Q to Quit): \")\n",
    "    if food.lower() == \"q\":\n",
    "        break\n",
    "    else:\n",
    "        price = float(input(\"Enter the price of the {food:} $\"))\n",
    "        cart.update({food : price})\n",
    "\n",
    "print(\"______Your cart______\")\n",
    "\n",
    "for key, value in cart.items():\n",
    "    print(f\"{key}: ${value}\")\n",
    "\n",
    "for price in cart.values():\n",
    "    total += price\n",
    "\n",
    "print()\n",
    "\n",
    "print (f\"Your Total is ${total}\") "
   ]
  },
  {
   "cell_type": "code",
   "execution_count": 195,
   "metadata": {},
   "outputs": [
    {
     "name": "stdout",
     "output_type": "stream",
     "text": [
      "13\n",
      "Choose the Lower Value \n",
      "Choose the Higher Value \n",
      "Choose the Higher Value \n",
      "Choose the Higher Value \n",
      "Congratulations. You made it!\n"
     ]
    }
   ],
   "source": [
    "import random\n",
    "\n",
    "Max = 20 \n",
    "Min = 1 \n",
    "guessed = random.randint(Min, Max) \n",
    "#print(guessed) \n",
    "guess = 0 \n",
    " \n",
    "while guess != guessed: \n",
    "    guess = int(input(\"Enter The New Number: \")) \n",
    "    if guess == 0: \n",
    "        print(\"Sorry that you're giving up!\") \n",
    "        break \n",
    "    elif guess > guessed: \n",
    "        print(\"Choose the Lower Value \") \n",
    "    elif guess < guessed: \n",
    "        print(\"Choose the Higher Value \") \n",
    "else: \n",
    "    print(\"Congratulations. You made it!\")"
   ]
  },
  {
   "cell_type": "code",
   "execution_count": 3,
   "metadata": {},
   "outputs": [
    {
     "name": "stdout",
     "output_type": "stream",
     "text": [
      "Encrypted Message is: 6-6w\n"
     ]
    }
   ],
   "source": [
    "import random\n",
    "import string\n",
    "\n",
    "chars = \" \" + string.punctuation + string.digits + string.ascii_letters\n",
    "chars = list(chars)\n",
    "key = chars.copy()\n",
    "\n",
    "random.shuffle(key)\n",
    "\n",
    "#print(f\"chars: {chars}\")\n",
    "#print(f\"key : {key}\")\n",
    "\n",
    "pl_text = input(\"Enter the msg: \")\n",
    "cipher = \"\"\n",
    "\n",
    "for letter in pl_text:\n",
    "    index = chars.index(letter)\n",
    "    cipher += key[index]\n",
    "\n",
    "print(f\"Encrypted Message is: {cipher}\")"
   ]
  },
  {
   "cell_type": "code",
   "execution_count": 1,
   "metadata": {},
   "outputs": [
    {
     "name": "stdout",
     "output_type": "stream",
     "text": [
      "Player: rock\n",
      "Computer: paper\n",
      "You loose\n",
      "Thanks for Playing\n"
     ]
    }
   ],
   "source": [
    "import random\n",
    "\n",
    "options = (\"rock\", \"paper\", \"scissors\")\n",
    "\n",
    "running = True\n",
    "\n",
    "while running:\n",
    "    player = None \n",
    "    computer = random.choice(options)\n",
    "\n",
    "    while player not in options:\n",
    "        player = input(\"Enter a choice: \")\n",
    "\n",
    "    print(f\"Player: {player}\")\n",
    "    print(f\"Computer: {computer}\")\n",
    "\n",
    "    if player == computer:\n",
    "        print(\"It's a tie!\")\n",
    "    elif player == \"rock\" and computer == \"scissors\":\n",
    "        print (\"You Win!!\")\n",
    "    elif player == \"rock\" and computer == \"paper\":\n",
    "        print (\"You loose\")\n",
    "    elif player == \"paper\" and computer == \"rock\":\n",
    "        print (\"You Win!!\")\n",
    "    elif player == \"paper\" and computer == \"scissors\":\n",
    "        print (\"You loose\")\n",
    "    elif player == \"scissors\" and computer == \"paper\":\n",
    "        print (\"You Win!!\")\n",
    "    elif player == \"scissors\" and computer == \"rock\":\n",
    "        print (\"You loose\")\n",
    "\n",
    "    if not input(\"Play again? (y/n): \").lower() == \"y\":\n",
    "        running = False\n",
    "\n",
    "print (\"Thanks for Playing\")\n"
   ]
  },
  {
   "cell_type": "code",
   "execution_count": 14,
   "metadata": {},
   "outputs": [
    {
     "name": "stdout",
     "output_type": "stream",
     "text": [
      "Happy Birth Day to Aman\n",
      "Happy Birth Day to Aman\n",
      "Happy Birth Day to Aman\n",
      "Happy Birth Day to Aman\n",
      "Happy Birth Day to Aman\n",
      "Happy Birth Day to Aman\n",
      "Happy Birth Day to Aman\n",
      "Happy Birth Day to Aman\n",
      "Happy Birth Day to Aman\n",
      "Happy Birth Day to Aman\n",
      "\n"
     ]
    }
   ],
   "source": [
    "def happy_birthday(name): \n",
    "    print(f\"Happy Birth Day to {name}\\n\" * 10) \n",
    "\n",
    "happy_birthday(\"Aman\")"
   ]
  },
  {
   "cell_type": "code",
   "execution_count": 13,
   "metadata": {},
   "outputs": [
    {
     "name": "stdout",
     "output_type": "stream",
     "text": [
      "3\n"
     ]
    }
   ],
   "source": [
    "def add(x, y):\n",
    "    z = x + y\n",
    "    return z\n",
    "\n",
    "\n",
    "print(add(1, 2))\n",
    "\n"
   ]
  },
  {
   "cell_type": "code",
   "execution_count": 15,
   "metadata": {},
   "outputs": [
    {
     "name": "stdout",
     "output_type": "stream",
     "text": [
      "Total = 140, Difference = 60, Product = 4000, Quotient = 2.5, Remainder = 20\n",
      "\n",
      "Total = 140, Difference = 60, Product = 4000, Quotient = 2.5, Remainder = 20\n",
      "\n",
      "(140, 60, 4000, 2.5, 20) <class 'tuple'> 5 2177049590736\n"
     ]
    }
   ],
   "source": [
    "def funct4(num1, num2): \n",
    "    total = num1 + num2 \n",
    "    difference = num1 - num2 \n",
    "    product = num1 * num2 \n",
    "    quotient = num1 / num2 \n",
    "    remainder = num1 % num2 \n",
    "    return total, difference, product, quotient, remainder \n",
    " \n",
    "tt,dd,pp,qq,rr = funct4(100,40) \n",
    "print (f\"Total = {tt}, Difference = {dd}, Product = {pp}, Quotient = {qq}, Remainder = {rr}\") \n",
    "print () \n",
    " \n",
    "result = funct4(100, 40) \n",
    "print (f\"Total = {result[0]}, Difference = {result[1]}, Product = {result[2]}, Quotient = {result[3]}, Remainder = {result[4]}\")\n",
    " \n",
    "print () \n",
    "print (result, type(result), len(result), id(result))"
   ]
  },
  {
   "cell_type": "code",
   "execution_count": 19,
   "metadata": {},
   "outputs": [
    {
     "name": "stdout",
     "output_type": "stream",
     "text": [
      "Welcome to the ATM\n",
      "1. Show Balance\n",
      "2. Deposit\n",
      "3. Withdraw\n",
      "4. Exit\n",
      "Welcome to the ATM\n",
      "1. Show Balance\n",
      "2. Deposit\n",
      "3. Withdraw\n",
      "4. Exit\n",
      "Your current balance is: $100.00\n",
      "Welcome to the ATM\n",
      "1. Show Balance\n",
      "2. Deposit\n",
      "3. Withdraw\n",
      "4. Exit\n",
      "Welcome to the ATM\n",
      "1. Show Balance\n",
      "2. Deposit\n",
      "3. Withdraw\n",
      "4. Exit\n",
      "Your current balance is: $50.00\n",
      "Welcome to the ATM\n",
      "1. Show Balance\n",
      "2. Deposit\n",
      "3. Withdraw\n",
      "4. Exit\n",
      "Thank you have a nice day \n"
     ]
    }
   ],
   "source": [
    "def show_balance():\n",
    "    print(f\"Your current balance is: ${balance:.2f}\" )\n",
    "\n",
    "def deposit():\n",
    "    amount = float(input(\"Enter an amount to be deposited \"))\n",
    "    if amount < 0:\n",
    "        print(\"Please enter a positive amount\")\n",
    "        return 0\n",
    "    else:\n",
    "        return amount\n",
    "\n",
    "def withdraw():\n",
    "    amount = float(input(\"Enter amount to be withdrawn: \"))\n",
    "\n",
    "    if amount > balance:\n",
    "        print(\"You don't have enough money in your account\")\n",
    "    elif amount < 0:\n",
    "        print(\"Please enter a positive amount\")\n",
    "    else:\n",
    "        return amount\n",
    "\n",
    "balance = 0\n",
    "is_running = True\n",
    "\n",
    "while is_running:\n",
    "    print(\"Welcome to the ATM\")\n",
    "    print(\"1. Show Balance\")\n",
    "    print(\"2. Deposit\")\n",
    "    print(\"3. Withdraw\")\n",
    "    print(\"4. Exit\")\n",
    "\n",
    "    choice = int(input(\"Enter your choice: \"))\n",
    "\n",
    "    if choice == 1:\n",
    "        show_balance()\n",
    "    elif choice == 2:\n",
    "        balance += deposit()\n",
    "    elif choice == 3:\n",
    "        balance -= withdraw()\n",
    "    elif choice == 4:\n",
    "        is_running = False\n",
    "    else:\n",
    "        print (\"Invalid \")\n",
    "\n",
    "print (\"Thank you have a nice day \")"
   ]
  },
  {
   "cell_type": "markdown",
   "metadata": {},
   "source": [
    "#### List Comprehension\n"
   ]
  },
  {
   "cell_type": "code",
   "execution_count": 1,
   "metadata": {},
   "outputs": [
    {
     "name": "stdout",
     "output_type": "stream",
     "text": [
      "[3, 5, 7, 9, 11]\n",
      "['APPLE', 'ORANGE', 'BANANA', 'COCONUT']\n"
     ]
    }
   ],
   "source": [
    "\n",
    "# list = [expression for i in range (...)]\n",
    "# [] = [Do this | for this range | for this condition]\n",
    "\n",
    "doubles = [i+1  for i in range(1, 11) if i % 2 == 0]\n",
    "print(doubles)\n",
    "\n",
    "fruits = [\"apple\", \"orange\", \"banana\", \"coconut\"]\n",
    "\n",
    "fruits = [fruit.upper() for fruit in fruits]\n",
    "print(fruits)"
   ]
  },
  {
   "cell_type": "code",
   "execution_count": null,
   "metadata": {},
   "outputs": [],
   "source": [
    "help (\"modules\")"
   ]
  },
  {
   "cell_type": "markdown",
   "metadata": {},
   "source": [
    "#### O.O.P  \n"
   ]
  },
  {
   "cell_type": "code",
   "execution_count": 4,
   "metadata": {},
   "outputs": [
    {
     "name": "stdout",
     "output_type": "stream",
     "text": [
      "Corvette\n",
      "2024\n",
      "black\n",
      "False\n",
      "Vroom\n",
      "Stop\n"
     ]
    }
   ],
   "source": [
    "class Car:\n",
    "    def __init__(self, model, year, color, for_sale):\n",
    "        self.model = model\n",
    "        self.year = year\n",
    "        self.color = color\n",
    "        self.for_sale = for_sale\n",
    "\n",
    "    def drive(self):\n",
    "        print(\"Vroom\")\n",
    "\n",
    "    def stop(self):\n",
    "        print(\"Stop\")\n",
    "\n",
    "car1 = Car(\"Corvette\", 2024, \"black\", False)\n",
    "\n",
    "print (car1.model)\n",
    "print (car1.year)\n",
    "print (car1.color)\n",
    "print (car1.for_sale)\n",
    "\n",
    "\n",
    "\n",
    "car1.drive()\n",
    "\n",
    "car1.stop()\n",
    "        "
   ]
  },
  {
   "cell_type": "code",
   "execution_count": 9,
   "metadata": {},
   "outputs": [
    {
     "name": "stdout",
     "output_type": "stream",
     "text": [
      "My Graduating class of 2025 has 4 students\n",
      "Spongebob 30\n",
      "Patrick 35\n",
      "Squidward 45\n",
      "Krabby 65\n"
     ]
    }
   ],
   "source": [
    "class Student:\n",
    "\n",
    "    class_year = 2025\n",
    "    num_students = 0\n",
    "    \n",
    "    def __init__(self, name, age):\n",
    "        self.name = name\n",
    "        self.age = age\n",
    "        Student.num_students += 1\n",
    "\n",
    "\n",
    "student1 = Student(\"Spongebob\", 30)\n",
    "student2 = Student(\"Patrick\", 35)\n",
    "student3 = Student(\"Squidward\", 45)\n",
    "student4 = Student(\"Krabby\", 65)\n",
    "\n",
    "print(f\"My Graduating class of {Student.class_year} has {Student.num_students} students\")\n",
    "\n",
    "\n",
    "print (student1.name, student1.age)\n",
    "print (student2.name, student2.age)\n",
    "print (student3.name, student3.age)\n",
    "print (student4.name, student4.age)"
   ]
  },
  {
   "cell_type": "code",
   "execution_count": 13,
   "metadata": {},
   "outputs": [
    {
     "name": "stdout",
     "output_type": "stream",
     "text": [
      "Scooby\n",
      "True\n",
      "Scooby is eating\n",
      "Scooby is sleeping\n",
      "Scoobby Dooooooooooo\n"
     ]
    }
   ],
   "source": [
    "class Animal:\n",
    "    def __init__(self, name):\n",
    "        self.name = name\n",
    "        self.is_alive = True\n",
    "\n",
    "    def eat (self):\n",
    "        print(f'{self.name} is eating')\n",
    "\n",
    "    def sleep (self):\n",
    "        print(f'{self.name} is sleeping')\n",
    "\n",
    "class Dog(Animal):\n",
    "    def speak(self):\n",
    "        print(\"Scoobby Dooooooooooo\")\n",
    "\n",
    "class Cat(Animal):\n",
    "    def speak(self):\n",
    "        print(\"Meow\")\n",
    "\n",
    "class Mouse(Animal):\n",
    "    def speak(self):\n",
    "        print(\"Squeak\")\n",
    "\n",
    "dog = Dog(\"Scooby\")\n",
    "cat = Cat(\"Garfield\")\n",
    "mouse = Mouse(\"Mickey\") \n",
    "\n",
    "print (dog.name)\n",
    "print (dog.is_alive)\n",
    "\n",
    "dog.eat()\n",
    "dog.sleep()\n",
    "dog.speak()"
   ]
  },
  {
   "cell_type": "code",
   "execution_count": 14,
   "metadata": {},
   "outputs": [
    {
     "name": "stdout",
     "output_type": "stream",
     "text": [
      "Derived: Constructor method is executing...\n",
      "Base: Constructor method is executing...\n",
      "Base: Constructor method is executing...\n",
      "Base: Constructor method is executing...\n",
      "Base: Constructor method is executing...\n",
      "Base: Constructor method is executing...\n",
      "\n",
      "Base: Display method is executing...\n",
      "Derived: Display method is executing...\n"
     ]
    }
   ],
   "source": [
    "class Base: \n",
    "    def __init__(self): \n",
    "        print(\"Base: Constructor method is executing...\") \n",
    "    def displayB(self): \n",
    "        print(\"Base: Display method is executing...\") \n",
    " \n",
    "class Derived(Base): \n",
    "    def __init__(self): \n",
    "        print(\"Derived: Constructor method is executing...\") \n",
    "        Base.__init__(self) \n",
    "        super().__init__() \n",
    "        super(Derived, self).__init__() \n",
    "    def displayD(self): \n",
    "        print(\"Derived: Display method is executing...\") \n",
    " \n",
    "ob1 = Derived() \n",
    "Base.__init__(ob1) \n",
    "super(Derived, ob1).__init__() \n",
    " \n",
    "print() \n",
    "ob1.displayB() \n",
    "ob1.displayD()\n",
    "\n",
    "#Base.__init__(self) \n",
    "#super().__init__() \n",
    "#super(Derived, self).__init__() \n",
    "#Base.__init__(ob1) \n",
    "#super(Derived, ob1).__init__() \n",
    "\n",
    "# all calling the base class...."
   ]
  },
  {
   "cell_type": "code",
   "execution_count": 24,
   "metadata": {},
   "outputs": [],
   "source": [
    "class Animal:\n",
    "    def __init__(self, name) -> None:\n",
    "        self.name = name\n",
    "\n",
    "    def eat(self):\n",
    "        print(\"Eating\")\n",
    "\n",
    "    def sleep(self):\n",
    "        print(\"Sleeping\")\n",
    "\n",
    "\n",
    "class Prey(Animal):\n",
    "    def flee(self):\n",
    "        print (f\"{self.name} will flee\")        \n",
    "\n",
    "class Predator(Animal):\n",
    "    def hunt(self):\n",
    "        print (f\"{self.name} will hunt\")\n",
    "\n",
    "class Rabbit(Prey):\n",
    "    pass\n",
    "\n",
    "class Hawk(Predator):\n",
    "    pass\n",
    "\n",
    "class Fish(Prey, Predator):\n",
    "    pass\n",
    "\n",
    "rabbit = Rabbit(\"Bugs\")\n",
    "hawk = Hawk(\"Ethan\")\n",
    "fish = Fish(\"Nemo\")\n",
    "\n",
    "fish.hunt()\n",
    "\n",
    "hawk.eat()"
   ]
  },
  {
   "cell_type": "code",
   "execution_count": 23,
   "metadata": {},
   "outputs": [
    {
     "name": "stdout",
     "output_type": "stream",
     "text": [
      "red\n",
      "True\n",
      "2.5\n"
     ]
    }
   ],
   "source": [
    "class Shape:\n",
    "    def __init__(self, color, isFilled):\n",
    "        self.color = color\n",
    "        self.isFilled = isFilled    \n",
    "\n",
    "class Circle(Shape):\n",
    "    def __init__(self, color, isFilled, radius):\n",
    "        super().__init__(color, isFilled)\n",
    "        self.radius = radius\n",
    "\n",
    "class Square(Shape):\n",
    "    def __init__(self, color, isFilled, side): \n",
    "        super().__init__(color, isFilled)\n",
    "        self.side = side\n",
    "\n",
    "class Triangle(Shape):\n",
    "    def __init__(self, color, isFilled, height, side):\n",
    "        super().__init__(color, isFilled)\n",
    "        self.height = height\n",
    "        self.side = side\n",
    "\n",
    "circle = Circle(\"red\", True, 2.5)\n",
    "\n",
    "print(circle.color)\n",
    "print(circle.isFilled)\n",
    "print(circle.radius)"
   ]
  },
  {
   "cell_type": "code",
   "execution_count": 25,
   "metadata": {},
   "outputs": [
    {
     "name": "stdout",
     "output_type": "stream",
     "text": [
      "Base1: Constructor method is executing...\n",
      "Base1: Display method is executing...\n",
      "Base2: Display method is executing...\n",
      "Derived: Display method is executing...\n",
      "Base1: Function method is executing...\n",
      "Base2: Function method is executing...\n"
     ]
    }
   ],
   "source": [
    "class Base1: \n",
    "    def __init__(self): \n",
    "        print(\"Base1: Constructor method is executing...\") \n",
    "    def displayB1(self): \n",
    "        print(\"Base1: Display method is executing...\") \n",
    "    def function(self): \n",
    "        print(\"Base1: Function method is executing...\") \n",
    " \n",
    "class Base2: \n",
    "    def __init__(self): \n",
    "        print(\"Base2: Constructor method is executing...\") \n",
    "    def displayB2(self): \n",
    "        print(\"Base2: Display method is executing...\") \n",
    "    def function1(self): \n",
    "        print(\"Base2: Function method is executing...\") \n",
    " \n",
    "class Derived(Base1, Base2):    # it depends on \"Method Resolution Order (MRO)\"     \n",
    "    def displayD(self): \n",
    "        print(\"Derived: Display method is executing...\") \n",
    "ob1 = Derived() \n",
    "ob1.displayB1() \n",
    "ob1.displayB2() \n",
    "ob1.displayD() \n",
    "ob1.function() \n",
    "ob1.function1() "
   ]
  },
  {
   "cell_type": "code",
   "execution_count": 28,
   "metadata": {},
   "outputs": [
    {
     "name": "stdout",
     "output_type": "stream",
     "text": [
      "invalid literal for int() with base 10: 'bouy'\n",
      "You must enter a number! idiot\n",
      "This will always execute\n"
     ]
    }
   ],
   "source": [
    "try:\n",
    "    numero = int(input(\"Enter a number to divide: \"))\n",
    "    denomi = int(input(\"Enter a number to divide by:\"))\n",
    "    result = numero / denomi\n",
    "    print(result)\n",
    "\n",
    "except ZeroDivisionError as e:\n",
    "    print(e)\n",
    "    print(\"You can't divide by zero! idiot\")\n",
    "\n",
    "except ValueError as e:\n",
    "    print(e)\n",
    "    print(\"You must enter a number! idiot\")\n",
    "\n",
    "except Exception as e:\n",
    "    print(e)\n",
    "    print(\"Something went wrong!\")\n",
    "else:\n",
    "    print(\"No errors were thrown!\")\n",
    "    print(result)\n",
    "finally:\n",
    "    print(\"This will always execute\")"
   ]
  },
  {
   "cell_type": "markdown",
   "metadata": {},
   "source": [
    "#### Recursion"
   ]
  },
  {
   "cell_type": "code",
   "execution_count": 4,
   "metadata": {},
   "outputs": [
    {
     "name": "stdout",
     "output_type": "stream",
     "text": [
      "You take steps #1\n",
      "You take steps #2\n",
      "You take steps #3\n",
      "You take steps #4\n",
      "You take steps #5\n",
      "You take steps #6\n",
      "You take steps #7\n",
      "You take steps #8\n",
      "You take steps #9\n",
      "You take steps #10\n"
     ]
    }
   ],
   "source": [
    "def walk(steps):\n",
    "    if steps == 0:\n",
    "        return \n",
    "    \n",
    "    walk(steps - 1)\n",
    "    print (f\"You take steps #{steps}\")\n",
    "    \n",
    "walk (10)"
   ]
  },
  {
   "cell_type": "code",
   "execution_count": 5,
   "metadata": {},
   "outputs": [
    {
     "data": {
      "text/plain": [
       "120"
      ]
     },
     "execution_count": 5,
     "metadata": {},
     "output_type": "execute_result"
    }
   ],
   "source": [
    "def fact (x):\n",
    "    if x == 1:\n",
    "        return 1\n",
    "    else: \n",
    "        return x * fact(x - 1 )\n",
    "    \n",
    "fact (5)"
   ]
  }
 ],
 "metadata": {
  "kernelspec": {
   "display_name": "Python 3",
   "language": "python",
   "name": "python3"
  },
  "language_info": {
   "codemirror_mode": {
    "name": "ipython",
    "version": 3
   },
   "file_extension": ".py",
   "mimetype": "text/x-python",
   "name": "python",
   "nbconvert_exporter": "python",
   "pygments_lexer": "ipython3",
   "version": "3.11.7"
  }
 },
 "nbformat": 4,
 "nbformat_minor": 2
}
