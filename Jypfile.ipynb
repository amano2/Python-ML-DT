{
 "cells": [
  {
   "cell_type": "code",
   "execution_count": 1,
   "metadata": {},
   "outputs": [
    {
     "name": "stdout",
     "output_type": "stream",
     "text": [
      "Hello World\n"
     ]
    }
   ],
   "source": [
    "print(\"Hello World\")"
   ]
  },
  {
   "cell_type": "code",
   "execution_count": 1,
   "metadata": {},
   "outputs": [
    {
     "name": "stdout",
     "output_type": "stream",
     "text": [
      "True False False False\n",
      "True True True False\n",
      "False True\n"
     ]
    }
   ],
   "source": [
    "print (True and True, True and False, False and True, False and False) \n",
    "print (True or True, True or False, False or True, False or False)\n",
    "print (not True, not False)"
   ]
  },
  {
   "cell_type": "code",
   "execution_count": 1,
   "metadata": {},
   "outputs": [
    {
     "name": "stdout",
     "output_type": "stream",
     "text": [
      "140\n",
      "60\n",
      "4000\n",
      "2.5\n",
      "2\n",
      "100000000\n",
      "20\n"
     ]
    }
   ],
   "source": [
    "print (100 + 40) \n",
    "print (100 - 40) \n",
    "print (100 * 40) \n",
    "print (100 / 40) \n",
    "print (100 // 40) \n",
    "print (100 ** 4) \n",
    "print (100 % 40) "
   ]
  },
  {
   "cell_type": "code",
   "execution_count": 1,
   "metadata": {},
   "outputs": [],
   "source": [
    "import pikepdf\n",
    "old_pdf = pikepdf.Pdf.open(\"CISCE Results 2024.pdf\") \n",
    "no_extr = pikepdf.Permissions(extract = False) \n",
    "old_pdf.save(\"CISCE Results 2024_New.pdf\",encryption=pikepdf.Encryption(user = \"123\",owner = \"Aman\",allow =no_extr))"
   ]
  },
  {
   "cell_type": "code",
   "execution_count": 8,
   "metadata": {},
   "outputs": [
    {
     "name": "stdout",
     "output_type": "stream",
     "text": [
      "True True True True True True\n"
     ]
    }
   ],
   "source": [
    "print (100 > 50, 100 >= 100, 100 < 400, 100 <= 500, 100 != 200, 400 == 400)"
   ]
  }
 ],
 "metadata": {
  "kernelspec": {
   "display_name": "Python 3",
   "language": "python",
   "name": "python3"
  },
  "language_info": {
   "codemirror_mode": {
    "name": "ipython",
    "version": 3
   },
   "file_extension": ".py",
   "mimetype": "text/x-python",
   "name": "python",
   "nbconvert_exporter": "python",
   "pygments_lexer": "ipython3",
   "version": "3.9.5"
  }
 },
 "nbformat": 4,
 "nbformat_minor": 2
}
