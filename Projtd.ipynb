{
 "cells": [
  {
   "cell_type": "markdown",
   "metadata": {},
   "source": [
    "### Convert PDF to Docx"
   ]
  },
  {
   "cell_type": "code",
   "execution_count": 1,
   "metadata": {},
   "outputs": [
    {
     "name": "stdout",
     "output_type": "stream",
     "text": [
      "Collecting pdf2docx\n",
      "  Downloading pdf2docx-0.5.8-py3-none-any.whl (132 kB)\n",
      "Collecting opencv-python-headless>=4.5\n",
      "  Downloading opencv_python_headless-4.9.0.80-cp37-abi3-win_amd64.whl (38.5 MB)\n",
      "Requirement already satisfied: numpy>=1.17.2 in c:\\users\\91629\\appdata\\local\\programs\\python\\python39\\lib\\site-packages (from pdf2docx) (1.26.4)\n",
      "Collecting fonttools>=4.24.0\n",
      "  Downloading fonttools-4.53.0-cp39-cp39-win_amd64.whl (2.2 MB)\n",
      "Collecting python-docx>=0.8.10\n",
      "  Downloading python_docx-1.1.2-py3-none-any.whl (244 kB)\n",
      "Collecting PyMuPDF>=1.19.0\n",
      "  Downloading PyMuPDF-1.24.5-cp39-none-win_amd64.whl (3.2 MB)\n",
      "Collecting fire>=0.3.0\n",
      "  Downloading fire-0.6.0.tar.gz (88 kB)\n",
      "Requirement already satisfied: six in c:\\users\\91629\\appdata\\roaming\\python\\python39\\site-packages (from fire>=0.3.0->pdf2docx) (1.16.0)\n",
      "Collecting termcolor\n",
      "  Downloading termcolor-2.4.0-py3-none-any.whl (7.7 kB)\n",
      "Collecting PyMuPDFb==1.24.3\n",
      "  Downloading PyMuPDFb-1.24.3-py3-none-win_amd64.whl (12.4 MB)\n",
      "Requirement already satisfied: lxml>=3.1.0 in c:\\users\\91629\\appdata\\local\\programs\\python\\python39\\lib\\site-packages (from python-docx>=0.8.10->pdf2docx) (5.2.2)\n",
      "Requirement already satisfied: typing-extensions>=4.9.0 in c:\\users\\91629\\appdata\\roaming\\python\\python39\\site-packages (from python-docx>=0.8.10->pdf2docx) (4.12.0)\n",
      "Using legacy 'setup.py install' for fire, since package 'wheel' is not installed.\n",
      "Installing collected packages: termcolor, PyMuPDFb, python-docx, PyMuPDF, opencv-python-headless, fonttools, fire, pdf2docx\n",
      "    Running setup.py install for fire: started\n",
      "    Running setup.py install for fire: finished with status 'done'\n",
      "Successfully installed PyMuPDF-1.24.5 PyMuPDFb-1.24.3 fire-0.6.0 fonttools-4.53.0 opencv-python-headless-4.9.0.80 pdf2docx-0.5.8 python-docx-1.1.2 termcolor-2.4.0\n"
     ]
    },
    {
     "name": "stderr",
     "output_type": "stream",
     "text": [
      "WARNING: You are using pip version 21.1.1; however, version 24.0 is available.\n",
      "You should consider upgrading via the 'c:\\users\\91629\\appdata\\local\\programs\\python\\python39\\python.exe -m pip install --upgrade pip' command.\n"
     ]
    }
   ],
   "source": [
    "!pip install pdf2docx"
   ]
  },
  {
   "cell_type": "code",
   "execution_count": 3,
   "metadata": {},
   "outputs": [
    {
     "name": "stderr",
     "output_type": "stream",
     "text": [
      "[INFO] Start to convert Document 61.pdf\n",
      "[INFO] \u001b[1;36m[1/4] Opening document...\u001b[0m\n",
      "[INFO] \u001b[1;36m[2/4] Analyzing document...\u001b[0m\n",
      "[WARNING] Words count: 0. It might be a scanned pdf, which is not supported yet.\n",
      "[INFO] \u001b[1;36m[3/4] Parsing pages...\u001b[0m\n",
      "[INFO] (1/1) Page 1\n",
      "[INFO] \u001b[1;36m[4/4] Creating pages...\u001b[0m\n",
      "[INFO] (1/1) Page 1\n",
      "[INFO] Terminated in 0.21s.\n"
     ]
    }
   ],
   "source": [
    "from pdf2docx import Converter\n",
    "old_pdf = \"Document 61.pdf\"\n",
    "new_pdf = \"Document_New.docx\"\n",
    "obj = Converter(old_pdf)\n",
    "obj.convert(new_pdf)\n",
    "obj.close()"
   ]
  },
  {
   "cell_type": "markdown",
   "metadata": {},
   "source": [
    "### Turtle Color Pj"
   ]
  },
  {
   "cell_type": "code",
   "execution_count": 1,
   "metadata": {},
   "outputs": [],
   "source": [
    "import turtle as tur\n",
    "import colorsys as cs\n",
    "tur.setup(800,800)\n",
    "tur.speed(0)\n",
    "tur.tracer(10)\n",
    "tur.width(2)\n",
    "tur.bgcolor(\"black\")\n",
    "\n",
    "for j in range(25):\n",
    "    for i in range(15):\n",
    "        tur.color(cs.hsv_to_rgb(i/15,j/25,1))\n",
    "        tur.right(90)\n",
    "        tur.circle(200-j*4,90)\n",
    "        tur.left(90)\n",
    "        tur.circle(200-j*4,90)\n",
    "        tur.right(180)\n",
    "        tur.circle(50,24)\n",
    "tur.hideturtle()\n",
    "tur.done()        "
   ]
  }
 ],
 "metadata": {
  "kernelspec": {
   "display_name": "Python 3",
   "language": "python",
   "name": "python3"
  },
  "language_info": {
   "codemirror_mode": {
    "name": "ipython",
    "version": 3
   },
   "file_extension": ".py",
   "mimetype": "text/x-python",
   "name": "python",
   "nbconvert_exporter": "python",
   "pygments_lexer": "ipython3",
   "version": "3.9.5"
  }
 },
 "nbformat": 4,
 "nbformat_minor": 2
}
