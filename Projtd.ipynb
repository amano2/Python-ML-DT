{
 "cells": [
  {
   "cell_type": "markdown",
   "metadata": {},
   "source": [
    "### Convert PDF to Docx"
   ]
  },
  {
   "cell_type": "code",
   "execution_count": 1,
   "metadata": {},
   "outputs": [
    {
     "name": "stdout",
     "output_type": "stream",
     "text": [
      "Requirement already satisfied: pdf2docx in c:\\users\\91629\\anaconda3\\lib\\site-packages (0.5.8)\n",
      "Requirement already satisfied: PyMuPDF>=1.19.0 in c:\\users\\91629\\anaconda3\\lib\\site-packages (from pdf2docx) (1.24.5)\n",
      "Requirement already satisfied: python-docx>=0.8.10 in c:\\users\\91629\\anaconda3\\lib\\site-packages (from pdf2docx) (1.1.2)\n",
      "Requirement already satisfied: fonttools>=4.24.0 in c:\\users\\91629\\anaconda3\\lib\\site-packages (from pdf2docx) (4.25.0)\n",
      "Requirement already satisfied: numpy>=1.17.2 in c:\\users\\91629\\anaconda3\\lib\\site-packages (from pdf2docx) (1.26.4)\n",
      "Requirement already satisfied: opencv-python-headless>=4.5 in c:\\users\\91629\\anaconda3\\lib\\site-packages (from pdf2docx) (4.9.0.80)\n",
      "Requirement already satisfied: fire>=0.3.0 in c:\\users\\91629\\anaconda3\\lib\\site-packages (from pdf2docx) (0.6.0)\n",
      "Requirement already satisfied: six in c:\\users\\91629\\anaconda3\\lib\\site-packages (from fire>=0.3.0->pdf2docx) (1.16.0)\n",
      "Requirement already satisfied: termcolor in c:\\users\\91629\\anaconda3\\lib\\site-packages (from fire>=0.3.0->pdf2docx) (2.4.0)\n",
      "Requirement already satisfied: PyMuPDFb==1.24.3 in c:\\users\\91629\\anaconda3\\lib\\site-packages (from PyMuPDF>=1.19.0->pdf2docx) (1.24.3)\n",
      "Requirement already satisfied: lxml>=3.1.0 in c:\\users\\91629\\anaconda3\\lib\\site-packages (from python-docx>=0.8.10->pdf2docx) (4.9.3)\n",
      "Requirement already satisfied: typing-extensions>=4.9.0 in c:\\users\\91629\\anaconda3\\lib\\site-packages (from python-docx>=0.8.10->pdf2docx) (4.9.0)\n",
      "Note: you may need to restart the kernel to use updated packages.\n"
     ]
    }
   ],
   "source": [
    "%pip install pdf2docx"
   ]
  },
  {
   "cell_type": "code",
   "execution_count": 3,
   "metadata": {},
   "outputs": [
    {
     "name": "stderr",
     "output_type": "stream",
     "text": [
      "[INFO] Start to convert Document 61.pdf\n",
      "[INFO] \u001b[1;36m[1/4] Opening document...\u001b[0m\n",
      "[INFO] \u001b[1;36m[2/4] Analyzing document...\u001b[0m\n",
      "[WARNING] Words count: 0. It might be a scanned pdf, which is not supported yet.\n",
      "[INFO] \u001b[1;36m[3/4] Parsing pages...\u001b[0m\n",
      "[INFO] (1/1) Page 1\n",
      "[INFO] \u001b[1;36m[4/4] Creating pages...\u001b[0m\n",
      "[INFO] (1/1) Page 1\n",
      "[INFO] Terminated in 0.21s.\n"
     ]
    }
   ],
   "source": [
    "from pdf2docx import Converter\n",
    "old_pdf = \"Document 61.pdf\"\n",
    "new_pdf = \"Document_New.docx\"\n",
    "obj = Converter(old_pdf)\n",
    "obj.convert(new_pdf)\n",
    "obj.close()"
   ]
  },
  {
   "cell_type": "markdown",
   "metadata": {},
   "source": [
    "### Turtle Color Pj"
   ]
  },
  {
   "cell_type": "code",
   "execution_count": 1,
   "metadata": {},
   "outputs": [],
   "source": [
    "import turtle as tur\n",
    "import colorsys as cs\n",
    "tur.setup(800,800)\n",
    "tur.speed(0)\n",
    "tur.tracer(10)\n",
    "tur.width(2)\n",
    "tur.bgcolor(\"black\")\n",
    "\n",
    "for j in range(25):\n",
    "    for i in range(15):\n",
    "        tur.color(cs.hsv_to_rgb(i/15,j/25,1))\n",
    "        tur.right(90)\n",
    "        tur.circle(200-j*4,90)\n",
    "        tur.left(90)\n",
    "        tur.circle(200-j*4,90)\n",
    "        tur.right(180)\n",
    "        tur.circle(50,24)\n",
    "tur.hideturtle()\n",
    "tur.done()        "
   ]
  },
  {
   "cell_type": "code",
   "execution_count": 1,
   "metadata": {},
   "outputs": [
    {
     "name": "stdout",
     "output_type": "stream",
     "text": [
      "Valid Email...\n"
     ]
    }
   ],
   "source": [
    "email = input(\"Enter Your Email : \") \n",
    "k,j,d=0,0,0 \n",
    "if len(email)>=6: \n",
    "    if email[0].isalpha(): \n",
    "        if (\"@\" in email) and (email.count(\"@\")==1): \n",
    "            if (email[-4]==\".\") ^ (email[-3]==\".\"):  \n",
    "                for i in email: \n",
    "                    if i== i.isspace(): \n",
    "                        k=1 \n",
    "                    elif  i.isalpha(): \n",
    "                        if i== i.upper(): \n",
    "                            j=1 \n",
    "                    elif i.isdigit(): \n",
    "                        continue \n",
    "                    elif i==\"_\" or i==\".\" or i==\"@\": \n",
    "                        continue \n",
    "                    else: \n",
    "                        d=1 \n",
    "                if k==1 or j==1 or d==1: \n",
    "                    print(\"Wrong Email.....\") \n",
    "                else: \n",
    "                    print(\"Valid Email...\") \n",
    "            else: \n",
    "                print(\"Wrong Email....\") \n",
    "        else: \n",
    "            print(\"Wrong Email...\") \n",
    "                 \n",
    "    else: \n",
    "        print(\"Wrong Email..\") \n",
    "else: \n",
    "    print(\"Wrong Email.\") "
   ]
  },
  {
   "cell_type": "markdown",
   "metadata": {},
   "source": [
    "#### Minor Project"
   ]
  },
  {
   "cell_type": "code",
   "execution_count": 1,
   "metadata": {},
   "outputs": [
    {
     "name": "stdout",
     "output_type": "stream",
     "text": [
      " TIU\n"
     ]
    }
   ],
   "source": [
    "user_input = input(\"Enter a Phrase: \")\n",
    "text = user_input.split()\n",
    "a = \" \"\n",
    "for i in text:\n",
    "    a  = a + str(i[0]).upper()\n",
    "print (a)"
   ]
  },
  {
   "cell_type": "code",
   "execution_count": 3,
   "metadata": {},
   "outputs": [
    {
     "name": "stdout",
     "output_type": "stream",
     "text": [
      "192.168.97.85\n"
     ]
    }
   ],
   "source": [
    "import socket\n",
    "hostname = socket.gethostname()\n",
    "IPAddress = socket.gethostbyname(hostname)\n",
    "print (IPAddress)"
   ]
  },
  {
   "cell_type": "code",
   "execution_count": 1,
   "metadata": {},
   "outputs": [],
   "source": [
    "import numpy as np"
   ]
  }
 ],
 "metadata": {
  "kernelspec": {
   "display_name": "Python 3",
   "language": "python",
   "name": "python3"
  },
  "language_info": {
   "codemirror_mode": {
    "name": "ipython",
    "version": 3
   },
   "file_extension": ".py",
   "mimetype": "text/x-python",
   "name": "python",
   "nbconvert_exporter": "python",
   "pygments_lexer": "ipython3",
   "version": "3.11.7"
  }
 },
 "nbformat": 4,
 "nbformat_minor": 2
}
